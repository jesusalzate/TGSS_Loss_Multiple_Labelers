{
  "cells": [
    {
      "cell_type": "markdown",
      "metadata": {
        "id": "view-in-github",
        "colab_type": "text"
      },
      "source": [
        "<a href=\"https://colab.research.google.com/github/jesusalzate/TGSS_Loss_Multiple_Labelers/blob/main/Custom_Loss_Function_Prostate158.ipynb\" target=\"_parent\"><img src=\"https://colab.research.google.com/assets/colab-badge.svg\" alt=\"Open In Colab\"/></a>"
      ]
    },
    {
      "cell_type": "code",
      "execution_count": null,
      "metadata": {
        "colab": {
          "base_uri": "https://localhost:8080/"
        },
        "id": "rOXxaBDd2PED",
        "outputId": "8ca1c012-58d6-417a-bfd1-0393a650d5b6"
      },
      "outputs": [
        {
          "output_type": "stream",
          "name": "stdout",
          "text": [
            "Wed Jul 10 07:28:52 2024       \n",
            "+---------------------------------------------------------------------------------------+\n",
            "| NVIDIA-SMI 535.104.05             Driver Version: 535.104.05   CUDA Version: 12.2     |\n",
            "|-----------------------------------------+----------------------+----------------------+\n",
            "| GPU  Name                 Persistence-M | Bus-Id        Disp.A | Volatile Uncorr. ECC |\n",
            "| Fan  Temp   Perf          Pwr:Usage/Cap |         Memory-Usage | GPU-Util  Compute M. |\n",
            "|                                         |                      |               MIG M. |\n",
            "|=========================================+======================+======================|\n",
            "|   0  Tesla T4                       Off | 00000000:00:04.0 Off |                    0 |\n",
            "| N/A   52C    P8              10W /  70W |      0MiB / 15360MiB |      0%      Default |\n",
            "|                                         |                      |                  N/A |\n",
            "+-----------------------------------------+----------------------+----------------------+\n",
            "                                                                                         \n",
            "+---------------------------------------------------------------------------------------+\n",
            "| Processes:                                                                            |\n",
            "|  GPU   GI   CI        PID   Type   Process name                            GPU Memory |\n",
            "|        ID   ID                                                             Usage      |\n",
            "|=======================================================================================|\n",
            "|  No running processes found                                                           |\n",
            "+---------------------------------------------------------------------------------------+\n"
          ]
        }
      ],
      "source": [
        "!nvidia-smi"
      ]
    },
    {
      "cell_type": "markdown",
      "metadata": {
        "id": "ZiqlS_TX0RtG"
      },
      "source": [
        "## Downloading Data Prostate 158"
      ]
    },
    {
      "cell_type": "code",
      "execution_count": null,
      "metadata": {
        "colab": {
          "base_uri": "https://localhost:8080/"
        },
        "id": "geLJZL3s0Ihp",
        "outputId": "32baf778-d7df-4146-cbe6-a0266b844e34"
      },
      "outputs": [
        {
          "output_type": "stream",
          "name": "stdout",
          "text": [
            "--2024-07-10 07:28:53--  https://zenodo.org/records/6481141/files/prostate158_train.zip?download=1\n",
            "Resolving zenodo.org (zenodo.org)... 188.185.79.172, 188.184.98.238, 188.184.103.159, ...\n",
            "Connecting to zenodo.org (zenodo.org)|188.185.79.172|:443... connected.\n",
            "HTTP request sent, awaiting response... 200 OK\n",
            "Length: 2779077552 (2.6G) [application/octet-stream]\n",
            "Saving to: ‘prostate158_train.zip’\n",
            "\n",
            "prostate158_train.z 100%[===================>]   2.59G  22.0MB/s    in 2m 7s   \n",
            "\n",
            "2024-07-10 07:31:00 (20.8 MB/s) - ‘prostate158_train.zip’ saved [2779077552/2779077552]\n",
            "\n",
            "Archive:  prostate158_train.zip\n",
            "   creating: prostate158_train/\n",
            "   creating: prostate158_train/train/\n",
            "  inflating: prostate158_train/train.csv  \n",
            "   creating: prostate158_train/train/020/\n",
            " extracting: prostate158_train/train/020/adc.nii.gz  \n",
            "  inflating: prostate158_train/train/020/adc_tumor_reader1.nii.gz  \n",
            "  inflating: prostate158_train/train/020/adc_tumor_reader2.nii.gz  \n",
            " extracting: prostate158_train/train/020/dwi.nii.gz  \n",
            "  inflating: prostate158_train/train/020/t2.nii.gz  \n",
            "  inflating: prostate158_train/train/020/t2_anatomy_reader1.nii.gz  \n",
            "  inflating: prostate158_train/train/020/t2_tumor_reader1.nii.gz  \n",
            "   creating: prostate158_train/train/021/\n",
            " extracting: prostate158_train/train/021/adc.nii.gz  \n",
            "  inflating: prostate158_train/train/021/adc_tumor_reader1.nii.gz  \n",
            "  inflating: prostate158_train/train/021/adc_tumor_reader2.nii.gz  \n",
            " extracting: prostate158_train/train/021/dwi.nii.gz  \n",
            "  inflating: prostate158_train/train/021/t2.nii.gz  \n",
            "  inflating: prostate158_train/train/021/t2_anatomy_reader1.nii.gz  \n",
            "  inflating: prostate158_train/train/021/t2_tumor_reader1.nii.gz  \n",
            "   creating: prostate158_train/train/022/\n",
            " extracting: prostate158_train/train/022/adc.nii.gz  \n",
            " extracting: prostate158_train/train/022/dwi.nii.gz  \n",
            "  inflating: prostate158_train/train/022/empty.nii.gz  \n",
            "  inflating: prostate158_train/train/022/t2.nii.gz  \n",
            "  inflating: prostate158_train/train/022/t2_anatomy_reader1.nii.gz  \n",
            "   creating: prostate158_train/train/023/\n",
            " extracting: prostate158_train/train/023/adc.nii.gz  \n",
            " extracting: prostate158_train/train/023/dwi.nii.gz  \n",
            "  inflating: prostate158_train/train/023/empty.nii.gz  \n",
            "  inflating: prostate158_train/train/023/t2.nii.gz  \n",
            "  inflating: prostate158_train/train/023/t2_anatomy_reader1.nii.gz  \n",
            "   creating: prostate158_train/train/024/\n",
            " extracting: prostate158_train/train/024/adc.nii.gz  \n",
            " extracting: prostate158_train/train/024/dwi.nii.gz  \n",
            "  inflating: prostate158_train/train/024/empty.nii.gz  \n",
            "  inflating: prostate158_train/train/024/t2.nii.gz  \n",
            "  inflating: prostate158_train/train/024/t2_anatomy_reader1.nii.gz  \n",
            "   creating: prostate158_train/train/025/\n",
            " extracting: prostate158_train/train/025/adc.nii.gz  \n",
            "  inflating: prostate158_train/train/025/adc_tumor_reader1.nii.gz  \n",
            "  inflating: prostate158_train/train/025/adc_tumor_reader2.nii.gz  \n",
            " extracting: prostate158_train/train/025/dwi.nii.gz  \n",
            "  inflating: prostate158_train/train/025/t2.nii.gz  \n",
            "  inflating: prostate158_train/train/025/t2_anatomy_reader1.nii.gz  \n",
            "  inflating: prostate158_train/train/025/t2_tumor_reader1.nii.gz  \n",
            "   creating: prostate158_train/train/026/\n",
            " extracting: prostate158_train/train/026/adc.nii.gz  \n",
            " extracting: prostate158_train/train/026/dwi.nii.gz  \n",
            "  inflating: prostate158_train/train/026/empty.nii.gz  \n",
            "  inflating: prostate158_train/train/026/t2.nii.gz  \n",
            "  inflating: prostate158_train/train/026/t2_anatomy_reader1.nii.gz  \n",
            "   creating: prostate158_train/train/027/\n",
            " extracting: prostate158_train/train/027/adc.nii.gz  \n",
            "  inflating: prostate158_train/train/027/adc_tumor_reader1.nii.gz  \n",
            "  inflating: prostate158_train/train/027/adc_tumor_reader2.nii.gz  \n",
            " extracting: prostate158_train/train/027/dwi.nii.gz  \n",
            "  inflating: prostate158_train/train/027/t2.nii.gz  \n",
            "  inflating: prostate158_train/train/027/t2_anatomy_reader1.nii.gz  \n",
            "  inflating: prostate158_train/train/027/t2_tumor_reader1.nii.gz  \n",
            "   creating: prostate158_train/train/028/\n",
            " extracting: prostate158_train/train/028/adc.nii.gz  \n",
            " extracting: prostate158_train/train/028/dwi.nii.gz  \n",
            "  inflating: prostate158_train/train/028/empty.nii.gz  \n",
            "  inflating: prostate158_train/train/028/t2.nii.gz  \n",
            "  inflating: prostate158_train/train/028/t2_anatomy_reader1.nii.gz  \n",
            "   creating: prostate158_train/train/029/\n",
            " extracting: prostate158_train/train/029/adc.nii.gz  \n",
            "  inflating: prostate158_train/train/029/adc_tumor_reader1.nii.gz  \n",
            "  inflating: prostate158_train/train/029/adc_tumor_reader2.nii.gz  \n",
            " extracting: prostate158_train/train/029/dwi.nii.gz  \n",
            "  inflating: prostate158_train/train/029/t2.nii.gz  \n",
            "  inflating: prostate158_train/train/029/t2_anatomy_reader1.nii.gz  \n",
            "  inflating: prostate158_train/train/029/t2_tumor_reader1.nii.gz  \n",
            "   creating: prostate158_train/train/030/\n",
            " extracting: prostate158_train/train/030/adc.nii.gz  \n",
            "  inflating: prostate158_train/train/030/adc_tumor_reader1.nii.gz  \n",
            "  inflating: prostate158_train/train/030/adc_tumor_reader2.nii.gz  \n",
            " extracting: prostate158_train/train/030/dwi.nii.gz  \n",
            "  inflating: prostate158_train/train/030/t2.nii.gz  \n",
            "  inflating: prostate158_train/train/030/t2_anatomy_reader1.nii.gz  \n",
            "  inflating: prostate158_train/train/030/t2_tumor_reader1.nii.gz  \n",
            "   creating: prostate158_train/train/031/\n",
            " extracting: prostate158_train/train/031/adc.nii.gz  \n",
            "  inflating: prostate158_train/train/031/adc_tumor_reader1.nii.gz  \n",
            "  inflating: prostate158_train/train/031/adc_tumor_reader2.nii.gz  \n",
            " extracting: prostate158_train/train/031/dwi.nii.gz  \n",
            "  inflating: prostate158_train/train/031/t2.nii.gz  \n",
            "  inflating: prostate158_train/train/031/t2_anatomy_reader1.nii.gz  \n",
            "  inflating: prostate158_train/train/031/t2_tumor_reader1.nii.gz  \n",
            "   creating: prostate158_train/train/032/\n",
            " extracting: prostate158_train/train/032/adc.nii.gz  \n",
            "  inflating: prostate158_train/train/032/adc_tumor_reader1.nii.gz  \n",
            "  inflating: prostate158_train/train/032/adc_tumor_reader2.nii.gz  \n",
            " extracting: prostate158_train/train/032/dwi.nii.gz  \n",
            "  inflating: prostate158_train/train/032/t2.nii.gz  \n",
            "  inflating: prostate158_train/train/032/t2_anatomy_reader1.nii.gz  \n",
            "  inflating: prostate158_train/train/032/t2_tumor_reader1.nii.gz  \n",
            "   creating: prostate158_train/train/033/\n",
            " extracting: prostate158_train/train/033/adc.nii.gz  \n",
            "  inflating: prostate158_train/train/033/adc_tumor_reader1.nii.gz  \n",
            " extracting: prostate158_train/train/033/dwi.nii.gz  \n",
            "  inflating: prostate158_train/train/033/t2.nii.gz  \n",
            "  inflating: prostate158_train/train/033/t2_anatomy_reader1.nii.gz  \n",
            "  inflating: prostate158_train/train/033/t2_tumor_reader1.nii.gz  \n",
            "   creating: prostate158_train/train/034/\n",
            " extracting: prostate158_train/train/034/adc.nii.gz  \n",
            " extracting: prostate158_train/train/034/dwi.nii.gz  \n",
            "  inflating: prostate158_train/train/034/empty.nii.gz  \n",
            "  inflating: prostate158_train/train/034/t2.nii.gz  \n",
            "  inflating: prostate158_train/train/034/t2_anatomy_reader1.nii.gz  \n",
            "   creating: prostate158_train/train/035/\n",
            " extracting: prostate158_train/train/035/adc.nii.gz  \n",
            "  inflating: prostate158_train/train/035/adc_tumor_reader1.nii.gz  \n",
            " extracting: prostate158_train/train/035/dwi.nii.gz  \n",
            "  inflating: prostate158_train/train/035/t2.nii.gz  \n",
            "  inflating: prostate158_train/train/035/t2_anatomy_reader1.nii.gz  \n",
            "  inflating: prostate158_train/train/035/t2_tumor_reader1.nii.gz  \n",
            "   creating: prostate158_train/train/036/\n",
            " extracting: prostate158_train/train/036/adc.nii.gz  \n",
            "  inflating: prostate158_train/train/036/adc_tumor_reader1.nii.gz  \n",
            "  inflating: prostate158_train/train/036/adc_tumor_reader2.nii.gz  \n",
            " extracting: prostate158_train/train/036/dwi.nii.gz  \n",
            "  inflating: prostate158_train/train/036/t2.nii.gz  \n",
            "  inflating: prostate158_train/train/036/t2_anatomy_reader1.nii.gz  \n",
            "  inflating: prostate158_train/train/036/t2_tumor_reader1.nii.gz  \n",
            "   creating: prostate158_train/train/037/\n",
            " extracting: prostate158_train/train/037/adc.nii.gz  \n",
            " extracting: prostate158_train/train/037/dwi.nii.gz  \n",
            "  inflating: prostate158_train/train/037/empty.nii.gz  \n",
            "  inflating: prostate158_train/train/037/t2.nii.gz  \n",
            "  inflating: prostate158_train/train/037/t2_anatomy_reader1.nii.gz  \n",
            "   creating: prostate158_train/train/038/\n",
            " extracting: prostate158_train/train/038/adc.nii.gz  \n",
            "  inflating: prostate158_train/train/038/adc_tumor_reader1.nii.gz  \n",
            " extracting: prostate158_train/train/038/dwi.nii.gz  \n",
            "  inflating: prostate158_train/train/038/t2.nii.gz  \n",
            "  inflating: prostate158_train/train/038/t2_anatomy_reader1.nii.gz  \n",
            "  inflating: prostate158_train/train/038/t2_tumor_reader1.nii.gz  \n",
            "   creating: prostate158_train/train/039/\n",
            " extracting: prostate158_train/train/039/adc.nii.gz  \n",
            "  inflating: prostate158_train/train/039/adc_tumor_reader1.nii.gz  \n",
            "  inflating: prostate158_train/train/039/adc_tumor_reader2.nii.gz  \n",
            " extracting: prostate158_train/train/039/dwi.nii.gz  \n",
            "  inflating: prostate158_train/train/039/t2.nii.gz  \n",
            "  inflating: prostate158_train/train/039/t2_anatomy_reader1.nii.gz  \n",
            "  inflating: prostate158_train/train/039/t2_tumor_reader1.nii.gz  \n",
            "   creating: prostate158_train/train/040/\n",
            " extracting: prostate158_train/train/040/adc.nii.gz  \n",
            " extracting: prostate158_train/train/040/dwi.nii.gz  \n",
            "  inflating: prostate158_train/train/040/empty.nii.gz  \n",
            "  inflating: prostate158_train/train/040/t2.nii.gz  \n",
            "  inflating: prostate158_train/train/040/t2_anatomy_reader1.nii.gz  \n",
            "   creating: prostate158_train/train/041/\n",
            " extracting: prostate158_train/train/041/adc.nii.gz  \n",
            "  inflating: prostate158_train/train/041/adc_tumor_reader1.nii.gz  \n",
            "  inflating: prostate158_train/train/041/adc_tumor_reader2.nii.gz  \n",
            " extracting: prostate158_train/train/041/dwi.nii.gz  \n",
            "  inflating: prostate158_train/train/041/t2.nii.gz  \n",
            "  inflating: prostate158_train/train/041/t2_anatomy_reader1.nii.gz  \n",
            "  inflating: prostate158_train/train/041/t2_tumor_reader1.nii.gz  \n",
            "   creating: prostate158_train/train/042/\n",
            "  inflating: prostate158_train/train/042/adc.nii.gz  \n",
            "  inflating: prostate158_train/train/042/dwi.nii.gz  \n",
            "  inflating: prostate158_train/train/042/empty.nii.gz  \n",
            "  inflating: prostate158_train/train/042/t2.nii.gz  \n",
            "  inflating: prostate158_train/train/042/t2_anatomy_reader1.nii.gz  \n",
            "   creating: prostate158_train/train/043/\n",
            " extracting: prostate158_train/train/043/adc.nii.gz  \n",
            "  inflating: prostate158_train/train/043/adc_tumor_reader1.nii.gz  \n",
            "  inflating: prostate158_train/train/043/adc_tumor_reader2.nii.gz  \n",
            " extracting: prostate158_train/train/043/dwi.nii.gz  \n",
            "  inflating: prostate158_train/train/043/t2.nii.gz  \n",
            "  inflating: prostate158_train/train/043/t2_anatomy_reader1.nii.gz  \n",
            "  inflating: prostate158_train/train/043/t2_tumor_reader1.nii.gz  \n",
            "   creating: prostate158_train/train/044/\n",
            " extracting: prostate158_train/train/044/adc.nii.gz  \n",
            " extracting: prostate158_train/train/044/dwi.nii.gz  \n",
            "  inflating: prostate158_train/train/044/empty.nii.gz  \n",
            "  inflating: prostate158_train/train/044/t2.nii.gz  \n",
            "  inflating: prostate158_train/train/044/t2_anatomy_reader1.nii.gz  \n",
            "   creating: prostate158_train/train/045/\n",
            " extracting: prostate158_train/train/045/adc.nii.gz  \n",
            "  inflating: prostate158_train/train/045/adc_tumor_reader1.nii.gz  \n",
            "  inflating: prostate158_train/train/045/adc_tumor_reader2.nii.gz  \n",
            " extracting: prostate158_train/train/045/dwi.nii.gz  \n",
            "  inflating: prostate158_train/train/045/t2.nii.gz  \n",
            "  inflating: prostate158_train/train/045/t2_anatomy_reader1.nii.gz  \n",
            "  inflating: prostate158_train/train/045/t2_tumor_reader1.nii.gz  \n",
            "   creating: prostate158_train/train/046/\n",
            " extracting: prostate158_train/train/046/adc.nii.gz  \n",
            "  inflating: prostate158_train/train/046/adc_tumor_reader1.nii.gz  \n",
            "  inflating: prostate158_train/train/046/adc_tumor_reader2.nii.gz  \n",
            " extracting: prostate158_train/train/046/dwi.nii.gz  \n",
            "  inflating: prostate158_train/train/046/t2.nii.gz  \n",
            "  inflating: prostate158_train/train/046/t2_anatomy_reader1.nii.gz  \n",
            "  inflating: prostate158_train/train/046/t2_tumor_reader1.nii.gz  \n",
            "   creating: prostate158_train/train/047/\n",
            " extracting: prostate158_train/train/047/adc.nii.gz  \n",
            " extracting: prostate158_train/train/047/dwi.nii.gz  \n",
            "  inflating: prostate158_train/train/047/empty.nii.gz  \n",
            "  inflating: prostate158_train/train/047/t2.nii.gz  \n",
            "  inflating: prostate158_train/train/047/t2_anatomy_reader1.nii.gz  \n",
            "   creating: prostate158_train/train/048/\n",
            " extracting: prostate158_train/train/048/adc.nii.gz  \n",
            "  inflating: prostate158_train/train/048/adc_tumor_reader1.nii.gz  \n",
            "  inflating: prostate158_train/train/048/adc_tumor_reader2.nii.gz  \n",
            " extracting: prostate158_train/train/048/dwi.nii.gz  \n",
            "  inflating: prostate158_train/train/048/t2.nii.gz  \n",
            "  inflating: prostate158_train/train/048/t2_anatomy_reader1.nii.gz  \n",
            "  inflating: prostate158_train/train/048/t2_tumor_reader1.nii.gz  \n",
            "   creating: prostate158_train/train/049/\n",
            " extracting: prostate158_train/train/049/adc.nii.gz  \n",
            "  inflating: prostate158_train/train/049/dwi.nii.gz  \n",
            "  inflating: prostate158_train/train/049/empty.nii.gz  \n",
            "  inflating: prostate158_train/train/049/t2.nii.gz  \n",
            "  inflating: prostate158_train/train/049/t2_anatomy_reader1.nii.gz  \n",
            "   creating: prostate158_train/train/050/\n",
            " extracting: prostate158_train/train/050/adc.nii.gz  \n",
            "  inflating: prostate158_train/train/050/adc_tumor_reader1.nii.gz  \n",
            " extracting: prostate158_train/train/050/dwi.nii.gz  \n",
            "  inflating: prostate158_train/train/050/t2.nii.gz  \n",
            "  inflating: prostate158_train/train/050/t2_anatomy_reader1.nii.gz  \n",
            "  inflating: prostate158_train/train/050/t2_tumor_reader1.nii.gz  \n",
            "   creating: prostate158_train/train/051/\n",
            " extracting: prostate158_train/train/051/adc.nii.gz  \n",
            "  inflating: prostate158_train/train/051/adc_tumor_reader1.nii.gz  \n",
            "  inflating: prostate158_train/train/051/adc_tumor_reader2.nii.gz  \n",
            " extracting: prostate158_train/train/051/dwi.nii.gz  \n",
            "  inflating: prostate158_train/train/051/t2.nii.gz  \n",
            "  inflating: prostate158_train/train/051/t2_anatomy_reader1.nii.gz  \n",
            "  inflating: prostate158_train/train/051/t2_tumor_reader1.nii.gz  \n",
            "   creating: prostate158_train/train/052/\n",
            " extracting: prostate158_train/train/052/adc.nii.gz  \n",
            "  inflating: prostate158_train/train/052/adc_tumor_reader1.nii.gz  \n",
            "  inflating: prostate158_train/train/052/adc_tumor_reader2.nii.gz  \n",
            " extracting: prostate158_train/train/052/dwi.nii.gz  \n",
            "  inflating: prostate158_train/train/052/t2.nii.gz  \n",
            "  inflating: prostate158_train/train/052/t2_anatomy_reader1.nii.gz  \n",
            "  inflating: prostate158_train/train/052/t2_tumor_reader1.nii.gz  \n",
            "   creating: prostate158_train/train/053/\n",
            " extracting: prostate158_train/train/053/adc.nii.gz  \n",
            "  inflating: prostate158_train/train/053/adc_tumor_reader1.nii.gz  \n",
            "  inflating: prostate158_train/train/053/adc_tumor_reader2.nii.gz  \n",
            " extracting: prostate158_train/train/053/dwi.nii.gz  \n",
            "  inflating: prostate158_train/train/053/t2.nii.gz  \n",
            "  inflating: prostate158_train/train/053/t2_anatomy_reader1.nii.gz  \n",
            "  inflating: prostate158_train/train/053/t2_tumor_reader1.nii.gz  \n",
            "   creating: prostate158_train/train/054/\n",
            " extracting: prostate158_train/train/054/adc.nii.gz  \n",
            " extracting: prostate158_train/train/054/dwi.nii.gz  \n",
            "  inflating: prostate158_train/train/054/empty.nii.gz  \n",
            "  inflating: prostate158_train/train/054/t2.nii.gz  \n",
            "  inflating: prostate158_train/train/054/t2_anatomy_reader1.nii.gz  \n",
            "   creating: prostate158_train/train/055/\n",
            " extracting: prostate158_train/train/055/adc.nii.gz  \n",
            " extracting: prostate158_train/train/055/dwi.nii.gz  \n",
            "  inflating: prostate158_train/train/055/empty.nii.gz  \n",
            "  inflating: prostate158_train/train/055/t2.nii.gz  \n",
            "  inflating: prostate158_train/train/055/t2_anatomy_reader1.nii.gz  \n",
            "   creating: prostate158_train/train/056/\n",
            " extracting: prostate158_train/train/056/adc.nii.gz  \n",
            " extracting: prostate158_train/train/056/dwi.nii.gz  \n",
            "  inflating: prostate158_train/train/056/empty.nii.gz  \n",
            "  inflating: prostate158_train/train/056/t2.nii.gz  \n",
            "  inflating: prostate158_train/train/056/t2_anatomy_reader1.nii.gz  \n",
            "   creating: prostate158_train/train/057/\n",
            " extracting: prostate158_train/train/057/adc.nii.gz  \n",
            "  inflating: prostate158_train/train/057/adc_tumor_reader1.nii.gz  \n",
            "  inflating: prostate158_train/train/057/adc_tumor_reader2.nii.gz  \n",
            " extracting: prostate158_train/train/057/dwi.nii.gz  \n",
            "  inflating: prostate158_train/train/057/t2.nii.gz  \n",
            "  inflating: prostate158_train/train/057/t2_anatomy_reader1.nii.gz  \n",
            "  inflating: prostate158_train/train/057/t2_tumor_reader1.nii.gz  \n",
            "   creating: prostate158_train/train/058/\n",
            " extracting: prostate158_train/train/058/adc.nii.gz  \n",
            "  inflating: prostate158_train/train/058/adc_tumor_reader1.nii.gz  \n",
            "  inflating: prostate158_train/train/058/adc_tumor_reader2.nii.gz  \n",
            " extracting: prostate158_train/train/058/dwi.nii.gz  \n",
            "  inflating: prostate158_train/train/058/t2.nii.gz  \n",
            "  inflating: prostate158_train/train/058/t2_anatomy_reader1.nii.gz  \n",
            "  inflating: prostate158_train/train/058/t2_tumor_reader1.nii.gz  \n",
            "   creating: prostate158_train/train/059/\n",
            " extracting: prostate158_train/train/059/adc.nii.gz  \n",
            "  inflating: prostate158_train/train/059/adc_tumor_reader1.nii.gz  \n",
            "  inflating: prostate158_train/train/059/adc_tumor_reader2.nii.gz  \n",
            " extracting: prostate158_train/train/059/dwi.nii.gz  \n",
            "  inflating: prostate158_train/train/059/t2.nii.gz  \n",
            "  inflating: prostate158_train/train/059/t2_anatomy_reader1.nii.gz  \n",
            "  inflating: prostate158_train/train/059/t2_tumor_reader1.nii.gz  \n",
            "   creating: prostate158_train/train/060/\n",
            " extracting: prostate158_train/train/060/adc.nii.gz  \n",
            "  inflating: prostate158_train/train/060/adc_tumor_reader1.nii.gz  \n",
            "  inflating: prostate158_train/train/060/adc_tumor_reader2.nii.gz  \n",
            " extracting: prostate158_train/train/060/dwi.nii.gz  \n",
            "  inflating: prostate158_train/train/060/t2.nii.gz  \n",
            "  inflating: prostate158_train/train/060/t2_anatomy_reader1.nii.gz  \n",
            "  inflating: prostate158_train/train/060/t2_tumor_reader1.nii.gz  \n",
            "   creating: prostate158_train/train/061/\n",
            " extracting: prostate158_train/train/061/adc.nii.gz  \n",
            " extracting: prostate158_train/train/061/dwi.nii.gz  \n",
            "  inflating: prostate158_train/train/061/empty.nii.gz  \n",
            "  inflating: prostate158_train/train/061/t2.nii.gz  \n",
            "  inflating: prostate158_train/train/061/t2_anatomy_reader1.nii.gz  \n",
            "   creating: prostate158_train/train/062/\n",
            " extracting: prostate158_train/train/062/adc.nii.gz  \n",
            " extracting: prostate158_train/train/062/dwi.nii.gz  \n",
            "  inflating: prostate158_train/train/062/empty.nii.gz  \n",
            "  inflating: prostate158_train/train/062/t2.nii.gz  \n",
            "  inflating: prostate158_train/train/062/t2_anatomy_reader1.nii.gz  \n",
            "   creating: prostate158_train/train/063/\n",
            " extracting: prostate158_train/train/063/adc.nii.gz  \n",
            "  inflating: prostate158_train/train/063/adc_tumor_reader1.nii.gz  \n",
            "  inflating: prostate158_train/train/063/adc_tumor_reader2.nii.gz  \n",
            " extracting: prostate158_train/train/063/dwi.nii.gz  \n",
            "  inflating: prostate158_train/train/063/t2.nii.gz  \n",
            "  inflating: prostate158_train/train/063/t2_anatomy_reader1.nii.gz  \n",
            "  inflating: prostate158_train/train/063/t2_tumor_reader1.nii.gz  \n",
            "   creating: prostate158_train/train/064/\n",
            " extracting: prostate158_train/train/064/adc.nii.gz  \n",
            "  inflating: prostate158_train/train/064/adc_tumor_reader1.nii.gz  \n",
            " extracting: prostate158_train/train/064/dwi.nii.gz  \n",
            "  inflating: prostate158_train/train/064/t2.nii.gz  \n",
            "  inflating: prostate158_train/train/064/t2_anatomy_reader1.nii.gz  \n",
            "  inflating: prostate158_train/train/064/t2_tumor_reader1.nii.gz  \n",
            "   creating: prostate158_train/train/065/\n",
            " extracting: prostate158_train/train/065/adc.nii.gz  \n",
            "  inflating: prostate158_train/train/065/adc_tumor_reader1.nii.gz  \n",
            " extracting: prostate158_train/train/065/dwi.nii.gz  \n",
            "  inflating: prostate158_train/train/065/t2.nii.gz  \n",
            "  inflating: prostate158_train/train/065/t2_anatomy_reader1.nii.gz  \n",
            "  inflating: prostate158_train/train/065/t2_tumor_reader1.nii.gz  \n",
            "   creating: prostate158_train/train/066/\n",
            " extracting: prostate158_train/train/066/adc.nii.gz  \n",
            "  inflating: prostate158_train/train/066/adc_tumor_reader1.nii.gz  \n",
            " extracting: prostate158_train/train/066/dwi.nii.gz  \n",
            "  inflating: prostate158_train/train/066/t2.nii.gz  \n",
            "  inflating: prostate158_train/train/066/t2_anatomy_reader1.nii.gz  \n",
            "   creating: prostate158_train/train/067/\n",
            " extracting: prostate158_train/train/067/adc.nii.gz  \n",
            " extracting: prostate158_train/train/067/dwi.nii.gz  \n",
            "  inflating: prostate158_train/train/067/empty.nii.gz  \n",
            "  inflating: prostate158_train/train/067/t2.nii.gz  \n",
            "  inflating: prostate158_train/train/067/t2_anatomy_reader1.nii.gz  \n",
            "   creating: prostate158_train/train/068/\n",
            " extracting: prostate158_train/train/068/adc.nii.gz  \n",
            " extracting: prostate158_train/train/068/dwi.nii.gz  \n",
            "  inflating: prostate158_train/train/068/empty.nii.gz  \n",
            "  inflating: prostate158_train/train/068/t2.nii.gz  \n",
            "  inflating: prostate158_train/train/068/t2_anatomy_reader1.nii.gz  \n",
            "   creating: prostate158_train/train/069/\n",
            " extracting: prostate158_train/train/069/adc.nii.gz  \n",
            " extracting: prostate158_train/train/069/dwi.nii.gz  \n",
            "  inflating: prostate158_train/train/069/empty.nii.gz  \n",
            "  inflating: prostate158_train/train/069/t2.nii.gz  \n",
            "  inflating: prostate158_train/train/069/t2_anatomy_reader1.nii.gz  \n",
            "   creating: prostate158_train/train/070/\n",
            " extracting: prostate158_train/train/070/adc.nii.gz  \n",
            " extracting: prostate158_train/train/070/dwi.nii.gz  \n",
            "  inflating: prostate158_train/train/070/empty.nii.gz  \n",
            "  inflating: prostate158_train/train/070/t2.nii.gz  \n",
            "  inflating: prostate158_train/train/070/t2_anatomy_reader1.nii.gz  \n",
            "   creating: prostate158_train/train/071/\n",
            " extracting: prostate158_train/train/071/adc.nii.gz  \n",
            " extracting: prostate158_train/train/071/dwi.nii.gz  \n",
            "  inflating: prostate158_train/train/071/empty.nii.gz  \n",
            "  inflating: prostate158_train/train/071/t2.nii.gz  \n",
            "  inflating: prostate158_train/train/071/t2_anatomy_reader1.nii.gz  \n",
            "   creating: prostate158_train/train/072/\n",
            " extracting: prostate158_train/train/072/adc.nii.gz  \n",
            " extracting: prostate158_train/train/072/dwi.nii.gz  \n",
            "  inflating: prostate158_train/train/072/empty.nii.gz  \n",
            "  inflating: prostate158_train/train/072/t2.nii.gz  \n",
            "  inflating: prostate158_train/train/072/t2_anatomy_reader1.nii.gz  \n",
            "   creating: prostate158_train/train/073/\n",
            " extracting: prostate158_train/train/073/adc.nii.gz  \n",
            "  inflating: prostate158_train/train/073/adc_tumor_reader1.nii.gz  \n",
            " extracting: prostate158_train/train/073/dwi.nii.gz  \n",
            "  inflating: prostate158_train/train/073/t2.nii.gz  \n",
            "  inflating: prostate158_train/train/073/t2_anatomy_reader1.nii.gz  \n",
            "  inflating: prostate158_train/train/073/t2_tumor_reader1.nii.gz  \n",
            "   creating: prostate158_train/train/074/\n",
            " extracting: prostate158_train/train/074/adc.nii.gz  \n",
            "  inflating: prostate158_train/train/074/adc_tumor_reader1.nii.gz  \n",
            "  inflating: prostate158_train/train/074/adc_tumor_reader2.nii.gz  \n",
            " extracting: prostate158_train/train/074/dwi.nii.gz  \n",
            "  inflating: prostate158_train/train/074/t2.nii.gz  \n",
            "  inflating: prostate158_train/train/074/t2_anatomy_reader1.nii.gz  \n",
            "  inflating: prostate158_train/train/074/t2_tumor_reader1.nii.gz  \n",
            "   creating: prostate158_train/train/075/\n",
            " extracting: prostate158_train/train/075/adc.nii.gz  \n",
            "  inflating: prostate158_train/train/075/adc_tumor_reader1.nii.gz  \n",
            "  inflating: prostate158_train/train/075/adc_tumor_reader2.nii.gz  \n",
            " extracting: prostate158_train/train/075/dwi.nii.gz  \n",
            "  inflating: prostate158_train/train/075/t2.nii.gz  \n",
            "  inflating: prostate158_train/train/075/t2_anatomy_reader1.nii.gz  \n",
            "  inflating: prostate158_train/train/075/t2_tumor_reader1.nii.gz  \n",
            "   creating: prostate158_train/train/076/\n",
            " extracting: prostate158_train/train/076/adc.nii.gz  \n",
            "  inflating: prostate158_train/train/076/adc_tumor_reader1.nii.gz  \n",
            "  inflating: prostate158_train/train/076/adc_tumor_reader2.nii.gz  \n",
            " extracting: prostate158_train/train/076/dwi.nii.gz  \n",
            "  inflating: prostate158_train/train/076/t2.nii.gz  \n",
            "  inflating: prostate158_train/train/076/t2_anatomy_reader1.nii.gz  \n",
            "  inflating: prostate158_train/train/076/t2_tumor_reader1.nii.gz  \n",
            "   creating: prostate158_train/train/077/\n",
            " extracting: prostate158_train/train/077/adc.nii.gz  \n",
            "  inflating: prostate158_train/train/077/adc_tumor_reader1.nii.gz  \n",
            " extracting: prostate158_train/train/077/dwi.nii.gz  \n",
            "  inflating: prostate158_train/train/077/t2.nii.gz  \n",
            "  inflating: prostate158_train/train/077/t2_anatomy_reader1.nii.gz  \n",
            "  inflating: prostate158_train/train/077/t2_tumor_reader1.nii.gz  \n",
            "   creating: prostate158_train/train/078/\n",
            " extracting: prostate158_train/train/078/adc.nii.gz  \n",
            "  inflating: prostate158_train/train/078/adc_tumor_reader1.nii.gz  \n",
            "  inflating: prostate158_train/train/078/adc_tumor_reader2.nii.gz  \n",
            " extracting: prostate158_train/train/078/dwi.nii.gz  \n",
            "  inflating: prostate158_train/train/078/t2.nii.gz  \n",
            "  inflating: prostate158_train/train/078/t2_anatomy_reader1.nii.gz  \n",
            "  inflating: prostate158_train/train/078/t2_tumor_reader1.nii.gz  \n",
            "   creating: prostate158_train/train/079/\n",
            " extracting: prostate158_train/train/079/adc.nii.gz  \n",
            "  inflating: prostate158_train/train/079/adc_tumor_reader1.nii.gz  \n",
            "  inflating: prostate158_train/train/079/adc_tumor_reader2.nii.gz  \n",
            " extracting: prostate158_train/train/079/dwi.nii.gz  \n",
            "  inflating: prostate158_train/train/079/t2.nii.gz  \n",
            "  inflating: prostate158_train/train/079/t2_anatomy_reader1.nii.gz  \n",
            "  inflating: prostate158_train/train/079/t2_tumor_reader1.nii.gz  \n",
            "   creating: prostate158_train/train/080/\n",
            " extracting: prostate158_train/train/080/adc.nii.gz  \n",
            "  inflating: prostate158_train/train/080/adc_tumor_reader1.nii.gz  \n",
            "  inflating: prostate158_train/train/080/adc_tumor_reader2.nii.gz  \n",
            " extracting: prostate158_train/train/080/dwi.nii.gz  \n",
            "  inflating: prostate158_train/train/080/t2.nii.gz  \n",
            "  inflating: prostate158_train/train/080/t2_anatomy_reader1.nii.gz  \n",
            "  inflating: prostate158_train/train/080/t2_tumor_reader1.nii.gz  \n",
            "   creating: prostate158_train/train/081/\n",
            " extracting: prostate158_train/train/081/adc.nii.gz  \n",
            "  inflating: prostate158_train/train/081/adc_tumor_reader1.nii.gz  \n",
            "  inflating: prostate158_train/train/081/adc_tumor_reader2.nii.gz  \n",
            " extracting: prostate158_train/train/081/dwi.nii.gz  \n",
            "  inflating: prostate158_train/train/081/t2.nii.gz  \n",
            "  inflating: prostate158_train/train/081/t2_anatomy_reader1.nii.gz  \n",
            "  inflating: prostate158_train/train/081/t2_tumor_reader1.nii.gz  \n",
            "   creating: prostate158_train/train/082/\n",
            " extracting: prostate158_train/train/082/adc.nii.gz  \n",
            "  inflating: prostate158_train/train/082/adc_tumor_reader1.nii.gz  \n",
            "  inflating: prostate158_train/train/082/adc_tumor_reader2.nii.gz  \n",
            " extracting: prostate158_train/train/082/dwi.nii.gz  \n",
            "  inflating: prostate158_train/train/082/t2.nii.gz  \n",
            "  inflating: prostate158_train/train/082/t2_anatomy_reader1.nii.gz  \n",
            "  inflating: prostate158_train/train/082/t2_tumor_reader1.nii.gz  \n",
            "   creating: prostate158_train/train/083/\n",
            "  inflating: prostate158_train/train/083/adc.nii.gz  \n",
            "  inflating: prostate158_train/train/083/dwi.nii.gz  \n",
            "  inflating: prostate158_train/train/083/empty.nii.gz  \n",
            "  inflating: prostate158_train/train/083/t2.nii.gz  \n",
            "  inflating: prostate158_train/train/083/t2_anatomy_reader1.nii.gz  \n",
            "   creating: prostate158_train/train/084/\n",
            " extracting: prostate158_train/train/084/adc.nii.gz  \n",
            " extracting: prostate158_train/train/084/dwi.nii.gz  \n",
            "  inflating: prostate158_train/train/084/empty.nii.gz  \n",
            "  inflating: prostate158_train/train/084/t2.nii.gz  \n",
            "  inflating: prostate158_train/train/084/t2_anatomy_reader1.nii.gz  \n",
            "   creating: prostate158_train/train/085/\n",
            " extracting: prostate158_train/train/085/adc.nii.gz  \n",
            " extracting: prostate158_train/train/085/dwi.nii.gz  \n",
            "  inflating: prostate158_train/train/085/empty.nii.gz  \n",
            "  inflating: prostate158_train/train/085/t2.nii.gz  \n",
            "  inflating: prostate158_train/train/085/t2_anatomy_reader1.nii.gz  \n",
            "   creating: prostate158_train/train/086/\n",
            " extracting: prostate158_train/train/086/adc.nii.gz  \n",
            "  inflating: prostate158_train/train/086/adc_tumor_reader1.nii.gz  \n",
            "  inflating: prostate158_train/train/086/adc_tumor_reader2.nii.gz  \n",
            " extracting: prostate158_train/train/086/dwi.nii.gz  \n",
            "  inflating: prostate158_train/train/086/t2.nii.gz  \n",
            "  inflating: prostate158_train/train/086/t2_anatomy_reader1.nii.gz  \n",
            "  inflating: prostate158_train/train/086/t2_tumor_reader1.nii.gz  \n",
            "   creating: prostate158_train/train/087/\n",
            " extracting: prostate158_train/train/087/adc.nii.gz  \n",
            " extracting: prostate158_train/train/087/dwi.nii.gz  \n",
            "  inflating: prostate158_train/train/087/empty.nii.gz  \n",
            "  inflating: prostate158_train/train/087/t2.nii.gz  \n",
            "  inflating: prostate158_train/train/087/t2_anatomy_reader1.nii.gz  \n",
            "   creating: prostate158_train/train/088/\n",
            " extracting: prostate158_train/train/088/adc.nii.gz  \n",
            "  inflating: prostate158_train/train/088/adc_tumor_reader1.nii.gz  \n",
            "  inflating: prostate158_train/train/088/adc_tumor_reader2.nii.gz  \n",
            " extracting: prostate158_train/train/088/dwi.nii.gz  \n",
            "  inflating: prostate158_train/train/088/t2.nii.gz  \n",
            "  inflating: prostate158_train/train/088/t2_anatomy_reader1.nii.gz  \n",
            "  inflating: prostate158_train/train/088/t2_tumor_reader1.nii.gz  \n",
            "   creating: prostate158_train/train/089/\n",
            " extracting: prostate158_train/train/089/adc.nii.gz  \n",
            "  inflating: prostate158_train/train/089/adc_tumor_reader1.nii.gz  \n",
            "  inflating: prostate158_train/train/089/adc_tumor_reader2.nii.gz  \n",
            " extracting: prostate158_train/train/089/dwi.nii.gz  \n",
            "  inflating: prostate158_train/train/089/t2.nii.gz  \n",
            "  inflating: prostate158_train/train/089/t2_anatomy_reader1.nii.gz  \n",
            "  inflating: prostate158_train/train/089/t2_tumor_reader1.nii.gz  \n",
            "   creating: prostate158_train/train/090/\n",
            " extracting: prostate158_train/train/090/adc.nii.gz  \n",
            "  inflating: prostate158_train/train/090/adc_tumor_reader1.nii.gz  \n",
            "  inflating: prostate158_train/train/090/adc_tumor_reader2.nii.gz  \n",
            " extracting: prostate158_train/train/090/dwi.nii.gz  \n",
            "  inflating: prostate158_train/train/090/t2.nii.gz  \n",
            "  inflating: prostate158_train/train/090/t2_anatomy_reader1.nii.gz  \n",
            "  inflating: prostate158_train/train/090/t2_tumor_reader1.nii.gz  \n",
            "   creating: prostate158_train/train/091/\n",
            " extracting: prostate158_train/train/091/adc.nii.gz  \n",
            " extracting: prostate158_train/train/091/dwi.nii.gz  \n",
            "  inflating: prostate158_train/train/091/empty.nii.gz  \n",
            "  inflating: prostate158_train/train/091/t2.nii.gz  \n",
            "  inflating: prostate158_train/train/091/t2_anatomy_reader1.nii.gz  \n",
            "   creating: prostate158_train/train/092/\n",
            " extracting: prostate158_train/train/092/adc.nii.gz  \n",
            "  inflating: prostate158_train/train/092/adc_tumor_reader1.nii.gz  \n",
            "  inflating: prostate158_train/train/092/adc_tumor_reader2.nii.gz  \n",
            " extracting: prostate158_train/train/092/dwi.nii.gz  \n",
            "  inflating: prostate158_train/train/092/t2.nii.gz  \n",
            "  inflating: prostate158_train/train/092/t2_anatomy_reader1.nii.gz  \n",
            "  inflating: prostate158_train/train/092/t2_tumor_reader1.nii.gz  \n",
            "   creating: prostate158_train/train/093/\n",
            " extracting: prostate158_train/train/093/adc.nii.gz  \n",
            " extracting: prostate158_train/train/093/dwi.nii.gz  \n",
            "  inflating: prostate158_train/train/093/empty.nii.gz  \n",
            "  inflating: prostate158_train/train/093/t2.nii.gz  \n",
            "  inflating: prostate158_train/train/093/t2_anatomy_reader1.nii.gz  \n",
            "   creating: prostate158_train/train/094/\n",
            " extracting: prostate158_train/train/094/adc.nii.gz  \n",
            " extracting: prostate158_train/train/094/dwi.nii.gz  \n",
            "  inflating: prostate158_train/train/094/empty.nii.gz  \n",
            "  inflating: prostate158_train/train/094/t2.nii.gz  \n",
            "  inflating: prostate158_train/train/094/t2_anatomy_reader1.nii.gz  \n",
            "   creating: prostate158_train/train/095/\n",
            " extracting: prostate158_train/train/095/adc.nii.gz  \n",
            " extracting: prostate158_train/train/095/dwi.nii.gz  \n",
            "  inflating: prostate158_train/train/095/empty.nii.gz  \n",
            "  inflating: prostate158_train/train/095/t2.nii.gz  \n",
            "  inflating: prostate158_train/train/095/t2_anatomy_reader1.nii.gz  \n",
            "   creating: prostate158_train/train/096/\n",
            " extracting: prostate158_train/train/096/adc.nii.gz  \n",
            "  inflating: prostate158_train/train/096/adc_tumor_reader1.nii.gz  \n",
            "  inflating: prostate158_train/train/096/adc_tumor_reader2.nii.gz  \n",
            " extracting: prostate158_train/train/096/dwi.nii.gz  \n",
            "  inflating: prostate158_train/train/096/t2.nii.gz  \n",
            "  inflating: prostate158_train/train/096/t2_anatomy_reader1.nii.gz  \n",
            "  inflating: prostate158_train/train/096/t2_tumor_reader1.nii.gz  \n",
            "   creating: prostate158_train/train/097/\n",
            " extracting: prostate158_train/train/097/adc.nii.gz  \n",
            " extracting: prostate158_train/train/097/dwi.nii.gz  \n",
            "  inflating: prostate158_train/train/097/empty.nii.gz  \n",
            "  inflating: prostate158_train/train/097/t2.nii.gz  \n",
            "  inflating: prostate158_train/train/097/t2_anatomy_reader1.nii.gz  \n",
            "   creating: prostate158_train/train/098/\n",
            " extracting: prostate158_train/train/098/adc.nii.gz  \n",
            " extracting: prostate158_train/train/098/dwi.nii.gz  \n",
            "  inflating: prostate158_train/train/098/empty.nii.gz  \n",
            "  inflating: prostate158_train/train/098/t2.nii.gz  \n",
            "  inflating: prostate158_train/train/098/t2_anatomy_reader1.nii.gz  \n",
            "   creating: prostate158_train/train/099/\n",
            " extracting: prostate158_train/train/099/adc.nii.gz  \n",
            "  inflating: prostate158_train/train/099/adc_tumor_reader1.nii.gz  \n",
            "  inflating: prostate158_train/train/099/adc_tumor_reader2.nii.gz  \n",
            " extracting: prostate158_train/train/099/dwi.nii.gz  \n",
            "  inflating: prostate158_train/train/099/t2.nii.gz  \n",
            "  inflating: prostate158_train/train/099/t2_anatomy_reader1.nii.gz  \n",
            "  inflating: prostate158_train/train/099/t2_tumor_reader1.nii.gz  \n",
            "   creating: prostate158_train/train/100/\n",
            " extracting: prostate158_train/train/100/adc.nii.gz  \n",
            "  inflating: prostate158_train/train/100/adc_tumor_reader1.nii.gz  \n",
            " extracting: prostate158_train/train/100/dwi.nii.gz  \n",
            "  inflating: prostate158_train/train/100/t2.nii.gz  \n",
            "  inflating: prostate158_train/train/100/t2_anatomy_reader1.nii.gz  \n",
            "  inflating: prostate158_train/train/100/t2_tumor_reader1.nii.gz  \n",
            "   creating: prostate158_train/train/101/\n",
            " extracting: prostate158_train/train/101/adc.nii.gz  \n",
            "  inflating: prostate158_train/train/101/adc_tumor_reader1.nii.gz  \n",
            "  inflating: prostate158_train/train/101/adc_tumor_reader2.nii.gz  \n",
            " extracting: prostate158_train/train/101/dwi.nii.gz  \n",
            "  inflating: prostate158_train/train/101/t2.nii.gz  \n",
            "  inflating: prostate158_train/train/101/t2_anatomy_reader1.nii.gz  \n",
            "  inflating: prostate158_train/train/101/t2_tumor_reader1.nii.gz  \n",
            "   creating: prostate158_train/train/102/\n",
            " extracting: prostate158_train/train/102/adc.nii.gz  \n",
            " extracting: prostate158_train/train/102/dwi.nii.gz  \n",
            "  inflating: prostate158_train/train/102/empty.nii.gz  \n",
            "  inflating: prostate158_train/train/102/t2.nii.gz  \n",
            "  inflating: prostate158_train/train/102/t2_anatomy_reader1.nii.gz  \n",
            "   creating: prostate158_train/train/103/\n",
            " extracting: prostate158_train/train/103/adc.nii.gz  \n",
            "  inflating: prostate158_train/train/103/adc_tumor_reader1.nii.gz  \n",
            "  inflating: prostate158_train/train/103/adc_tumor_reader2.nii.gz  \n",
            " extracting: prostate158_train/train/103/dwi.nii.gz  \n",
            "  inflating: prostate158_train/train/103/t2.nii.gz  \n",
            "  inflating: prostate158_train/train/103/t2_anatomy_reader1.nii.gz  \n",
            "  inflating: prostate158_train/train/103/t2_tumor_reader1.nii.gz  \n",
            "   creating: prostate158_train/train/104/\n",
            " extracting: prostate158_train/train/104/adc.nii.gz  \n",
            "  inflating: prostate158_train/train/104/adc_tumor_reader1.nii.gz  \n",
            "  inflating: prostate158_train/train/104/adc_tumor_reader2.nii.gz  \n",
            " extracting: prostate158_train/train/104/dwi.nii.gz  \n",
            "  inflating: prostate158_train/train/104/t2.nii.gz  \n",
            "  inflating: prostate158_train/train/104/t2_anatomy_reader1.nii.gz  \n",
            "  inflating: prostate158_train/train/104/t2_tumor_reader1.nii.gz  \n",
            "   creating: prostate158_train/train/105/\n",
            " extracting: prostate158_train/train/105/adc.nii.gz  \n",
            "  inflating: prostate158_train/train/105/adc_tumor_reader1.nii.gz  \n",
            "  inflating: prostate158_train/train/105/adc_tumor_reader2.nii.gz  \n",
            " extracting: prostate158_train/train/105/dwi.nii.gz  \n",
            "  inflating: prostate158_train/train/105/t2.nii.gz  \n",
            "  inflating: prostate158_train/train/105/t2_anatomy_reader1.nii.gz  \n",
            "  inflating: prostate158_train/train/105/t2_tumor_reader1.nii.gz  \n",
            "   creating: prostate158_train/train/106/\n",
            " extracting: prostate158_train/train/106/adc.nii.gz  \n",
            "  inflating: prostate158_train/train/106/adc_tumor_reader1.nii.gz  \n",
            "  inflating: prostate158_train/train/106/adc_tumor_reader2.nii.gz  \n",
            " extracting: prostate158_train/train/106/dwi.nii.gz  \n",
            "  inflating: prostate158_train/train/106/t2.nii.gz  \n",
            "  inflating: prostate158_train/train/106/t2_anatomy_reader1.nii.gz  \n",
            "  inflating: prostate158_train/train/106/t2_tumor_reader1.nii.gz  \n",
            "   creating: prostate158_train/train/107/\n",
            " extracting: prostate158_train/train/107/adc.nii.gz  \n",
            "  inflating: prostate158_train/train/107/adc_tumor_reader1.nii.gz  \n",
            "  inflating: prostate158_train/train/107/adc_tumor_reader2.nii.gz  \n",
            " extracting: prostate158_train/train/107/dwi.nii.gz  \n",
            "  inflating: prostate158_train/train/107/t2.nii.gz  \n",
            "  inflating: prostate158_train/train/107/t2_anatomy_reader1.nii.gz  \n",
            "  inflating: prostate158_train/train/107/t2_tumor_reader1.nii.gz  \n",
            "   creating: prostate158_train/train/108/\n",
            " extracting: prostate158_train/train/108/adc.nii.gz  \n",
            " extracting: prostate158_train/train/108/dwi.nii.gz  \n",
            "  inflating: prostate158_train/train/108/empty.nii.gz  \n",
            "  inflating: prostate158_train/train/108/t2.nii.gz  \n",
            "  inflating: prostate158_train/train/108/t2_anatomy_reader1.nii.gz  \n",
            "   creating: prostate158_train/train/109/\n",
            " extracting: prostate158_train/train/109/adc.nii.gz  \n",
            "  inflating: prostate158_train/train/109/adc_tumor_reader1.nii.gz  \n",
            "  inflating: prostate158_train/train/109/adc_tumor_reader2.nii.gz  \n",
            " extracting: prostate158_train/train/109/dwi.nii.gz  \n",
            "  inflating: prostate158_train/train/109/t2.nii.gz  \n",
            "  inflating: prostate158_train/train/109/t2_anatomy_reader1.nii.gz  \n",
            "  inflating: prostate158_train/train/109/t2_tumor_reader1.nii.gz  \n",
            "   creating: prostate158_train/train/110/\n",
            " extracting: prostate158_train/train/110/adc.nii.gz  \n",
            "  inflating: prostate158_train/train/110/adc_tumor_reader1.nii.gz  \n",
            "  inflating: prostate158_train/train/110/adc_tumor_reader2.nii.gz  \n",
            " extracting: prostate158_train/train/110/dwi.nii.gz  \n",
            "  inflating: prostate158_train/train/110/t2.nii.gz  \n",
            "  inflating: prostate158_train/train/110/t2_anatomy_reader1.nii.gz  \n",
            "  inflating: prostate158_train/train/110/t2_tumor_reader1.nii.gz  \n",
            "   creating: prostate158_train/train/111/\n",
            " extracting: prostate158_train/train/111/adc.nii.gz  \n",
            "  inflating: prostate158_train/train/111/adc_tumor_reader1.nii.gz  \n",
            "  inflating: prostate158_train/train/111/adc_tumor_reader2.nii.gz  \n",
            "  inflating: prostate158_train/train/111/dwi.nii.gz  \n",
            "  inflating: prostate158_train/train/111/t2.nii.gz  \n",
            "  inflating: prostate158_train/train/111/t2_anatomy_reader1.nii.gz  \n",
            "  inflating: prostate158_train/train/111/t2_tumor_reader1.nii.gz  \n",
            "   creating: prostate158_train/train/112/\n",
            " extracting: prostate158_train/train/112/adc.nii.gz  \n",
            "  inflating: prostate158_train/train/112/adc_tumor_reader1.nii.gz  \n",
            "  inflating: prostate158_train/train/112/adc_tumor_reader2.nii.gz  \n",
            " extracting: prostate158_train/train/112/dwi.nii.gz  \n",
            "  inflating: prostate158_train/train/112/t2.nii.gz  \n",
            "  inflating: prostate158_train/train/112/t2_anatomy_reader1.nii.gz  \n",
            "  inflating: prostate158_train/train/112/t2_tumor_reader1.nii.gz  \n",
            "   creating: prostate158_train/train/113/\n",
            " extracting: prostate158_train/train/113/adc.nii.gz  \n",
            "  inflating: prostate158_train/train/113/adc_tumor_reader1.nii.gz  \n",
            "  inflating: prostate158_train/train/113/adc_tumor_reader2.nii.gz  \n",
            " extracting: prostate158_train/train/113/dwi.nii.gz  \n",
            "  inflating: prostate158_train/train/113/t2.nii.gz  \n",
            "  inflating: prostate158_train/train/113/t2_anatomy_reader1.nii.gz  \n",
            "  inflating: prostate158_train/train/113/t2_tumor_reader1.nii.gz  \n",
            "   creating: prostate158_train/train/114/\n",
            " extracting: prostate158_train/train/114/adc.nii.gz  \n",
            "  inflating: prostate158_train/train/114/adc_tumor_reader1.nii.gz  \n",
            "  inflating: prostate158_train/train/114/adc_tumor_reader2.nii.gz  \n",
            " extracting: prostate158_train/train/114/dwi.nii.gz  \n",
            "  inflating: prostate158_train/train/114/t2.nii.gz  \n",
            "  inflating: prostate158_train/train/114/t2_anatomy_reader1.nii.gz  \n",
            "  inflating: prostate158_train/train/114/t2_tumor_reader1.nii.gz  \n",
            "   creating: prostate158_train/train/115/\n",
            " extracting: prostate158_train/train/115/adc.nii.gz  \n",
            " extracting: prostate158_train/train/115/dwi.nii.gz  \n",
            "  inflating: prostate158_train/train/115/empty.nii.gz  \n",
            "  inflating: prostate158_train/train/115/t2.nii.gz  \n",
            "  inflating: prostate158_train/train/115/t2_anatomy_reader1.nii.gz  \n",
            "   creating: prostate158_train/train/116/\n",
            " extracting: prostate158_train/train/116/adc.nii.gz  \n",
            " extracting: prostate158_train/train/116/dwi.nii.gz  \n",
            "  inflating: prostate158_train/train/116/empty.nii.gz  \n",
            "  inflating: prostate158_train/train/116/t2.nii.gz  \n",
            "  inflating: prostate158_train/train/116/t2_anatomy_reader1.nii.gz  \n",
            "   creating: prostate158_train/train/117/\n",
            " extracting: prostate158_train/train/117/adc.nii.gz  \n",
            " extracting: prostate158_train/train/117/dwi.nii.gz  \n",
            "  inflating: prostate158_train/train/117/empty.nii.gz  \n",
            "  inflating: prostate158_train/train/117/t2.nii.gz  \n",
            "  inflating: prostate158_train/train/117/t2_anatomy_reader1.nii.gz  \n",
            "   creating: prostate158_train/train/118/\n",
            " extracting: prostate158_train/train/118/adc.nii.gz  \n",
            "  inflating: prostate158_train/train/118/adc_tumor_reader1.nii.gz  \n",
            "  inflating: prostate158_train/train/118/adc_tumor_reader2.nii.gz  \n",
            " extracting: prostate158_train/train/118/dwi.nii.gz  \n",
            "  inflating: prostate158_train/train/118/t2.nii.gz  \n",
            "  inflating: prostate158_train/train/118/t2_anatomy_reader1.nii.gz  \n",
            "  inflating: prostate158_train/train/118/t2_tumor_reader1.nii.gz  \n",
            "   creating: prostate158_train/train/119/\n",
            " extracting: prostate158_train/train/119/adc.nii.gz  \n",
            " extracting: prostate158_train/train/119/dwi.nii.gz  \n",
            "  inflating: prostate158_train/train/119/empty.nii.gz  \n",
            "  inflating: prostate158_train/train/119/t2.nii.gz  \n",
            "  inflating: prostate158_train/train/119/t2_anatomy_reader1.nii.gz  \n",
            "   creating: prostate158_train/train/120/\n",
            " extracting: prostate158_train/train/120/adc.nii.gz  \n",
            " extracting: prostate158_train/train/120/dwi.nii.gz  \n",
            "  inflating: prostate158_train/train/120/empty.nii.gz  \n",
            "  inflating: prostate158_train/train/120/t2.nii.gz  \n",
            "  inflating: prostate158_train/train/120/t2_anatomy_reader1.nii.gz  \n",
            "   creating: prostate158_train/train/121/\n",
            " extracting: prostate158_train/train/121/adc.nii.gz  \n",
            "  inflating: prostate158_train/train/121/adc_tumor_reader1.nii.gz  \n",
            "  inflating: prostate158_train/train/121/adc_tumor_reader2.nii.gz  \n",
            " extracting: prostate158_train/train/121/dwi.nii.gz  \n",
            "  inflating: prostate158_train/train/121/t2.nii.gz  \n",
            "  inflating: prostate158_train/train/121/t2_anatomy_reader1.nii.gz  \n",
            "  inflating: prostate158_train/train/121/t2_tumor_reader1.nii.gz  \n",
            "   creating: prostate158_train/train/122/\n",
            " extracting: prostate158_train/train/122/adc.nii.gz  \n",
            "  inflating: prostate158_train/train/122/adc_tumor_reader1.nii.gz  \n",
            " extracting: prostate158_train/train/122/dwi.nii.gz  \n",
            "  inflating: prostate158_train/train/122/t2.nii.gz  \n",
            "  inflating: prostate158_train/train/122/t2_anatomy_reader1.nii.gz  \n",
            "  inflating: prostate158_train/train/122/t2_tumor_reader1.nii.gz  \n",
            "   creating: prostate158_train/train/123/\n",
            " extracting: prostate158_train/train/123/adc.nii.gz  \n",
            " extracting: prostate158_train/train/123/dwi.nii.gz  \n",
            "  inflating: prostate158_train/train/123/empty.nii.gz  \n",
            "  inflating: prostate158_train/train/123/t2.nii.gz  \n",
            "  inflating: prostate158_train/train/123/t2_anatomy_reader1.nii.gz  \n",
            "   creating: prostate158_train/train/124/\n",
            " extracting: prostate158_train/train/124/adc.nii.gz  \n",
            "  inflating: prostate158_train/train/124/adc_tumor_reader1.nii.gz  \n",
            "  inflating: prostate158_train/train/124/adc_tumor_reader2.nii.gz  \n",
            " extracting: prostate158_train/train/124/dwi.nii.gz  \n",
            "  inflating: prostate158_train/train/124/t2.nii.gz  \n",
            "  inflating: prostate158_train/train/124/t2_anatomy_reader1.nii.gz  \n",
            "  inflating: prostate158_train/train/124/t2_tumor_reader1.nii.gz  \n",
            "   creating: prostate158_train/train/125/\n",
            " extracting: prostate158_train/train/125/adc.nii.gz  \n",
            "  inflating: prostate158_train/train/125/adc_tumor_reader1.nii.gz  \n",
            " extracting: prostate158_train/train/125/dwi.nii.gz  \n",
            "  inflating: prostate158_train/train/125/t2.nii.gz  \n",
            "  inflating: prostate158_train/train/125/t2_anatomy_reader1.nii.gz  \n",
            "  inflating: prostate158_train/train/125/t2_tumor_reader1.nii.gz  \n",
            "   creating: prostate158_train/train/126/\n",
            " extracting: prostate158_train/train/126/adc.nii.gz  \n",
            " extracting: prostate158_train/train/126/dwi.nii.gz  \n",
            "  inflating: prostate158_train/train/126/empty.nii.gz  \n",
            "  inflating: prostate158_train/train/126/t2.nii.gz  \n",
            "  inflating: prostate158_train/train/126/t2_anatomy_reader1.nii.gz  \n",
            "   creating: prostate158_train/train/127/\n",
            " extracting: prostate158_train/train/127/adc.nii.gz  \n",
            " extracting: prostate158_train/train/127/dwi.nii.gz  \n",
            "  inflating: prostate158_train/train/127/empty.nii.gz  \n",
            "  inflating: prostate158_train/train/127/t2.nii.gz  \n",
            "  inflating: prostate158_train/train/127/t2_anatomy_reader1.nii.gz  \n",
            "   creating: prostate158_train/train/128/\n",
            " extracting: prostate158_train/train/128/adc.nii.gz  \n",
            " extracting: prostate158_train/train/128/dwi.nii.gz  \n",
            "  inflating: prostate158_train/train/128/empty.nii.gz  \n",
            "  inflating: prostate158_train/train/128/t2.nii.gz  \n",
            "  inflating: prostate158_train/train/128/t2_anatomy_reader1.nii.gz  \n",
            "   creating: prostate158_train/train/129/\n",
            " extracting: prostate158_train/train/129/adc.nii.gz  \n",
            " extracting: prostate158_train/train/129/dwi.nii.gz  \n",
            "  inflating: prostate158_train/train/129/empty.nii.gz  \n",
            "  inflating: prostate158_train/train/129/t2.nii.gz  \n",
            "  inflating: prostate158_train/train/129/t2_anatomy_reader1.nii.gz  \n",
            "   creating: prostate158_train/train/130/\n",
            " extracting: prostate158_train/train/130/adc.nii.gz  \n",
            "  inflating: prostate158_train/train/130/adc_tumor_reader1.nii.gz  \n",
            " extracting: prostate158_train/train/130/dwi.nii.gz  \n",
            "  inflating: prostate158_train/train/130/t2.nii.gz  \n",
            "  inflating: prostate158_train/train/130/t2_anatomy_reader1.nii.gz  \n",
            "  inflating: prostate158_train/train/130/t2_tumor_reader1.nii.gz  \n",
            "   creating: prostate158_train/train/131/\n",
            " extracting: prostate158_train/train/131/adc.nii.gz  \n",
            "  inflating: prostate158_train/train/131/adc_tumor_reader1.nii.gz  \n",
            "  inflating: prostate158_train/train/131/adc_tumor_reader2.nii.gz  \n",
            " extracting: prostate158_train/train/131/dwi.nii.gz  \n",
            "  inflating: prostate158_train/train/131/t2.nii.gz  \n",
            "  inflating: prostate158_train/train/131/t2_anatomy_reader1.nii.gz  \n",
            "  inflating: prostate158_train/train/131/t2_tumor_reader1.nii.gz  \n",
            "   creating: prostate158_train/train/132/\n",
            " extracting: prostate158_train/train/132/adc.nii.gz  \n",
            "  inflating: prostate158_train/train/132/adc_tumor_reader1.nii.gz  \n",
            "  inflating: prostate158_train/train/132/adc_tumor_reader2.nii.gz  \n",
            " extracting: prostate158_train/train/132/dwi.nii.gz  \n",
            "  inflating: prostate158_train/train/132/t2.nii.gz  \n",
            "  inflating: prostate158_train/train/132/t2_anatomy_reader1.nii.gz  \n",
            "  inflating: prostate158_train/train/132/t2_tumor_reader1.nii.gz  \n",
            "   creating: prostate158_train/train/133/\n",
            " extracting: prostate158_train/train/133/adc.nii.gz  \n",
            "  inflating: prostate158_train/train/133/adc_tumor_reader1.nii.gz  \n",
            "  inflating: prostate158_train/train/133/adc_tumor_reader2.nii.gz  \n",
            " extracting: prostate158_train/train/133/dwi.nii.gz  \n",
            "  inflating: prostate158_train/train/133/t2.nii.gz  \n",
            "  inflating: prostate158_train/train/133/t2_anatomy_reader1.nii.gz  \n",
            "  inflating: prostate158_train/train/133/t2_tumor_reader1.nii.gz  \n",
            "   creating: prostate158_train/train/134/\n",
            " extracting: prostate158_train/train/134/adc.nii.gz  \n",
            " extracting: prostate158_train/train/134/dwi.nii.gz  \n",
            "  inflating: prostate158_train/train/134/empty.nii.gz  \n",
            "  inflating: prostate158_train/train/134/t2.nii.gz  \n",
            "  inflating: prostate158_train/train/134/t2_anatomy_reader1.nii.gz  \n",
            "   creating: prostate158_train/train/135/\n",
            " extracting: prostate158_train/train/135/adc.nii.gz  \n",
            " extracting: prostate158_train/train/135/dwi.nii.gz  \n",
            "  inflating: prostate158_train/train/135/empty.nii.gz  \n",
            "  inflating: prostate158_train/train/135/t2.nii.gz  \n",
            "  inflating: prostate158_train/train/135/t2_anatomy_reader1.nii.gz  \n",
            "   creating: prostate158_train/train/136/\n",
            " extracting: prostate158_train/train/136/adc.nii.gz  \n",
            "  inflating: prostate158_train/train/136/adc_tumor_reader1.nii.gz  \n",
            "  inflating: prostate158_train/train/136/adc_tumor_reader2.nii.gz  \n",
            " extracting: prostate158_train/train/136/dwi.nii.gz  \n",
            "  inflating: prostate158_train/train/136/t2.nii.gz  \n",
            "  inflating: prostate158_train/train/136/t2_anatomy_reader1.nii.gz  \n",
            "  inflating: prostate158_train/train/136/t2_tumor_reader1.nii.gz  \n",
            "   creating: prostate158_train/train/137/\n",
            " extracting: prostate158_train/train/137/adc.nii.gz  \n",
            "  inflating: prostate158_train/train/137/adc_tumor_reader1.nii.gz  \n",
            "  inflating: prostate158_train/train/137/adc_tumor_reader2.nii.gz  \n",
            " extracting: prostate158_train/train/137/dwi.nii.gz  \n",
            "  inflating: prostate158_train/train/137/t2.nii.gz  \n",
            "  inflating: prostate158_train/train/137/t2_anatomy_reader1.nii.gz  \n",
            "  inflating: prostate158_train/train/137/t2_tumor_reader1.nii.gz  \n",
            "   creating: prostate158_train/train/138/\n",
            " extracting: prostate158_train/train/138/adc.nii.gz  \n",
            "  inflating: prostate158_train/train/138/adc_tumor_reader1.nii.gz  \n",
            " extracting: prostate158_train/train/138/dwi.nii.gz  \n",
            "  inflating: prostate158_train/train/138/t2.nii.gz  \n",
            "  inflating: prostate158_train/train/138/t2_anatomy_reader1.nii.gz  \n",
            "  inflating: prostate158_train/train/138/t2_tumor_reader1.nii.gz  \n",
            "   creating: prostate158_train/train/139/\n",
            " extracting: prostate158_train/train/139/adc.nii.gz  \n",
            " extracting: prostate158_train/train/139/dwi.nii.gz  \n",
            "  inflating: prostate158_train/train/139/empty.nii.gz  \n",
            "  inflating: prostate158_train/train/139/t2.nii.gz  \n",
            "  inflating: prostate158_train/train/139/t2_anatomy_reader1.nii.gz  \n",
            "   creating: prostate158_train/train/140/\n",
            " extracting: prostate158_train/train/140/adc.nii.gz  \n",
            "  inflating: prostate158_train/train/140/adc_tumor_reader1.nii.gz  \n",
            "  inflating: prostate158_train/train/140/adc_tumor_reader2.nii.gz  \n",
            " extracting: prostate158_train/train/140/dwi.nii.gz  \n",
            "  inflating: prostate158_train/train/140/t2.nii.gz  \n",
            "  inflating: prostate158_train/train/140/t2_anatomy_reader1.nii.gz  \n",
            "  inflating: prostate158_train/train/140/t2_tumor_reader1.nii.gz  \n",
            "   creating: prostate158_train/train/141/\n",
            " extracting: prostate158_train/train/141/adc.nii.gz  \n",
            " extracting: prostate158_train/train/141/dwi.nii.gz  \n",
            "  inflating: prostate158_train/train/141/empty.nii.gz  \n",
            "  inflating: prostate158_train/train/141/t2.nii.gz  \n",
            "  inflating: prostate158_train/train/141/t2_anatomy_reader1.nii.gz  \n",
            "   creating: prostate158_train/train/142/\n",
            " extracting: prostate158_train/train/142/adc.nii.gz  \n",
            " extracting: prostate158_train/train/142/dwi.nii.gz  \n",
            "  inflating: prostate158_train/train/142/empty.nii.gz  \n",
            "  inflating: prostate158_train/train/142/t2.nii.gz  \n",
            "  inflating: prostate158_train/train/142/t2_anatomy_reader1.nii.gz  \n",
            "   creating: prostate158_train/train/143/\n",
            " extracting: prostate158_train/train/143/adc.nii.gz  \n",
            "  inflating: prostate158_train/train/143/adc_tumor_reader1.nii.gz  \n",
            "  inflating: prostate158_train/train/143/adc_tumor_reader2.nii.gz  \n",
            " extracting: prostate158_train/train/143/dwi.nii.gz  \n",
            "  inflating: prostate158_train/train/143/t2.nii.gz  \n",
            "  inflating: prostate158_train/train/143/t2_anatomy_reader1.nii.gz  \n",
            "  inflating: prostate158_train/train/143/t2_tumor_reader1.nii.gz  \n",
            "   creating: prostate158_train/train/144/\n",
            " extracting: prostate158_train/train/144/adc.nii.gz  \n",
            " extracting: prostate158_train/train/144/dwi.nii.gz  \n",
            "  inflating: prostate158_train/train/144/empty.nii.gz  \n",
            "  inflating: prostate158_train/train/144/t2.nii.gz  \n",
            "  inflating: prostate158_train/train/144/t2_anatomy_reader1.nii.gz  \n",
            "   creating: prostate158_train/train/145/\n",
            " extracting: prostate158_train/train/145/adc.nii.gz  \n",
            " extracting: prostate158_train/train/145/dwi.nii.gz  \n",
            "  inflating: prostate158_train/train/145/empty.nii.gz  \n",
            "  inflating: prostate158_train/train/145/t2.nii.gz  \n",
            "  inflating: prostate158_train/train/145/t2_anatomy_reader1.nii.gz  \n",
            "   creating: prostate158_train/train/146/\n",
            " extracting: prostate158_train/train/146/adc.nii.gz  \n",
            "  inflating: prostate158_train/train/146/adc_tumor_reader1.nii.gz  \n",
            "  inflating: prostate158_train/train/146/adc_tumor_reader2.nii.gz  \n",
            " extracting: prostate158_train/train/146/dwi.nii.gz  \n",
            "  inflating: prostate158_train/train/146/t2.nii.gz  \n",
            "  inflating: prostate158_train/train/146/t2_anatomy_reader1.nii.gz  \n",
            "  inflating: prostate158_train/train/146/t2_tumor_reader1.nii.gz  \n",
            "   creating: prostate158_train/train/147/\n",
            "  inflating: prostate158_train/train/147/adc.nii.gz  \n",
            " extracting: prostate158_train/train/147/dwi.nii.gz  \n",
            "  inflating: prostate158_train/train/147/empty.nii.gz  \n",
            "  inflating: prostate158_train/train/147/t2.nii.gz  \n",
            "  inflating: prostate158_train/train/147/t2_anatomy_reader1.nii.gz  \n",
            "   creating: prostate158_train/train/148/\n",
            " extracting: prostate158_train/train/148/adc.nii.gz  \n",
            "  inflating: prostate158_train/train/148/adc_tumor_reader1.nii.gz  \n",
            "  inflating: prostate158_train/train/148/adc_tumor_reader2.nii.gz  \n",
            " extracting: prostate158_train/train/148/dwi.nii.gz  \n",
            "  inflating: prostate158_train/train/148/t2.nii.gz  \n",
            "  inflating: prostate158_train/train/148/t2_anatomy_reader1.nii.gz  \n",
            "  inflating: prostate158_train/train/148/t2_tumor_reader1.nii.gz  \n",
            "   creating: prostate158_train/train/149/\n",
            "  inflating: prostate158_train/train/149/adc.nii.gz  \n",
            "  inflating: prostate158_train/train/149/dwi.nii.gz  \n",
            "  inflating: prostate158_train/train/149/empty.nii.gz  \n",
            "  inflating: prostate158_train/train/149/t2.nii.gz  \n",
            "  inflating: prostate158_train/train/149/t2_anatomy_reader1.nii.gz  \n",
            "   creating: prostate158_train/train/150/\n",
            " extracting: prostate158_train/train/150/adc.nii.gz  \n",
            "  inflating: prostate158_train/train/150/adc_tumor_reader1.nii.gz  \n",
            "  inflating: prostate158_train/train/150/adc_tumor_reader2.nii.gz  \n",
            " extracting: prostate158_train/train/150/dwi.nii.gz  \n",
            "  inflating: prostate158_train/train/150/t2.nii.gz  \n",
            "  inflating: prostate158_train/train/150/t2_anatomy_reader1.nii.gz  \n",
            "  inflating: prostate158_train/train/150/t2_tumor_reader1.nii.gz  \n",
            "   creating: prostate158_train/train/151/\n",
            " extracting: prostate158_train/train/151/adc.nii.gz  \n",
            " extracting: prostate158_train/train/151/dwi.nii.gz  \n",
            "  inflating: prostate158_train/train/151/empty.nii.gz  \n",
            "  inflating: prostate158_train/train/151/t2.nii.gz  \n",
            "  inflating: prostate158_train/train/151/t2_anatomy_reader1.nii.gz  \n",
            "   creating: prostate158_train/train/152/\n",
            " extracting: prostate158_train/train/152/adc.nii.gz  \n",
            "  inflating: prostate158_train/train/152/adc_tumor_reader1.nii.gz  \n",
            "  inflating: prostate158_train/train/152/adc_tumor_reader2.nii.gz  \n",
            " extracting: prostate158_train/train/152/dwi.nii.gz  \n",
            "  inflating: prostate158_train/train/152/t2.nii.gz  \n",
            "  inflating: prostate158_train/train/152/t2_anatomy_reader1.nii.gz  \n",
            "  inflating: prostate158_train/train/152/t2_tumor_reader1.nii.gz  \n",
            "   creating: prostate158_train/train/153/\n",
            " extracting: prostate158_train/train/153/adc.nii.gz  \n",
            "  inflating: prostate158_train/train/153/adc_tumor_reader1.nii.gz  \n",
            " extracting: prostate158_train/train/153/dwi.nii.gz  \n",
            "  inflating: prostate158_train/train/153/t2.nii.gz  \n",
            "  inflating: prostate158_train/train/153/t2_anatomy_reader1.nii.gz  \n",
            "  inflating: prostate158_train/train/153/t2_tumor_reader1.nii.gz  \n",
            "   creating: prostate158_train/train/154/\n",
            " extracting: prostate158_train/train/154/adc.nii.gz  \n",
            "  inflating: prostate158_train/train/154/adc_tumor_reader1.nii.gz  \n",
            "  inflating: prostate158_train/train/154/adc_tumor_reader2.nii.gz  \n",
            " extracting: prostate158_train/train/154/dwi.nii.gz  \n",
            "  inflating: prostate158_train/train/154/t2.nii.gz  \n",
            "  inflating: prostate158_train/train/154/t2_anatomy_reader1.nii.gz  \n",
            "  inflating: prostate158_train/train/154/t2_tumor_reader1.nii.gz  \n",
            "   creating: prostate158_train/train/155/\n",
            " extracting: prostate158_train/train/155/adc.nii.gz  \n",
            " extracting: prostate158_train/train/155/dwi.nii.gz  \n",
            "  inflating: prostate158_train/train/155/empty.nii.gz  \n",
            "  inflating: prostate158_train/train/155/t2.nii.gz  \n",
            "  inflating: prostate158_train/train/155/t2_anatomy_reader1.nii.gz  \n",
            "   creating: prostate158_train/train/156/\n",
            " extracting: prostate158_train/train/156/adc.nii.gz  \n",
            "  inflating: prostate158_train/train/156/adc_tumor_reader1.nii.gz  \n",
            " extracting: prostate158_train/train/156/dwi.nii.gz  \n",
            "  inflating: prostate158_train/train/156/t2.nii.gz  \n",
            "  inflating: prostate158_train/train/156/t2_anatomy_reader1.nii.gz  \n",
            "  inflating: prostate158_train/train/156/t2_tumor_reader1.nii.gz  \n",
            "   creating: prostate158_train/train/157/\n",
            " extracting: prostate158_train/train/157/adc.nii.gz  \n",
            "  inflating: prostate158_train/train/157/adc_tumor_reader1.nii.gz  \n",
            "  inflating: prostate158_train/train/157/adc_tumor_reader2.nii.gz  \n",
            " extracting: prostate158_train/train/157/dwi.nii.gz  \n",
            "  inflating: prostate158_train/train/157/t2.nii.gz  \n",
            "  inflating: prostate158_train/train/157/t2_anatomy_reader1.nii.gz  \n",
            "  inflating: prostate158_train/train/157/t2_tumor_reader1.nii.gz  \n",
            "   creating: prostate158_train/train/158/\n",
            " extracting: prostate158_train/train/158/adc.nii.gz  \n",
            "  inflating: prostate158_train/train/158/adc_tumor_reader1.nii.gz  \n",
            "  inflating: prostate158_train/train/158/adc_tumor_reader2.nii.gz  \n",
            " extracting: prostate158_train/train/158/dwi.nii.gz  \n",
            "  inflating: prostate158_train/train/158/t2.nii.gz  \n",
            "  inflating: prostate158_train/train/158/t2_anatomy_reader1.nii.gz  \n",
            "  inflating: prostate158_train/train/158/t2_tumor_reader1.nii.gz  \n",
            "  inflating: prostate158_train/valid.csv  \n"
          ]
        }
      ],
      "source": [
        "!wget https://zenodo.org/records/6481141/files/prostate158_train.zip?download=1 -O prostate158_train.zip\n",
        "!unzip prostate158_train.zip\n",
        "!rm prostate158_train.zip"
      ]
    },
    {
      "cell_type": "code",
      "execution_count": null,
      "metadata": {
        "colab": {
          "base_uri": "https://localhost:8080/"
        },
        "id": "5FqiJgnF1-g8",
        "outputId": "c4d3acf1-b095-404d-c1df-ec611df19a5b"
      },
      "outputs": [
        {
          "output_type": "stream",
          "name": "stdout",
          "text": [
            "Collecting monai[all]\n",
            "  Downloading monai-1.3.2-py3-none-any.whl (1.4 MB)\n",
            "\u001b[2K     \u001b[90m━━━━━━━━━━━━━━━━━━━━━━━━━━━━━━━━━━━━━━━━\u001b[0m \u001b[32m1.4/1.4 MB\u001b[0m \u001b[31m9.6 MB/s\u001b[0m eta \u001b[36m0:00:00\u001b[0m\n",
            "\u001b[?25hRequirement already satisfied: torch>=1.9 in /usr/local/lib/python3.10/dist-packages (from monai[all]) (2.3.0+cu121)\n",
            "Requirement already satisfied: numpy>=1.20 in /usr/local/lib/python3.10/dist-packages (from monai[all]) (1.25.2)\n",
            "Requirement already satisfied: nibabel in /usr/local/lib/python3.10/dist-packages (from monai[all]) (4.0.2)\n",
            "Collecting ninja (from monai[all])\n",
            "  Downloading ninja-1.11.1.1-py2.py3-none-manylinux1_x86_64.manylinux_2_5_x86_64.whl (307 kB)\n",
            "\u001b[2K     \u001b[90m━━━━━━━━━━━━━━━━━━━━━━━━━━━━━━━━━━━━━━━━\u001b[0m \u001b[32m307.2/307.2 kB\u001b[0m \u001b[31m12.5 MB/s\u001b[0m eta \u001b[36m0:00:00\u001b[0m\n",
            "\u001b[?25hRequirement already satisfied: scikit-image>=0.14.2 in /usr/local/lib/python3.10/dist-packages (from monai[all]) (0.19.3)\n",
            "Requirement already satisfied: scipy>=1.7.1 in /usr/local/lib/python3.10/dist-packages (from monai[all]) (1.11.4)\n",
            "Requirement already satisfied: pillow in /usr/local/lib/python3.10/dist-packages (from monai[all]) (9.4.0)\n",
            "Requirement already satisfied: tensorboard in /usr/local/lib/python3.10/dist-packages (from monai[all]) (2.15.2)\n",
            "Requirement already satisfied: gdown>=4.7.3 in /usr/local/lib/python3.10/dist-packages (from monai[all]) (5.1.0)\n",
            "Collecting pytorch-ignite==0.4.11 (from monai[all])\n",
            "  Downloading pytorch_ignite-0.4.11-py3-none-any.whl (266 kB)\n",
            "\u001b[2K     \u001b[90m━━━━━━━━━━━━━━━━━━━━━━━━━━━━━━━━━━━━━━━━\u001b[0m \u001b[32m266.5/266.5 kB\u001b[0m \u001b[31m13.5 MB/s\u001b[0m eta \u001b[36m0:00:00\u001b[0m\n",
            "\u001b[?25hRequirement already satisfied: torchvision in /usr/local/lib/python3.10/dist-packages (from monai[all]) (0.18.0+cu121)\n",
            "Collecting itk>=5.2 (from monai[all])\n",
            "  Downloading itk-5.4.0-cp310-cp310-manylinux_2_28_x86_64.whl (17 kB)\n",
            "Requirement already satisfied: tqdm>=4.47.0 in /usr/local/lib/python3.10/dist-packages (from monai[all]) (4.66.4)\n",
            "Collecting lmdb (from monai[all])\n",
            "  Downloading lmdb-1.5.1-cp310-cp310-manylinux_2_17_x86_64.manylinux2014_x86_64.whl (294 kB)\n",
            "\u001b[2K     \u001b[90m━━━━━━━━━━━━━━━━━━━━━━━━━━━━━━━━━━━━━━━━\u001b[0m \u001b[32m294.9/294.9 kB\u001b[0m \u001b[31m13.3 MB/s\u001b[0m eta \u001b[36m0:00:00\u001b[0m\n",
            "\u001b[?25hRequirement already satisfied: psutil in /usr/local/lib/python3.10/dist-packages (from monai[all]) (5.9.5)\n",
            "Collecting openslide-python (from monai[all])\n",
            "  Downloading openslide-python-1.3.1.tar.gz (358 kB)\n",
            "\u001b[2K     \u001b[90m━━━━━━━━━━━━━━━━━━━━━━━━━━━━━━━━━━━━━━━━\u001b[0m \u001b[32m359.0/359.0 kB\u001b[0m \u001b[31m15.7 MB/s\u001b[0m eta \u001b[36m0:00:00\u001b[0m\n",
            "\u001b[?25h  Preparing metadata (setup.py) ... \u001b[?25l\u001b[?25hdone\n",
            "Requirement already satisfied: tifffile in /usr/local/lib/python3.10/dist-packages (from monai[all]) (2024.6.18)\n",
            "Collecting imagecodecs (from monai[all])\n",
            "  Downloading imagecodecs-2024.6.1-cp310-cp310-manylinux_2_17_x86_64.manylinux2014_x86_64.whl (39.5 MB)\n",
            "\u001b[2K     \u001b[90m━━━━━━━━━━━━━━━━━━━━━━━━━━━━━━━━━━━━━━━━\u001b[0m \u001b[32m39.5/39.5 MB\u001b[0m \u001b[31m16.0 MB/s\u001b[0m eta \u001b[36m0:00:00\u001b[0m\n",
            "\u001b[?25hRequirement already satisfied: pandas in /usr/local/lib/python3.10/dist-packages (from monai[all]) (2.0.3)\n",
            "Collecting einops (from monai[all])\n",
            "  Downloading einops-0.8.0-py3-none-any.whl (43 kB)\n",
            "\u001b[2K     \u001b[90m━━━━━━━━━━━━━━━━━━━━━━━━━━━━━━━━━━━━━━━━\u001b[0m \u001b[32m43.2/43.2 kB\u001b[0m \u001b[31m6.1 MB/s\u001b[0m eta \u001b[36m0:00:00\u001b[0m\n",
            "\u001b[?25hCollecting mlflow>=2.12.2 (from monai[all])\n",
            "  Downloading mlflow-2.14.2-py3-none-any.whl (25.8 MB)\n",
            "\u001b[2K     \u001b[90m━━━━━━━━━━━━━━━━━━━━━━━━━━━━━━━━━━━━━━━━\u001b[0m \u001b[32m25.8/25.8 MB\u001b[0m \u001b[31m60.2 MB/s\u001b[0m eta \u001b[36m0:00:00\u001b[0m\n",
            "\u001b[?25hCollecting clearml>=1.10.0rc0 (from monai[all])\n",
            "  Downloading clearml-1.16.3rc1-py2.py3-none-any.whl (1.2 MB)\n",
            "\u001b[2K     \u001b[90m━━━━━━━━━━━━━━━━━━━━━━━━━━━━━━━━━━━━━━━━\u001b[0m \u001b[32m1.2/1.2 MB\u001b[0m \u001b[31m67.8 MB/s\u001b[0m eta \u001b[36m0:00:00\u001b[0m\n",
            "\u001b[?25hRequirement already satisfied: matplotlib>=3.6.3 in /usr/local/lib/python3.10/dist-packages (from monai[all]) (3.7.1)\n",
            "Collecting tensorboardX (from monai[all])\n",
            "  Downloading tensorboardX-2.6.2.2-py2.py3-none-any.whl (101 kB)\n",
            "\u001b[2K     \u001b[90m━━━━━━━━━━━━━━━━━━━━━━━━━━━━━━━━━━━━━━━━\u001b[0m \u001b[32m101.7/101.7 kB\u001b[0m \u001b[31m14.7 MB/s\u001b[0m eta \u001b[36m0:00:00\u001b[0m\n",
            "\u001b[?25hRequirement already satisfied: pyyaml in /usr/local/lib/python3.10/dist-packages (from monai[all]) (6.0.1)\n",
            "Collecting fire (from monai[all])\n",
            "  Downloading fire-0.6.0.tar.gz (88 kB)\n",
            "\u001b[2K     \u001b[90m━━━━━━━━━━━━━━━━━━━━━━━━━━━━━━━━━━━━━━━━\u001b[0m \u001b[32m88.4/88.4 kB\u001b[0m \u001b[31m13.4 MB/s\u001b[0m eta \u001b[36m0:00:00\u001b[0m\n",
            "\u001b[?25h  Preparing metadata (setup.py) ... \u001b[?25l\u001b[?25hdone\n",
            "Requirement already satisfied: jsonschema in /usr/local/lib/python3.10/dist-packages (from monai[all]) (4.19.2)\n",
            "Collecting pynrrd (from monai[all])\n",
            "  Downloading pynrrd-1.0.0-py2.py3-none-any.whl (19 kB)\n",
            "Collecting pydicom (from monai[all])\n",
            "  Downloading pydicom-2.4.4-py3-none-any.whl (1.8 MB)\n",
            "\u001b[2K     \u001b[90m━━━━━━━━━━━━━━━━━━━━━━━━━━━━━━━━━━━━━━━━\u001b[0m \u001b[32m1.8/1.8 MB\u001b[0m \u001b[31m89.6 MB/s\u001b[0m eta \u001b[36m0:00:00\u001b[0m\n",
            "\u001b[?25hRequirement already satisfied: h5py in /usr/local/lib/python3.10/dist-packages (from monai[all]) (3.9.0)\n",
            "Collecting nni (from monai[all])\n",
            "  Downloading nni-3.0-py3-none-manylinux1_x86_64.whl (61.4 MB)\n",
            "\u001b[2K     \u001b[90m━━━━━━━━━━━━━━━━━━━━━━━━━━━━━━━━━━━━━━━━\u001b[0m \u001b[32m61.4/61.4 MB\u001b[0m \u001b[31m9.9 MB/s\u001b[0m eta \u001b[36m0:00:00\u001b[0m\n",
            "\u001b[?25hCollecting optuna (from monai[all])\n",
            "  Downloading optuna-3.6.1-py3-none-any.whl (380 kB)\n",
            "\u001b[2K     \u001b[90m━━━━━━━━━━━━━━━━━━━━━━━━━━━━━━━━━━━━━━━━\u001b[0m \u001b[32m380.1/380.1 kB\u001b[0m \u001b[31m41.4 MB/s\u001b[0m eta \u001b[36m0:00:00\u001b[0m\n",
            "\u001b[?25hCollecting onnx>=1.13.0 (from monai[all])\n",
            "  Downloading onnx-1.16.1-cp310-cp310-manylinux_2_17_x86_64.manylinux2014_x86_64.whl (15.9 MB)\n",
            "\u001b[2K     \u001b[90m━━━━━━━━━━━━━━━━━━━━━━━━━━━━━━━━━━━━━━━━\u001b[0m \u001b[32m15.9/15.9 MB\u001b[0m \u001b[31m83.2 MB/s\u001b[0m eta \u001b[36m0:00:00\u001b[0m\n",
            "\u001b[?25hCollecting zarr (from monai[all])\n",
            "  Downloading zarr-2.18.2-py3-none-any.whl (210 kB)\n",
            "\u001b[2K     \u001b[90m━━━━━━━━━━━━━━━━━━━━━━━━━━━━━━━━━━━━━━━━\u001b[0m \u001b[32m210.2/210.2 kB\u001b[0m \u001b[31m29.3 MB/s\u001b[0m eta \u001b[36m0:00:00\u001b[0m\n",
            "\u001b[?25hCollecting lpips==0.1.4 (from monai[all])\n",
            "  Downloading lpips-0.1.4-py3-none-any.whl (53 kB)\n",
            "\u001b[2K     \u001b[90m━━━━━━━━━━━━━━━━━━━━━━━━━━━━━━━━━━━━━━━━\u001b[0m \u001b[32m53.8/53.8 kB\u001b[0m \u001b[31m8.4 MB/s\u001b[0m eta \u001b[36m0:00:00\u001b[0m\n",
            "\u001b[?25hCollecting nvidia-ml-py (from monai[all])\n",
            "  Downloading nvidia_ml_py-12.555.43-py3-none-any.whl (39 kB)\n",
            "Requirement already satisfied: huggingface-hub in /usr/local/lib/python3.10/dist-packages (from monai[all]) (0.23.4)\n",
            "Collecting transformers<4.41.0,>=4.36.0 (from monai[all])\n",
            "  Downloading transformers-4.40.2-py3-none-any.whl (9.0 MB)\n",
            "\u001b[2K     \u001b[90m━━━━━━━━━━━━━━━━━━━━━━━━━━━━━━━━━━━━━━━━\u001b[0m \u001b[32m9.0/9.0 MB\u001b[0m \u001b[31m112.0 MB/s\u001b[0m eta \u001b[36m0:00:00\u001b[0m\n",
            "\u001b[?25hCollecting onnxruntime (from monai[all])\n",
            "  Downloading onnxruntime-1.18.1-cp310-cp310-manylinux_2_27_x86_64.manylinux_2_28_x86_64.whl (6.8 MB)\n",
            "\u001b[2K     \u001b[90m━━━━━━━━━━━━━━━━━━━━━━━━━━━━━━━━━━━━━━━━\u001b[0m \u001b[32m6.8/6.8 MB\u001b[0m \u001b[31m109.9 MB/s\u001b[0m eta \u001b[36m0:00:00\u001b[0m\n",
            "\u001b[?25hCollecting cucim-cu12 (from monai[all])\n",
            "  Downloading cucim_cu12-24.6.0-cp310-cp310-manylinux_2_28_x86_64.whl (5.7 MB)\n",
            "\u001b[2K     \u001b[90m━━━━━━━━━━━━━━━━━━━━━━━━━━━━━━━━━━━━━━━━\u001b[0m \u001b[32m5.7/5.7 MB\u001b[0m \u001b[31m94.6 MB/s\u001b[0m eta \u001b[36m0:00:00\u001b[0m\n",
            "\u001b[?25hRequirement already satisfied: packaging in /usr/local/lib/python3.10/dist-packages (from pytorch-ignite==0.4.11->monai[all]) (24.1)\n",
            "Requirement already satisfied: attrs>=18.0 in /usr/local/lib/python3.10/dist-packages (from clearml>=1.10.0rc0->monai[all]) (23.2.0)\n",
            "Collecting furl>=2.0.0 (from clearml>=1.10.0rc0->monai[all])\n",
            "  Downloading furl-2.1.3-py2.py3-none-any.whl (20 kB)\n",
            "Collecting pathlib2>=2.3.0 (from clearml>=1.10.0rc0->monai[all])\n",
            "  Downloading pathlib2-2.3.7.post1-py2.py3-none-any.whl (18 kB)\n",
            "Requirement already satisfied: pyparsing>=2.0.3 in /usr/local/lib/python3.10/dist-packages (from clearml>=1.10.0rc0->monai[all]) (3.1.2)\n",
            "Requirement already satisfied: python-dateutil>=2.6.1 in /usr/local/lib/python3.10/dist-packages (from clearml>=1.10.0rc0->monai[all]) (2.8.2)\n",
            "Requirement already satisfied: requests>=2.20.0 in /usr/local/lib/python3.10/dist-packages (from clearml>=1.10.0rc0->monai[all]) (2.31.0)\n",
            "Requirement already satisfied: six>=1.13.0 in /usr/local/lib/python3.10/dist-packages (from clearml>=1.10.0rc0->monai[all]) (1.16.0)\n",
            "Requirement already satisfied: urllib3>=1.21.1 in /usr/local/lib/python3.10/dist-packages (from clearml>=1.10.0rc0->monai[all]) (2.0.7)\n",
            "Collecting pyjwt<2.9.0,>=2.4.0 (from clearml>=1.10.0rc0->monai[all])\n",
            "  Downloading PyJWT-2.8.0-py3-none-any.whl (22 kB)\n",
            "Requirement already satisfied: referencing<0.40 in /usr/local/lib/python3.10/dist-packages (from clearml>=1.10.0rc0->monai[all]) (0.35.1)\n",
            "Requirement already satisfied: beautifulsoup4 in /usr/local/lib/python3.10/dist-packages (from gdown>=4.7.3->monai[all]) (4.12.3)\n",
            "Requirement already satisfied: filelock in /usr/local/lib/python3.10/dist-packages (from gdown>=4.7.3->monai[all]) (3.15.4)\n",
            "Collecting itk-core==5.4.0 (from itk>=5.2->monai[all])\n",
            "  Downloading itk_core-5.4.0-cp310-cp310-manylinux_2_28_x86_64.whl (80.2 MB)\n",
            "\u001b[2K     \u001b[90m━━━━━━━━━━━━━━━━━━━━━━━━━━━━━━━━━━━━━━━━\u001b[0m \u001b[32m80.2/80.2 MB\u001b[0m \u001b[31m9.7 MB/s\u001b[0m eta \u001b[36m0:00:00\u001b[0m\n",
            "\u001b[?25hCollecting itk-numerics==5.4.0 (from itk>=5.2->monai[all])\n",
            "  Downloading itk_numerics-5.4.0-cp310-cp310-manylinux_2_28_x86_64.whl (57.0 MB)\n",
            "\u001b[2K     \u001b[90m━━━━━━━━━━━━━━━━━━━━━━━━━━━━━━━━━━━━━━━━\u001b[0m \u001b[32m57.0/57.0 MB\u001b[0m \u001b[31m12.1 MB/s\u001b[0m eta \u001b[36m0:00:00\u001b[0m\n",
            "\u001b[?25hCollecting itk-io==5.4.0 (from itk>=5.2->monai[all])\n",
            "  Downloading itk_io-5.4.0-cp310-cp310-manylinux_2_28_x86_64.whl (28.0 MB)\n",
            "\u001b[2K     \u001b[90m━━━━━━━━━━━━━━━━━━━━━━━━━━━━━━━━━━━━━━━━\u001b[0m \u001b[32m28.0/28.0 MB\u001b[0m \u001b[31m42.7 MB/s\u001b[0m eta \u001b[36m0:00:00\u001b[0m\n",
            "\u001b[?25hCollecting itk-filtering==5.4.0 (from itk>=5.2->monai[all])\n",
            "  Downloading itk_filtering-5.4.0-cp310-cp310-manylinux_2_28_x86_64.whl (67.7 MB)\n",
            "\u001b[2K     \u001b[90m━━━━━━━━━━━━━━━━━━━━━━━━━━━━━━━━━━━━━━━━\u001b[0m \u001b[32m67.7/67.7 MB\u001b[0m \u001b[31m8.8 MB/s\u001b[0m eta \u001b[36m0:00:00\u001b[0m\n",
            "\u001b[?25hCollecting itk-registration==5.4.0 (from itk>=5.2->monai[all])\n",
            "  Downloading itk_registration-5.4.0-cp310-cp310-manylinux_2_28_x86_64.whl (28.4 MB)\n",
            "\u001b[2K     \u001b[90m━━━━━━━━━━━━━━━━━━━━━━━━━━━━━━━━━━━━━━━━\u001b[0m \u001b[32m28.4/28.4 MB\u001b[0m \u001b[31m46.2 MB/s\u001b[0m eta \u001b[36m0:00:00\u001b[0m\n",
            "\u001b[?25hCollecting itk-segmentation==5.4.0 (from itk>=5.2->monai[all])\n",
            "  Downloading itk_segmentation-5.4.0-cp310-cp310-manylinux_2_28_x86_64.whl (15.8 MB)\n",
            "\u001b[2K     \u001b[90m━━━━━━━━━━━━━━━━━━━━━━━━━━━━━━━━━━━━━━━━\u001b[0m \u001b[32m15.8/15.8 MB\u001b[0m \u001b[31m87.6 MB/s\u001b[0m eta \u001b[36m0:00:00\u001b[0m\n",
            "\u001b[?25hRequirement already satisfied: jsonschema-specifications>=2023.03.6 in /usr/local/lib/python3.10/dist-packages (from jsonschema->monai[all]) (2023.12.1)\n",
            "Requirement already satisfied: rpds-py>=0.7.1 in /usr/local/lib/python3.10/dist-packages (from jsonschema->monai[all]) (0.18.1)\n",
            "Requirement already satisfied: contourpy>=1.0.1 in /usr/local/lib/python3.10/dist-packages (from matplotlib>=3.6.3->monai[all]) (1.2.1)\n",
            "Requirement already satisfied: cycler>=0.10 in /usr/local/lib/python3.10/dist-packages (from matplotlib>=3.6.3->monai[all]) (0.12.1)\n",
            "Requirement already satisfied: fonttools>=4.22.0 in /usr/local/lib/python3.10/dist-packages (from matplotlib>=3.6.3->monai[all]) (4.53.0)\n",
            "Requirement already satisfied: kiwisolver>=1.0.1 in /usr/local/lib/python3.10/dist-packages (from matplotlib>=3.6.3->monai[all]) (1.4.5)\n",
            "Requirement already satisfied: Flask<4 in /usr/local/lib/python3.10/dist-packages (from mlflow>=2.12.2->monai[all]) (2.2.5)\n",
            "Collecting alembic!=1.10.0,<2 (from mlflow>=2.12.2->monai[all])\n",
            "  Downloading alembic-1.13.2-py3-none-any.whl (232 kB)\n",
            "\u001b[2K     \u001b[90m━━━━━━━━━━━━━━━━━━━━━━━━━━━━━━━━━━━━━━━━\u001b[0m \u001b[32m233.0/233.0 kB\u001b[0m \u001b[31m32.3 MB/s\u001b[0m eta \u001b[36m0:00:00\u001b[0m\n",
            "\u001b[?25hRequirement already satisfied: cachetools<6,>=5.0.0 in /usr/local/lib/python3.10/dist-packages (from mlflow>=2.12.2->monai[all]) (5.3.3)\n",
            "Requirement already satisfied: click<9,>=7.0 in /usr/local/lib/python3.10/dist-packages (from mlflow>=2.12.2->monai[all]) (8.1.7)\n",
            "Requirement already satisfied: cloudpickle<4 in /usr/local/lib/python3.10/dist-packages (from mlflow>=2.12.2->monai[all]) (2.2.1)\n",
            "Collecting docker<8,>=4.0.0 (from mlflow>=2.12.2->monai[all])\n",
            "  Downloading docker-7.1.0-py3-none-any.whl (147 kB)\n",
            "\u001b[2K     \u001b[90m━━━━━━━━━━━━━━━━━━━━━━━━━━━━━━━━━━━━━━━━\u001b[0m \u001b[32m147.8/147.8 kB\u001b[0m \u001b[31m19.9 MB/s\u001b[0m eta \u001b[36m0:00:00\u001b[0m\n",
            "\u001b[?25hRequirement already satisfied: entrypoints<1 in /usr/local/lib/python3.10/dist-packages (from mlflow>=2.12.2->monai[all]) (0.4)\n",
            "Collecting gitpython<4,>=3.1.9 (from mlflow>=2.12.2->monai[all])\n",
            "  Downloading GitPython-3.1.43-py3-none-any.whl (207 kB)\n",
            "\u001b[2K     \u001b[90m━━━━━━━━━━━━━━━━━━━━━━━━━━━━━━━━━━━━━━━━\u001b[0m \u001b[32m207.3/207.3 kB\u001b[0m \u001b[31m28.6 MB/s\u001b[0m eta \u001b[36m0:00:00\u001b[0m\n",
            "\u001b[?25hCollecting graphene<4 (from mlflow>=2.12.2->monai[all])\n",
            "  Downloading graphene-3.3-py2.py3-none-any.whl (128 kB)\n",
            "\u001b[2K     \u001b[90m━━━━━━━━━━━━━━━━━━━━━━━━━━━━━━━━━━━━━━━━\u001b[0m \u001b[32m128.2/128.2 kB\u001b[0m \u001b[31m19.8 MB/s\u001b[0m eta \u001b[36m0:00:00\u001b[0m\n",
            "\u001b[?25hCollecting importlib-metadata!=4.7.0,<8,>=3.7.0 (from mlflow>=2.12.2->monai[all])\n",
            "  Downloading importlib_metadata-7.2.1-py3-none-any.whl (25 kB)\n",
            "Requirement already satisfied: markdown<4,>=3.3 in /usr/local/lib/python3.10/dist-packages (from mlflow>=2.12.2->monai[all]) (3.6)\n",
            "Collecting opentelemetry-api<3,>=1.9.0 (from mlflow>=2.12.2->monai[all])\n",
            "  Downloading opentelemetry_api-1.25.0-py3-none-any.whl (59 kB)\n",
            "\u001b[2K     \u001b[90m━━━━━━━━━━━━━━━━━━━━━━━━━━━━━━━━━━━━━━━━\u001b[0m \u001b[32m59.9/59.9 kB\u001b[0m \u001b[31m9.8 MB/s\u001b[0m eta \u001b[36m0:00:00\u001b[0m\n",
            "\u001b[?25hCollecting opentelemetry-sdk<3,>=1.9.0 (from mlflow>=2.12.2->monai[all])\n",
            "  Downloading opentelemetry_sdk-1.25.0-py3-none-any.whl (107 kB)\n",
            "\u001b[2K     \u001b[90m━━━━━━━━━━━━━━━━━━━━━━━━━━━━━━━━━━━━━━━━\u001b[0m \u001b[32m107.0/107.0 kB\u001b[0m \u001b[31m15.9 MB/s\u001b[0m eta \u001b[36m0:00:00\u001b[0m\n",
            "\u001b[?25hRequirement already satisfied: protobuf<5,>=3.12.0 in /usr/local/lib/python3.10/dist-packages (from mlflow>=2.12.2->monai[all]) (3.20.3)\n",
            "Requirement already satisfied: pyarrow<16,>=4.0.0 in /usr/local/lib/python3.10/dist-packages (from mlflow>=2.12.2->monai[all]) (14.0.2)\n",
            "Requirement already satisfied: pytz<2025 in /usr/local/lib/python3.10/dist-packages (from mlflow>=2.12.2->monai[all]) (2023.4)\n",
            "Collecting querystring-parser<2 (from mlflow>=2.12.2->monai[all])\n",
            "  Downloading querystring_parser-1.2.4-py2.py3-none-any.whl (7.9 kB)\n",
            "Requirement already satisfied: scikit-learn<2 in /usr/local/lib/python3.10/dist-packages (from mlflow>=2.12.2->monai[all]) (1.2.2)\n",
            "Requirement already satisfied: sqlalchemy<3,>=1.4.0 in /usr/local/lib/python3.10/dist-packages (from mlflow>=2.12.2->monai[all]) (2.0.31)\n",
            "Requirement already satisfied: sqlparse<1,>=0.4.0 in /usr/local/lib/python3.10/dist-packages (from mlflow>=2.12.2->monai[all]) (0.5.0)\n",
            "Requirement already satisfied: Jinja2<4,>=2.11 in /usr/local/lib/python3.10/dist-packages (from mlflow>=2.12.2->monai[all]) (3.1.4)\n",
            "Collecting gunicorn<23 (from mlflow>=2.12.2->monai[all])\n",
            "  Downloading gunicorn-22.0.0-py3-none-any.whl (84 kB)\n",
            "\u001b[2K     \u001b[90m━━━━━━━━━━━━━━━━━━━━━━━━━━━━━━━━━━━━━━━━\u001b[0m \u001b[32m84.4/84.4 kB\u001b[0m \u001b[31m14.0 MB/s\u001b[0m eta \u001b[36m0:00:00\u001b[0m\n",
            "\u001b[?25hRequirement already satisfied: tzdata>=2022.1 in /usr/local/lib/python3.10/dist-packages (from pandas->monai[all]) (2024.1)\n",
            "Requirement already satisfied: networkx>=2.2 in /usr/local/lib/python3.10/dist-packages (from scikit-image>=0.14.2->monai[all]) (3.3)\n",
            "Requirement already satisfied: imageio>=2.4.1 in /usr/local/lib/python3.10/dist-packages (from scikit-image>=0.14.2->monai[all]) (2.31.6)\n",
            "Requirement already satisfied: PyWavelets>=1.1.1 in /usr/local/lib/python3.10/dist-packages (from scikit-image>=0.14.2->monai[all]) (1.6.0)\n",
            "Requirement already satisfied: typing-extensions>=4.8.0 in /usr/local/lib/python3.10/dist-packages (from torch>=1.9->monai[all]) (4.12.2)\n",
            "Requirement already satisfied: sympy in /usr/local/lib/python3.10/dist-packages (from torch>=1.9->monai[all]) (1.12.1)\n",
            "Requirement already satisfied: fsspec in /usr/local/lib/python3.10/dist-packages (from torch>=1.9->monai[all]) (2023.6.0)\n",
            "Collecting nvidia-cuda-nvrtc-cu12==12.1.105 (from torch>=1.9->monai[all])\n",
            "  Using cached nvidia_cuda_nvrtc_cu12-12.1.105-py3-none-manylinux1_x86_64.whl (23.7 MB)\n",
            "Collecting nvidia-cuda-runtime-cu12==12.1.105 (from torch>=1.9->monai[all])\n",
            "  Using cached nvidia_cuda_runtime_cu12-12.1.105-py3-none-manylinux1_x86_64.whl (823 kB)\n",
            "Collecting nvidia-cuda-cupti-cu12==12.1.105 (from torch>=1.9->monai[all])\n",
            "  Using cached nvidia_cuda_cupti_cu12-12.1.105-py3-none-manylinux1_x86_64.whl (14.1 MB)\n",
            "Collecting nvidia-cudnn-cu12==8.9.2.26 (from torch>=1.9->monai[all])\n",
            "  Using cached nvidia_cudnn_cu12-8.9.2.26-py3-none-manylinux1_x86_64.whl (731.7 MB)\n",
            "Collecting nvidia-cublas-cu12==12.1.3.1 (from torch>=1.9->monai[all])\n",
            "  Using cached nvidia_cublas_cu12-12.1.3.1-py3-none-manylinux1_x86_64.whl (410.6 MB)\n",
            "Collecting nvidia-cufft-cu12==11.0.2.54 (from torch>=1.9->monai[all])\n",
            "  Using cached nvidia_cufft_cu12-11.0.2.54-py3-none-manylinux1_x86_64.whl (121.6 MB)\n",
            "Collecting nvidia-curand-cu12==10.3.2.106 (from torch>=1.9->monai[all])\n",
            "  Using cached nvidia_curand_cu12-10.3.2.106-py3-none-manylinux1_x86_64.whl (56.5 MB)\n",
            "Collecting nvidia-cusolver-cu12==11.4.5.107 (from torch>=1.9->monai[all])\n",
            "  Using cached nvidia_cusolver_cu12-11.4.5.107-py3-none-manylinux1_x86_64.whl (124.2 MB)\n",
            "Collecting nvidia-cusparse-cu12==12.1.0.106 (from torch>=1.9->monai[all])\n",
            "  Using cached nvidia_cusparse_cu12-12.1.0.106-py3-none-manylinux1_x86_64.whl (196.0 MB)\n",
            "Collecting nvidia-nccl-cu12==2.20.5 (from torch>=1.9->monai[all])\n",
            "  Using cached nvidia_nccl_cu12-2.20.5-py3-none-manylinux2014_x86_64.whl (176.2 MB)\n",
            "Collecting nvidia-nvtx-cu12==12.1.105 (from torch>=1.9->monai[all])\n",
            "  Using cached nvidia_nvtx_cu12-12.1.105-py3-none-manylinux1_x86_64.whl (99 kB)\n",
            "Requirement already satisfied: triton==2.3.0 in /usr/local/lib/python3.10/dist-packages (from torch>=1.9->monai[all]) (2.3.0)\n",
            "Collecting nvidia-nvjitlink-cu12 (from nvidia-cusolver-cu12==11.4.5.107->torch>=1.9->monai[all])\n",
            "  Downloading nvidia_nvjitlink_cu12-12.5.82-py3-none-manylinux2014_x86_64.whl (21.3 MB)\n",
            "\u001b[2K     \u001b[90m━━━━━━━━━━━━━━━━━━━━━━━━━━━━━━━━━━━━━━━━\u001b[0m \u001b[32m21.3/21.3 MB\u001b[0m \u001b[31m65.7 MB/s\u001b[0m eta \u001b[36m0:00:00\u001b[0m\n",
            "\u001b[?25hRequirement already satisfied: regex!=2019.12.17 in /usr/local/lib/python3.10/dist-packages (from transformers<4.41.0,>=4.36.0->monai[all]) (2024.5.15)\n",
            "Requirement already satisfied: tokenizers<0.20,>=0.19 in /usr/local/lib/python3.10/dist-packages (from transformers<4.41.0,>=4.36.0->monai[all]) (0.19.1)\n",
            "Requirement already satisfied: safetensors>=0.4.1 in /usr/local/lib/python3.10/dist-packages (from transformers<4.41.0,>=4.36.0->monai[all]) (0.4.3)\n",
            "Requirement already satisfied: cupy-cuda12x>=12.0.0 in /usr/local/lib/python3.10/dist-packages (from cucim-cu12->monai[all]) (12.2.0)\n",
            "Requirement already satisfied: lazy-loader>=0.1 in /usr/local/lib/python3.10/dist-packages (from cucim-cu12->monai[all]) (0.4)\n",
            "Requirement already satisfied: termcolor in /usr/local/lib/python3.10/dist-packages (from fire->monai[all]) (2.4.0)\n",
            "Requirement already satisfied: setuptools in /usr/local/lib/python3.10/dist-packages (from nibabel->monai[all]) (67.7.2)\n",
            "Collecting astor (from nni->monai[all])\n",
            "  Downloading astor-0.8.1-py2.py3-none-any.whl (27 kB)\n",
            "Collecting colorama (from nni->monai[all])\n",
            "  Downloading colorama-0.4.6-py2.py3-none-any.whl (25 kB)\n",
            "Collecting filelock (from gdown>=4.7.3->monai[all])\n",
            "  Downloading filelock-3.11.0-py3-none-any.whl (10.0 kB)\n",
            "Collecting json-tricks>=3.15.5 (from nni->monai[all])\n",
            "  Downloading json_tricks-3.17.3-py2.py3-none-any.whl (27 kB)\n",
            "Requirement already satisfied: prettytable in /usr/local/lib/python3.10/dist-packages (from nni->monai[all]) (3.10.0)\n",
            "Collecting PythonWebHDFS (from nni->monai[all])\n",
            "  Downloading PythonWebHDFS-0.2.3-py3-none-any.whl (10 kB)\n",
            "Collecting responses (from nni->monai[all])\n",
            "  Downloading responses-0.25.3-py3-none-any.whl (55 kB)\n",
            "\u001b[2K     \u001b[90m━━━━━━━━━━━━━━━━━━━━━━━━━━━━━━━━━━━━━━━━\u001b[0m \u001b[32m55.2/55.2 kB\u001b[0m \u001b[31m8.0 MB/s\u001b[0m eta \u001b[36m0:00:00\u001b[0m\n",
            "\u001b[?25hCollecting schema (from nni->monai[all])\n",
            "  Downloading schema-0.7.7-py2.py3-none-any.whl (18 kB)\n",
            "Collecting typeguard<4.1.3,>=3.0.0 (from nni->monai[all])\n",
            "  Downloading typeguard-4.1.2-py3-none-any.whl (33 kB)\n",
            "Collecting websockets>=10.1 (from nni->monai[all])\n",
            "  Downloading websockets-12.0-cp310-cp310-manylinux_2_5_x86_64.manylinux1_x86_64.manylinux_2_17_x86_64.manylinux2014_x86_64.whl (130 kB)\n",
            "\u001b[2K     \u001b[90m━━━━━━━━━━━━━━━━━━━━━━━━━━━━━━━━━━━━━━━━\u001b[0m \u001b[32m130.2/130.2 kB\u001b[0m \u001b[31m19.9 MB/s\u001b[0m eta \u001b[36m0:00:00\u001b[0m\n",
            "\u001b[?25hCollecting coloredlogs (from onnxruntime->monai[all])\n",
            "  Downloading coloredlogs-15.0.1-py2.py3-none-any.whl (46 kB)\n",
            "\u001b[2K     \u001b[90m━━━━━━━━━━━━━━━━━━━━━━━━━━━━━━━━━━━━━━━━\u001b[0m \u001b[32m46.0/46.0 kB\u001b[0m \u001b[31m6.5 MB/s\u001b[0m eta \u001b[36m0:00:00\u001b[0m\n",
            "\u001b[?25hRequirement already satisfied: flatbuffers in /usr/local/lib/python3.10/dist-packages (from onnxruntime->monai[all]) (24.3.25)\n",
            "Collecting colorlog (from optuna->monai[all])\n",
            "  Downloading colorlog-6.8.2-py3-none-any.whl (11 kB)\n",
            "Collecting nptyping (from pynrrd->monai[all])\n",
            "  Downloading nptyping-2.5.0-py3-none-any.whl (37 kB)\n",
            "Requirement already satisfied: absl-py>=0.4 in /usr/local/lib/python3.10/dist-packages (from tensorboard->monai[all]) (1.4.0)\n",
            "Requirement already satisfied: grpcio>=1.48.2 in /usr/local/lib/python3.10/dist-packages (from tensorboard->monai[all]) (1.64.1)\n",
            "Requirement already satisfied: google-auth<3,>=1.6.3 in /usr/local/lib/python3.10/dist-packages (from tensorboard->monai[all]) (2.27.0)\n",
            "Requirement already satisfied: google-auth-oauthlib<2,>=0.5 in /usr/local/lib/python3.10/dist-packages (from tensorboard->monai[all]) (1.2.0)\n",
            "Requirement already satisfied: tensorboard-data-server<0.8.0,>=0.7.0 in /usr/local/lib/python3.10/dist-packages (from tensorboard->monai[all]) (0.7.2)\n",
            "Requirement already satisfied: werkzeug>=1.0.1 in /usr/local/lib/python3.10/dist-packages (from tensorboard->monai[all]) (3.0.3)\n",
            "Collecting asciitree (from zarr->monai[all])\n",
            "  Downloading asciitree-0.3.3.tar.gz (4.0 kB)\n",
            "  Preparing metadata (setup.py) ... \u001b[?25l\u001b[?25hdone\n",
            "Collecting numcodecs>=0.10.0 (from zarr->monai[all])\n",
            "  Downloading numcodecs-0.12.1-cp310-cp310-manylinux_2_17_x86_64.manylinux2014_x86_64.whl (7.7 MB)\n",
            "\u001b[2K     \u001b[90m━━━━━━━━━━━━━━━━━━━━━━━━━━━━━━━━━━━━━━━━\u001b[0m \u001b[32m7.7/7.7 MB\u001b[0m \u001b[31m114.6 MB/s\u001b[0m eta \u001b[36m0:00:00\u001b[0m\n",
            "\u001b[?25hCollecting fasteners (from zarr->monai[all])\n",
            "  Downloading fasteners-0.19-py3-none-any.whl (18 kB)\n",
            "Collecting Mako (from alembic!=1.10.0,<2->mlflow>=2.12.2->monai[all])\n",
            "  Downloading Mako-1.3.5-py3-none-any.whl (78 kB)\n",
            "\u001b[2K     \u001b[90m━━━━━━━━━━━━━━━━━━━━━━━━━━━━━━━━━━━━━━━━\u001b[0m \u001b[32m78.6/78.6 kB\u001b[0m \u001b[31m11.7 MB/s\u001b[0m eta \u001b[36m0:00:00\u001b[0m\n",
            "\u001b[?25hRequirement already satisfied: fastrlock>=0.5 in /usr/local/lib/python3.10/dist-packages (from cupy-cuda12x>=12.0.0->cucim-cu12->monai[all]) (0.8.2)\n",
            "Requirement already satisfied: itsdangerous>=2.0 in /usr/local/lib/python3.10/dist-packages (from Flask<4->mlflow>=2.12.2->monai[all]) (2.2.0)\n",
            "Collecting orderedmultidict>=1.0.1 (from furl>=2.0.0->clearml>=1.10.0rc0->monai[all])\n",
            "  Downloading orderedmultidict-1.0.1-py2.py3-none-any.whl (11 kB)\n",
            "Collecting gitdb<5,>=4.0.1 (from gitpython<4,>=3.1.9->mlflow>=2.12.2->monai[all])\n",
            "  Downloading gitdb-4.0.11-py3-none-any.whl (62 kB)\n",
            "\u001b[2K     \u001b[90m━━━━━━━━━━━━━━━━━━━━━━━━━━━━━━━━━━━━━━━━\u001b[0m \u001b[32m62.7/62.7 kB\u001b[0m \u001b[31m9.2 MB/s\u001b[0m eta \u001b[36m0:00:00\u001b[0m\n",
            "\u001b[?25hRequirement already satisfied: pyasn1-modules>=0.2.1 in /usr/local/lib/python3.10/dist-packages (from google-auth<3,>=1.6.3->tensorboard->monai[all]) (0.4.0)\n",
            "Requirement already satisfied: rsa<5,>=3.1.4 in /usr/local/lib/python3.10/dist-packages (from google-auth<3,>=1.6.3->tensorboard->monai[all]) (4.9)\n",
            "Requirement already satisfied: requests-oauthlib>=0.7.0 in /usr/local/lib/python3.10/dist-packages (from google-auth-oauthlib<2,>=0.5->tensorboard->monai[all]) (1.3.1)\n",
            "Collecting graphql-core<3.3,>=3.1 (from graphene<4->mlflow>=2.12.2->monai[all])\n",
            "  Downloading graphql_core-3.2.3-py3-none-any.whl (202 kB)\n",
            "\u001b[2K     \u001b[90m━━━━━━━━━━━━━━━━━━━━━━━━━━━━━━━━━━━━━━━━\u001b[0m \u001b[32m202.9/202.9 kB\u001b[0m \u001b[31m28.9 MB/s\u001b[0m eta \u001b[36m0:00:00\u001b[0m\n",
            "\u001b[?25hCollecting graphql-relay<3.3,>=3.1 (from graphene<4->mlflow>=2.12.2->monai[all])\n",
            "  Downloading graphql_relay-3.2.0-py3-none-any.whl (16 kB)\n",
            "Collecting aniso8601<10,>=8 (from graphene<4->mlflow>=2.12.2->monai[all])\n",
            "  Downloading aniso8601-9.0.1-py2.py3-none-any.whl (52 kB)\n",
            "\u001b[2K     \u001b[90m━━━━━━━━━━━━━━━━━━━━━━━━━━━━━━━━━━━━━━━━\u001b[0m \u001b[32m52.8/52.8 kB\u001b[0m \u001b[31m8.4 MB/s\u001b[0m eta \u001b[36m0:00:00\u001b[0m\n",
            "\u001b[?25hRequirement already satisfied: zipp>=0.5 in /usr/local/lib/python3.10/dist-packages (from importlib-metadata!=4.7.0,<8,>=3.7.0->mlflow>=2.12.2->monai[all]) (3.19.2)\n",
            "Requirement already satisfied: MarkupSafe>=2.0 in /usr/local/lib/python3.10/dist-packages (from Jinja2<4,>=2.11->mlflow>=2.12.2->monai[all]) (2.1.5)\n",
            "Collecting deprecated>=1.2.6 (from opentelemetry-api<3,>=1.9.0->mlflow>=2.12.2->monai[all])\n",
            "  Downloading Deprecated-1.2.14-py2.py3-none-any.whl (9.6 kB)\n",
            "Collecting importlib-metadata!=4.7.0,<8,>=3.7.0 (from mlflow>=2.12.2->monai[all])\n",
            "  Downloading importlib_metadata-7.1.0-py3-none-any.whl (24 kB)\n",
            "Collecting opentelemetry-semantic-conventions==0.46b0 (from opentelemetry-sdk<3,>=1.9.0->mlflow>=2.12.2->monai[all])\n",
            "  Downloading opentelemetry_semantic_conventions-0.46b0-py3-none-any.whl (130 kB)\n",
            "\u001b[2K     \u001b[90m━━━━━━━━━━━━━━━━━━━━━━━━━━━━━━━━━━━━━━━━\u001b[0m \u001b[32m130.5/130.5 kB\u001b[0m \u001b[31m18.6 MB/s\u001b[0m eta \u001b[36m0:00:00\u001b[0m\n",
            "\u001b[?25hRequirement already satisfied: charset-normalizer<4,>=2 in /usr/local/lib/python3.10/dist-packages (from requests>=2.20.0->clearml>=1.10.0rc0->monai[all]) (3.3.2)\n",
            "Requirement already satisfied: idna<4,>=2.5 in /usr/local/lib/python3.10/dist-packages (from requests>=2.20.0->clearml>=1.10.0rc0->monai[all]) (3.7)\n",
            "Requirement already satisfied: certifi>=2017.4.17 in /usr/local/lib/python3.10/dist-packages (from requests>=2.20.0->clearml>=1.10.0rc0->monai[all]) (2024.6.2)\n",
            "Requirement already satisfied: joblib>=1.1.1 in /usr/local/lib/python3.10/dist-packages (from scikit-learn<2->mlflow>=2.12.2->monai[all]) (1.4.2)\n",
            "Requirement already satisfied: threadpoolctl>=2.0.0 in /usr/local/lib/python3.10/dist-packages (from scikit-learn<2->mlflow>=2.12.2->monai[all]) (3.5.0)\n",
            "Requirement already satisfied: greenlet!=0.4.17 in /usr/local/lib/python3.10/dist-packages (from sqlalchemy<3,>=1.4.0->mlflow>=2.12.2->monai[all]) (3.0.3)\n",
            "Requirement already satisfied: soupsieve>1.2 in /usr/local/lib/python3.10/dist-packages (from beautifulsoup4->gdown>=4.7.3->monai[all]) (2.5)\n",
            "Collecting humanfriendly>=9.1 (from coloredlogs->onnxruntime->monai[all])\n",
            "  Downloading humanfriendly-10.0-py2.py3-none-any.whl (86 kB)\n",
            "\u001b[2K     \u001b[90m━━━━━━━━━━━━━━━━━━━━━━━━━━━━━━━━━━━━━━━━\u001b[0m \u001b[32m86.8/86.8 kB\u001b[0m \u001b[31m13.6 MB/s\u001b[0m eta \u001b[36m0:00:00\u001b[0m\n",
            "\u001b[?25hRequirement already satisfied: wcwidth in /usr/local/lib/python3.10/dist-packages (from prettytable->nni->monai[all]) (0.2.13)\n",
            "Collecting simplejson (from PythonWebHDFS->nni->monai[all])\n",
            "  Downloading simplejson-3.19.2-cp310-cp310-manylinux_2_5_x86_64.manylinux1_x86_64.manylinux_2_17_x86_64.manylinux2014_x86_64.whl (137 kB)\n",
            "\u001b[2K     \u001b[90m━━━━━━━━━━━━━━━━━━━━━━━━━━━━━━━━━━━━━━━━\u001b[0m \u001b[32m137.9/137.9 kB\u001b[0m \u001b[31m18.4 MB/s\u001b[0m eta \u001b[36m0:00:00\u001b[0m\n",
            "\u001b[?25hRequirement already satisfied: PySocks!=1.5.7,>=1.5.6 in /usr/local/lib/python3.10/dist-packages (from requests>=2.20.0->clearml>=1.10.0rc0->monai[all]) (1.7.1)\n",
            "Requirement already satisfied: mpmath<1.4.0,>=1.1.0 in /usr/local/lib/python3.10/dist-packages (from sympy->torch>=1.9->monai[all]) (1.3.0)\n",
            "Requirement already satisfied: wrapt<2,>=1.10 in /usr/local/lib/python3.10/dist-packages (from deprecated>=1.2.6->opentelemetry-api<3,>=1.9.0->mlflow>=2.12.2->monai[all]) (1.14.1)\n",
            "Collecting smmap<6,>=3.0.1 (from gitdb<5,>=4.0.1->gitpython<4,>=3.1.9->mlflow>=2.12.2->monai[all])\n",
            "  Downloading smmap-5.0.1-py3-none-any.whl (24 kB)\n",
            "Requirement already satisfied: pyasn1<0.7.0,>=0.4.6 in /usr/local/lib/python3.10/dist-packages (from pyasn1-modules>=0.2.1->google-auth<3,>=1.6.3->tensorboard->monai[all]) (0.6.0)\n",
            "Requirement already satisfied: oauthlib>=3.0.0 in /usr/local/lib/python3.10/dist-packages (from requests-oauthlib>=0.7.0->google-auth-oauthlib<2,>=0.5->tensorboard->monai[all]) (3.2.2)\n",
            "Building wheels for collected packages: fire, openslide-python, asciitree\n",
            "  Building wheel for fire (setup.py) ... \u001b[?25l\u001b[?25hdone\n",
            "  Created wheel for fire: filename=fire-0.6.0-py2.py3-none-any.whl size=117029 sha256=47bf9af8462bce38dfa9266d7c67fcfb86b5b7d158ab46b03133acca2ed80ab0\n",
            "  Stored in directory: /root/.cache/pip/wheels/d6/6d/5d/5b73fa0f46d01a793713f8859201361e9e581ced8c75e5c6a3\n",
            "  Building wheel for openslide-python (setup.py) ... \u001b[?25l\u001b[?25hdone\n",
            "  Created wheel for openslide-python: filename=openslide_python-1.3.1-cp310-cp310-linux_x86_64.whl size=33553 sha256=f478c57a415e89b2b3e9cc8750fe2471079725a46e4ac1563bb0aa3cb0e3ce7e\n",
            "  Stored in directory: /root/.cache/pip/wheels/79/79/fa/29a0087493c69dff7fd0b70fab5d6771002a531010161d2d97\n",
            "  Building wheel for asciitree (setup.py) ... \u001b[?25l\u001b[?25hdone\n",
            "  Created wheel for asciitree: filename=asciitree-0.3.3-py3-none-any.whl size=5034 sha256=cc6ba03b35257c1e2107436c3367cf683994693499d79cdbe1b1b693ea1e899a\n",
            "  Stored in directory: /root/.cache/pip/wheels/7f/4e/be/1171b40f43b918087657ec57cf3b81fa1a2e027d8755baa184\n",
            "Successfully built fire openslide-python asciitree\n",
            "Installing collected packages: schema, nvidia-ml-py, ninja, lmdb, json-tricks, asciitree, aniso8601, websockets, typeguard, tensorboardX, smmap, simplejson, querystring-parser, pyjwt, pydicom, pathlib2, orderedmultidict, openslide-python, onnx, nvidia-nvtx-cu12, nvidia-nvjitlink-cu12, nvidia-nccl-cu12, nvidia-curand-cu12, nvidia-cufft-cu12, nvidia-cuda-runtime-cu12, nvidia-cuda-nvrtc-cu12, nvidia-cuda-cupti-cu12, nvidia-cublas-cu12, numcodecs, nptyping, Mako, itk-core, importlib-metadata, imagecodecs, humanfriendly, gunicorn, graphql-core, fire, filelock, fasteners, einops, deprecated, colorlog, colorama, astor, zarr, responses, PythonWebHDFS, pynrrd, opentelemetry-api, nvidia-cusparse-cu12, nvidia-cudnn-cu12, itk-numerics, itk-io, graphql-relay, gitdb, furl, docker, coloredlogs, alembic, optuna, opentelemetry-semantic-conventions, onnxruntime, nvidia-cusolver-cu12, nni, itk-filtering, graphene, gitpython, cucim-cu12, transformers, opentelemetry-sdk, itk-segmentation, itk-registration, clearml, pytorch-ignite, monai, mlflow, itk, lpips\n",
            "  Attempting uninstall: pyjwt\n",
            "    Found existing installation: PyJWT 2.3.0\n",
            "    Uninstalling PyJWT-2.3.0:\n",
            "      Successfully uninstalled PyJWT-2.3.0\n",
            "  Attempting uninstall: importlib-metadata\n",
            "    Found existing installation: importlib_metadata 8.0.0\n",
            "    Uninstalling importlib_metadata-8.0.0:\n",
            "      Successfully uninstalled importlib_metadata-8.0.0\n",
            "  Attempting uninstall: filelock\n",
            "    Found existing installation: filelock 3.15.4\n",
            "    Uninstalling filelock-3.15.4:\n",
            "      Successfully uninstalled filelock-3.15.4\n",
            "  Attempting uninstall: transformers\n",
            "    Found existing installation: transformers 4.41.2\n",
            "    Uninstalling transformers-4.41.2:\n",
            "      Successfully uninstalled transformers-4.41.2\n",
            "Successfully installed Mako-1.3.5 PythonWebHDFS-0.2.3 alembic-1.13.2 aniso8601-9.0.1 asciitree-0.3.3 astor-0.8.1 clearml-1.16.3rc1 colorama-0.4.6 coloredlogs-15.0.1 colorlog-6.8.2 cucim-cu12-24.6.0 deprecated-1.2.14 docker-7.1.0 einops-0.8.0 fasteners-0.19 filelock-3.11.0 fire-0.6.0 furl-2.1.3 gitdb-4.0.11 gitpython-3.1.43 graphene-3.3 graphql-core-3.2.3 graphql-relay-3.2.0 gunicorn-22.0.0 humanfriendly-10.0 imagecodecs-2024.6.1 importlib-metadata-7.1.0 itk-5.4.0 itk-core-5.4.0 itk-filtering-5.4.0 itk-io-5.4.0 itk-numerics-5.4.0 itk-registration-5.4.0 itk-segmentation-5.4.0 json-tricks-3.17.3 lmdb-1.5.1 lpips-0.1.4 mlflow-2.14.2 monai-1.3.2 ninja-1.11.1.1 nni-3.0 nptyping-2.5.0 numcodecs-0.12.1 nvidia-cublas-cu12-12.1.3.1 nvidia-cuda-cupti-cu12-12.1.105 nvidia-cuda-nvrtc-cu12-12.1.105 nvidia-cuda-runtime-cu12-12.1.105 nvidia-cudnn-cu12-8.9.2.26 nvidia-cufft-cu12-11.0.2.54 nvidia-curand-cu12-10.3.2.106 nvidia-cusolver-cu12-11.4.5.107 nvidia-cusparse-cu12-12.1.0.106 nvidia-ml-py-12.555.43 nvidia-nccl-cu12-2.20.5 nvidia-nvjitlink-cu12-12.5.82 nvidia-nvtx-cu12-12.1.105 onnx-1.16.1 onnxruntime-1.18.1 openslide-python-1.3.1 opentelemetry-api-1.25.0 opentelemetry-sdk-1.25.0 opentelemetry-semantic-conventions-0.46b0 optuna-3.6.1 orderedmultidict-1.0.1 pathlib2-2.3.7.post1 pydicom-2.4.4 pyjwt-2.8.0 pynrrd-1.0.0 pytorch-ignite-0.4.11 querystring-parser-1.2.4 responses-0.25.3 schema-0.7.7 simplejson-3.19.2 smmap-5.0.1 tensorboardX-2.6.2.2 transformers-4.40.2 typeguard-4.1.2 websockets-12.0 zarr-2.18.2\n"
          ]
        }
      ],
      "source": [
        "# Install Dependencies\n",
        "!pip install monai[all]"
      ]
    },
    {
      "cell_type": "markdown",
      "metadata": {
        "id": "ZZe4nNyJ16Db"
      },
      "source": [
        "## Importing Libraries"
      ]
    },
    {
      "cell_type": "code",
      "execution_count": null,
      "metadata": {
        "id": "K3bYJq5118T0"
      },
      "outputs": [],
      "source": [
        "import os\n",
        "import argparse\n",
        "\n",
        "from tqdm import tqdm\n",
        "import json\n",
        "\n",
        "from monai.losses import DiceCELoss\n",
        "from monai.inferers import sliding_window_inference\n",
        "from monai.transforms import (\n",
        "    AsDiscrete,\n",
        "    CropForegroundd,\n",
        "    RandAffined,\n",
        "    Compose,\n",
        "    LoadImaged,\n",
        "    Orientationd,\n",
        "    ScaleIntensityRanged,\n",
        "    Spacingd,\n",
        "    EnsureChannelFirstd,\n",
        "    SpatialPadd,\n",
        "    ToTensord,\n",
        "    RandCropByPosNegLabeld,\n",
        "    RandGaussianNoised,\n",
        "    RandAdjustContrastd,\n",
        "    RandFlipd,\n",
        "    RandGaussianSmoothd,\n",
        "    RandRotated,\n",
        "    AsDiscreted,\n",
        "    ResampleToMatchd,\n",
        "    ConcatItemsd,\n",
        "    ConcatItemsd,\n",
        "    ScaleIntensityd\n",
        ")\n",
        "import monai\n",
        "from monai.metrics import DiceMetric\n",
        "from monai.networks.nets import UNet\n",
        "\n",
        "from monai.data import (\n",
        "    DataLoader,\n",
        "    CacheDataset,\n",
        "    Dataset,\n",
        "    decollate_batch,\n",
        "    set_track_meta,\n",
        ")\n",
        "from monai.visualize import matshow3d\n",
        "import matplotlib.pyplot as plt\n",
        "import pandas as pd\n",
        "\n",
        "\n",
        "import torch\n",
        "import numpy as np\n",
        "from time import sleep\n",
        "\n",
        "from datetime import datetime"
      ]
    },
    {
      "cell_type": "markdown",
      "metadata": {
        "id": "INpxZjes8rnd"
      },
      "source": [
        "## Auxiliar Functions"
      ]
    },
    {
      "cell_type": "code",
      "execution_count": null,
      "metadata": {
        "id": "civLdlSg8wlL"
      },
      "outputs": [],
      "source": [
        "def custom_print(*args, **kwargs):\n",
        "    # Get the current datetime\n",
        "    current_time = datetime.now().strftime(\"%Y-%m-%d %H:%M:%S\")\n",
        "    # Construct the message with the datetime\n",
        "    formatted_message = f\"{current_time} - {' '.join(map(str, args))}\"\n",
        "    # Use the built-in print function to display the message\n",
        "    print(formatted_message, **kwargs)"
      ]
    },
    {
      "cell_type": "code",
      "execution_count": null,
      "metadata": {
        "id": "OYVkBYmL41y1"
      },
      "outputs": [],
      "source": [
        "# Train Function\n",
        "def train(\n",
        "    model,\n",
        "    data_in,\n",
        "    loss,\n",
        "    optim,\n",
        "    max_epochs,\n",
        "    model_dir,\n",
        "    device,\n",
        "    name,\n",
        "    test_interval=1,\n",
        "    start_epoch=0,\n",
        "):\n",
        "    best_metric = -1\n",
        "    best_metric_epoch = -1\n",
        "    save_loss_train = []\n",
        "    save_loss_test = []\n",
        "    save_metric_train = []\n",
        "    save_metric_test = []\n",
        "    save_metric_test_per_class = []\n",
        "    save_iou_test_per_class = []\n",
        "    train_loader, test_loader = data_in\n",
        "\n",
        "    data_classes = [\n",
        "        \"csPCa\"\n",
        "    ]\n",
        "\n",
        "    for epoch in range(start_epoch, max_epochs):\n",
        "        print(\"-\" * 50)\n",
        "        custom_print(f\"epoch {epoch + 1}/{max_epochs}\")\n",
        "        model.train()\n",
        "        train_epoch_loss = 0\n",
        "        train_step = 0\n",
        "        epoch_metric_train = 0\n",
        "        with tqdm(train_loader, unit=\"batch\") as tepoch:\n",
        "            for batch_data in tepoch:\n",
        "                current_time = datetime.now().strftime(\"%Y-%m-%d %H:%M:%S\")\n",
        "                tepoch.set_description(f\"{current_time} - Epoch {epoch+1}\")\n",
        "                train_step += 1\n",
        "\n",
        "                volume = batch_data[\"image\"]\n",
        "                label = batch_data[\"label\"]\n",
        "                # print(volume.shape)\n",
        "                # print(label.shape)\n",
        "                volume, labels = (volume.to(device), label.to(device))\n",
        "\n",
        "                optim.zero_grad()\n",
        "                outputs = model(volume)\n",
        "                train_loss = loss(outputs, labels)\n",
        "\n",
        "                train_loss.backward()\n",
        "                optim.step()\n",
        "\n",
        "                train_epoch_loss += train_loss.item()\n",
        "                labels_list = decollate_batch(labels)\n",
        "                labels_convert = [\n",
        "                    post_label(label_tensor) for label_tensor in labels_list\n",
        "                ]\n",
        "\n",
        "                output_list = decollate_batch(outputs)\n",
        "                output_convert = [\n",
        "                    post_pred(output_tensor) for output_tensor in output_list\n",
        "                ]\n",
        "\n",
        "                dice_metric(y_pred=output_convert, y=labels_convert)\n",
        "                iou_metric(y_pred=output_convert, y=labels_convert)\n",
        "\n",
        "                tepoch.set_postfix(\n",
        "                    loss=train_loss.item(),\n",
        "                    dice_score=dice_metric.aggregate(reduction=\"mean\").item(),\n",
        "                )\n",
        "                sleep(0.01)\n",
        "\n",
        "            torch.save(\n",
        "                {\n",
        "                    \"epoch\": epoch + 1,\n",
        "                    \"state_dict\": model.state_dict(),\n",
        "                    \"optimizer\": optimizer.state_dict(),\n",
        "                },\n",
        "                os.path.join(model_dir, name + \"_last_checkpoint.pth\"),\n",
        "            )\n",
        "\n",
        "            print(\"-\" * 20)\n",
        "\n",
        "            train_epoch_loss /= train_step\n",
        "            print(f\"Epoch_loss: {train_epoch_loss:.4f}\")\n",
        "            save_loss_train.append(train_epoch_loss)\n",
        "            np.save(os.path.join(model_dir, name + \"_loss_train.npy\"), save_loss_train)\n",
        "\n",
        "            epoch_metric_train = dice_metric.aggregate(reduction=\"mean\").item()\n",
        "            dice_metric.reset()\n",
        "\n",
        "            print(f\"Epoch_metric: {epoch_metric_train:.4f}\")\n",
        "\n",
        "            iou_metric_train = iou_metric.aggregate(reduction=\"mean\").item()\n",
        "            iou_metric.reset()\n",
        "\n",
        "            print(f\"IoU_metric: {iou_metric_train:.4f}\")\n",
        "\n",
        "            save_metric_train.append(epoch_metric_train)\n",
        "            np.save(\n",
        "                os.path.join(model_dir, name + \"_metric_train.npy\"), save_metric_train\n",
        "            )\n",
        "\n",
        "            if (epoch + 1) % test_interval == 0:\n",
        "\n",
        "                model.eval()\n",
        "                with torch.no_grad():\n",
        "                    test_epoch_loss = 0\n",
        "                    test_metric = 0\n",
        "                    epoch_metric_test = 0\n",
        "                    test_step = 0\n",
        "\n",
        "                    for test_data in tqdm(test_loader):\n",
        "\n",
        "                        test_step += 1\n",
        "\n",
        "                        test_volume = test_data[\"image\"]\n",
        "                        test_label = test_data[\"label\"]\n",
        "\n",
        "                        test_volume, test_label = (\n",
        "                            test_volume.to(device),\n",
        "                            test_label.to(device),\n",
        "                        )\n",
        "\n",
        "                        test_outputs = sliding_window_inference(\n",
        "                            test_volume,patch_size, 2, model, overlap=0.5\n",
        "                        )\n",
        "\n",
        "                        test_loss = loss(test_outputs, test_label)\n",
        "                        test_epoch_loss += test_loss.item()\n",
        "\n",
        "                        labels_list = decollate_batch(test_label)\n",
        "                        labels_convert = [\n",
        "                            post_label(label_tensor) for label_tensor in labels_list\n",
        "                        ]\n",
        "\n",
        "                        output_list = decollate_batch(test_outputs)\n",
        "                        output_convert = [\n",
        "                            post_pred(output_tensor) for output_tensor in output_list\n",
        "                        ]\n",
        "\n",
        "                        dice_metric(y_pred=output_convert, y=labels_convert)\n",
        "                        iou_metric(y_pred=output_convert, y=labels_convert)\n",
        "\n",
        "                    test_epoch_loss /= test_step\n",
        "                    print(f\"test_loss_epoch: {test_epoch_loss:.4f}\")\n",
        "                    save_loss_test.append(test_epoch_loss)\n",
        "                    np.save(\n",
        "                        os.path.join(model_dir, name + \"_loss_test.npy\"), save_loss_test\n",
        "                    )\n",
        "\n",
        "                    epoch_metric_test = dice_metric.aggregate(reduction=\"mean\").item()\n",
        "\n",
        "                    print(f\"test_dice_epoch: {epoch_metric_test:.4f}\")\n",
        "\n",
        "                    dice_scores = {\n",
        "                        key: value\n",
        "                        for key, value in zip(\n",
        "                            data_classes,\n",
        "                            dice_metric.aggregate(reduction=\"mean_batch\").tolist(),\n",
        "                        )\n",
        "                    }\n",
        "                    print(\"test_dice_epoch_per_class:\")\n",
        "                    for key, value in dice_scores.items():\n",
        "                        print(f\"\\t{key}: {value}\")\n",
        "                    save_metric_test_per_class.append(\n",
        "                        np.array(list(dice_scores.values()))\n",
        "                    )\n",
        "                    np.save(\n",
        "                        os.path.join(model_dir, name + \"_metric_test_per_class.npy\"),\n",
        "                        save_metric_test_per_class,\n",
        "                    )\n",
        "\n",
        "                    iou_metric_test = iou_metric.aggregate(reduction=\"mean\").item()\n",
        "\n",
        "                    print(f\"test_iou_epoch: {iou_metric_test:.4f}\")\n",
        "\n",
        "                    iou_scores = {\n",
        "                        key: value\n",
        "                        for key, value in zip(\n",
        "                            data_classes,\n",
        "                            iou_metric.aggregate(reduction=\"mean_batch\").tolist(),\n",
        "                        )\n",
        "                    }\n",
        "                    print(\"test_iou_epoch_per_class:\")\n",
        "                    for key, value in iou_scores.items():\n",
        "                        print(f\"\\t{key}: {value}\")\n",
        "                    save_iou_test_per_class.append(np.array(list(iou_scores.values())))\n",
        "                    np.save(\n",
        "                        os.path.join(model_dir, name + \"_iou_test_per_class.npy\"),\n",
        "                        save_iou_test_per_class,\n",
        "                    )\n",
        "\n",
        "                    iou_metric.reset()\n",
        "                    save_metric_test.append(epoch_metric_test)\n",
        "                    np.save(\n",
        "                        os.path.join(model_dir, name + \"_metric_test.npy\"),\n",
        "                        save_metric_test,\n",
        "                    )\n",
        "                    dice_metric.reset()\n",
        "                    if epoch_metric_test > best_metric:\n",
        "                        best_metric = epoch_metric_test\n",
        "                        best_metric_epoch = epoch + 1\n",
        "                        torch.save(\n",
        "                            {\n",
        "                                \"epoch\": epoch + 1,\n",
        "                                \"state_dict\": model.state_dict(),\n",
        "                                \"optimizer\": optimizer.state_dict(),\n",
        "                            },\n",
        "                            os.path.join(model_dir, name + \"_best_metric_model.pth\"),\n",
        "                        )\n",
        "\n",
        "                    print(\n",
        "                        f\"current epoch: {epoch + 1} current mean dice: {epoch_metric_test:.4f}\"\n",
        "                        f\"\\nbest mean dice: {best_metric:.4f} \"\n",
        "                        f\"at epoch: {best_metric_epoch}\"\n",
        "                    )\n",
        "\n",
        "    print(\n",
        "        f\"train completed, best_metric: {best_metric:.4f} \"\n",
        "        f\"at epoch: {best_metric_epoch}\"\n",
        "    )"
      ]
    },
    {
      "cell_type": "code",
      "execution_count": null,
      "metadata": {
        "id": "ZPypEoSv2dtL"
      },
      "outputs": [],
      "source": [
        "path = \"./prostate158_train/\"\n",
        "train_df = pd.read_csv(os.path.join(path, \"train.csv\"))\n",
        "test_df = pd.read_csv(os.path.join(path, \"valid.csv\"))"
      ]
    },
    {
      "cell_type": "code",
      "execution_count": null,
      "metadata": {
        "id": "_UZAzhTU28-z"
      },
      "outputs": [],
      "source": [
        "# Keep Only images with 2 annotators\n",
        "train_df = train_df.dropna(subset=[\"adc_tumor_reader2\"])\n",
        "test_df = test_df.dropna(subset=[\"adc_tumor_reader2\"])"
      ]
    },
    {
      "cell_type": "code",
      "execution_count": null,
      "metadata": {
        "id": "r9Hy4qiu3B-L"
      },
      "outputs": [],
      "source": [
        "# Add path to all images\n",
        "train_df[\"t2\"] = train_df[\"t2\"].apply(lambda x: os.path.join(path, x))\n",
        "train_df[\"adc\"] = train_df[\"adc\"].apply(lambda x: os.path.join(path, x))\n",
        "train_df[\"dwi\"] = train_df[\"dwi\"].apply(lambda x: os.path.join(path, x))\n",
        "train_df[\"adc_tumor_reader1\"] = train_df[\"adc_tumor_reader1\"].apply(lambda x: os.path.join(path, x))\n",
        "train_df[\"adc_tumor_reader2\"] = train_df[\"adc_tumor_reader2\"].apply(lambda x: os.path.join(path, x))\n",
        "\n",
        "test_df[\"t2\"] = test_df[\"t2\"].apply(lambda x: os.path.join(path, x))\n",
        "test_df[\"adc\"] = test_df[\"adc\"].apply(lambda x: os.path.join(path, x))\n",
        "test_df[\"dwi\"] = test_df[\"dwi\"].apply(lambda x: os.path.join(path, x))\n",
        "test_df[\"adc_tumor_reader1\"] = test_df[\"adc_tumor_reader1\"].apply(lambda x: os.path.join(path, x))\n",
        "test_df[\"adc_tumor_reader2\"] = test_df[\"adc_tumor_reader2\"].apply(lambda x: os.path.join(path, x))\n"
      ]
    },
    {
      "cell_type": "code",
      "execution_count": null,
      "metadata": {
        "id": "iecioEK93O3m"
      },
      "outputs": [],
      "source": [
        "img_columns = [\"t2\", \"dwi\", \"adc\"]  # ,\"adc\",\"dwi\"]\n",
        "label_column = [\"label\"]\n",
        "\n",
        "mode = [\n",
        "        \"bilinear\",\n",
        "        \"bilinear\",\n",
        "        \"bilinear\",\n",
        "        \"nearest\",\n",
        "    ]\n",
        "\n",
        "\n",
        "train_files = [\n",
        "        {\"t2\": t2, \"adc\": adc, \"dwi\": dwi, \"label\": label}\n",
        "        for t2, adc, dwi, label in zip(\n",
        "            train_df[\"t2\"].values,\n",
        "            train_df[\"adc\"].values,\n",
        "            train_df[\"dwi\"].values,\n",
        "            train_df[\"adc_tumor_reader1\"].values,\n",
        "        )\n",
        "    ]\n",
        "test_files = [\n",
        "    {\"t2\": t2, \"adc\": adc, \"dwi\": dwi, \"label\": label}\n",
        "    for t2, adc, dwi, label in zip(\n",
        "        test_df[\"t2\"].values,\n",
        "        test_df[\"adc\"].values,\n",
        "        test_df[\"dwi\"].values,\n",
        "        test_df[\"adc_tumor_reader1\"].values,\n",
        "    )\n",
        "]"
      ]
    },
    {
      "cell_type": "code",
      "execution_count": null,
      "metadata": {
        "id": "nr5eG_Af3fFS"
      },
      "outputs": [],
      "source": [
        "#Define Image transforms\n",
        "pixdim = (0.5, 0.5, 1)\n",
        "patch_size = (32,32,32)\n",
        "train_transforms = Compose(\n",
        "    [\n",
        "        LoadImaged(keys=img_columns + label_column, reader=\"NibabelReader\", image_only=True),\n",
        "        AsDiscreted(\n",
        "            keys=label_column, threshold=1\n",
        "        ),  # Convert values greater than 1 to 1\n",
        "        EnsureChannelFirstd(keys=img_columns + label_column),\n",
        "        Spacingd(keys=img_columns + label_column, pixdim=pixdim, mode=mode),\n",
        "        ResampleToMatchd(\n",
        "            keys=[\"adc\", \"dwi\", \"label\"],\n",
        "            key_dst=\"t2\",\n",
        "            mode=(\"bilinear\", \"bilinear\", \"nearest\"),\n",
        "        ),\n",
        "        ScaleIntensityd(keys=img_columns, minv=0.0, maxv=1.0),\n",
        "        Orientationd(keys=img_columns + label_column, axcodes=\"RAS\"),\n",
        "        CropForegroundd(keys=img_columns + label_column, source_key=\"t2\"),\n",
        "        SpatialPadd(keys=img_columns + label_column, spatial_size=patch_size),\n",
        "        RandCropByPosNegLabeld(\n",
        "            keys=img_columns + label_column,\n",
        "            label_key=\"label\",\n",
        "            spatial_size=patch_size,\n",
        "            pos=2,\n",
        "            neg=1,\n",
        "            num_samples=2,\n",
        "            image_key=\"image\",\n",
        "            image_threshold=0,\n",
        "        ),\n",
        "        ConcatItemsd(keys=img_columns, name=\"image\", dim=0),\n",
        "        ConcatItemsd(keys=label_column, name=\"label\", dim=0),\n",
        "        RandRotated(\n",
        "            keys=[\"image\", \"label\"],\n",
        "            prob=0.2,\n",
        "            range_x=(-30.0 / 360 * 2.0 * np.pi, 30.0 / 360 * 2.0 * np.pi),\n",
        "            range_y=(-30.0 / 360 * 2.0 * np.pi, 30.0 / 360 * 2.0 * np.pi),\n",
        "            range_z=(-30.0 / 360 * 2.0 * np.pi, 30.0 / 360 * 2.0 * np.pi),\n",
        "            mode=[\"bilinear\", \"nearest\"],\n",
        "        ),\n",
        "        RandAffined(keys=[\"image\", \"label\"], scale_range=(0.7, 1.4), prob=0.2, mode=[\"bilinear\", \"nearest\"]),\n",
        "        RandGaussianNoised(keys=\"image\", prob=0.1, mean=0, std=0.1),\n",
        "        RandGaussianSmoothd(keys=\"image\", prob=0.1, sigma_x=(0.5, 1)),\n",
        "        RandAdjustContrastd(keys=\"image\", prob=0.15, gamma=(0.75, 1.25)),\n",
        "        RandFlipd(keys=[\"image\", \"label\"], prob=0.5, spatial_axis=[0]),\n",
        "        RandFlipd(keys=[\"image\", \"label\"], prob=0.5, spatial_axis=[1]),\n",
        "        RandFlipd(keys=[\"image\", \"label\"], prob=0.5, spatial_axis=[2]),\n",
        "        ToTensord(keys=[\"image\", \"label\"]),\n",
        "    ]\n",
        ")\n",
        "\n",
        "val_transforms = Compose(\n",
        "    [\n",
        "        LoadImaged(keys=img_columns + label_column, reader=\"NibabelReader\", image_only=True),\n",
        "        AsDiscreted(\n",
        "            keys=label_column, threshold=1\n",
        "        ),  # Convert values greater than 1 to 1\n",
        "        EnsureChannelFirstd(keys=img_columns + label_column),\n",
        "        Spacingd(keys=img_columns + label_column, pixdim=pixdim, mode=mode),\n",
        "        ResampleToMatchd(\n",
        "            keys=[\"adc\", \"dwi\", \"label\"],\n",
        "            key_dst=\"t2\",\n",
        "            mode=(\"bilinear\", \"bilinear\", \"nearest\"),\n",
        "        ),\n",
        "        ScaleIntensityd(keys=img_columns, minv=0.0, maxv=1.0),\n",
        "        Orientationd(keys=img_columns + label_column, axcodes=\"RAS\"),\n",
        "        CropForegroundd(keys=img_columns + label_column, source_key=\"t2\"),\n",
        "        SpatialPadd(keys=img_columns + label_column, spatial_size=patch_size),\n",
        "        ConcatItemsd(keys=img_columns, name=\"image\", dim=0),\n",
        "        ConcatItemsd(keys=label_column, name=\"label\", dim=0),\n",
        "        ToTensord(keys=[\"image\", \"label\"]),\n",
        "    ]\n",
        ")\n"
      ]
    },
    {
      "cell_type": "code",
      "execution_count": null,
      "metadata": {
        "colab": {
          "base_uri": "https://localhost:8080/",
          "height": 978
        },
        "id": "r0U8Up2h3mXz",
        "outputId": "ee4b0d14-2179-4346-ff8c-5fe65a7aa55e"
      },
      "outputs": [
        {
          "name": "stdout",
          "output_type": "stream",
          "text": [
            "torch.Size([3, 32, 32, 32])\n"
          ]
        },
        {
          "data": {
            "image/png": "[encoded data removed]",
            "text/plain": [
              "<Figure size 1000x1000 with 1 Axes>"
            ]
          },
          "metadata": {},
          "output_type": "display_data"
        }
      ],
      "source": [
        "#Check transforms\n",
        "img=train_transforms(train_files[1])\n",
        "print(img[0][\"image\"].shape)\n",
        "\n",
        "image = monai.visualize.utils.blend_images(\n",
        "            img[0][\"image\"],\n",
        "            img[0][\"label\"],\n",
        "            alpha=0.5,\n",
        "            cmap=\"hsv\",\n",
        "            rescale_arrays=True,\n",
        "            transparent_background=True,\n",
        "        )\n",
        "\n",
        "matshow3d(\n",
        "    volume=image,\n",
        "    fig=None,\n",
        "    title=\"input image\",\n",
        "    every_n=1,\n",
        "    frame_dim=-1,\n",
        "    show=True,\n",
        "    channel_dim=0,\n",
        ")\n",
        "plt.show()"
      ]
    },
    {
      "cell_type": "code",
      "execution_count": null,
      "metadata": {
        "colab": {
          "base_uri": "https://localhost:8080/"
        },
        "id": "YVxUztfR4N3z",
        "outputId": "37cb64ce-16e3-4cd2-97c1-d18efc52a656"
      },
      "outputs": [
        {
          "name": "stderr",
          "output_type": "stream",
          "text": [
            "Loading dataset: 100%|██████████| 57/57 [01:50<00:00,  1.94s/it]\n",
            "Loading dataset: 100%|██████████| 10/10 [00:20<00:00,  2.07s/it]\n"
          ]
        }
      ],
      "source": [
        "## Creating Datasets\n",
        "\n",
        "train_ds = CacheDataset(data=train_files, transform=train_transforms)\n",
        "train_loader = DataLoader(train_ds, batch_size=2, shuffle=True)\n",
        "\n",
        "test_ds = CacheDataset(data=test_files, transform=val_transforms)\n",
        "test_loader = DataLoader(test_ds, batch_size=1, shuffle=False)"
      ]
    },
    {
      "cell_type": "code",
      "execution_count": null,
      "metadata": {
        "colab": {
          "base_uri": "https://localhost:8080/"
        },
        "id": "kUoXZBSf65Im",
        "outputId": "7a4637e8-f650-4b0c-b1d6-92c44994dfb8"
      },
      "outputs": [
        {
          "name": "stdout",
          "output_type": "stream",
          "text": [
            "Working on device: cuda\n"
          ]
        }
      ],
      "source": [
        "# Defining Model and Metrics\n",
        "\n",
        "pin_memory = torch.cuda.is_available()\n",
        "device = torch.device(\"cuda\" if torch.cuda.is_available() else \"cpu\")\n",
        "\n",
        "print(f\"Working on device: {device}\")\n",
        "\n",
        "UNet_meatdata = dict(\n",
        "    spatial_dims=3,\n",
        "    in_channels=3,\n",
        "    out_channels=2,\n",
        "    channels=[16, 32, 64, 128, 256, 512],\n",
        "    strides=[2, 2, 2, 2, 2],\n",
        "    num_res_units=4,\n",
        "    norm=\"batch\",\n",
        "    act=\"PReLU\",\n",
        "    dropout=0.15,\n",
        ")\n",
        "\n",
        "model = UNet(**UNet_meatdata).to(device)\n",
        "torch.backends.cudnn.benchmark = True\n",
        "loss_function = DiceCELoss(to_onehot_y=True, softmax=True)\n",
        "optimizer = torch.optim.AdamW(model.parameters(), lr=1e-4, weight_decay=3e-5)"
      ]
    },
    {
      "cell_type": "code",
      "execution_count": null,
      "metadata": {
        "id": "YO9OmCMn7YJQ"
      },
      "outputs": [],
      "source": [
        "data_in = (train_loader, test_loader)\n",
        "model_dir = \"./model_results\"\n",
        "\n",
        "\n",
        "post_label = monai.transforms.AsDiscrete(to_onehot=2)\n",
        "post_pred = monai.transforms.AsDiscrete(argmax=True, to_onehot=2)\n",
        "dice_metric = DiceMetric(include_background=False, reduction=\"mean\", get_not_nans=False)\n",
        "iou_metric = monai.metrics.MeanIoU(\n",
        "    include_background=False, reduction=\"mean\", get_not_nans=False\n",
        ")"
      ]
    },
    {
      "cell_type": "code",
      "execution_count": null,
      "metadata": {
        "colab": {
          "background_save": true,
          "base_uri": "https://localhost:8080/"
        },
        "id": "AgoCdQ0qCItY",
        "outputId": "d96832a9-37ad-4ece-ac42-fd195b373411"
      },
      "outputs": [
        {
          "name": "stdout",
          "output_type": "stream",
          "text": [
            "--------------------------------------------------\n",
            "2024-07-03 15:41:00 - epoch 1/50\n"
          ]
        },
        {
          "name": "stderr",
          "output_type": "stream",
          "text": [
            "2024-07-03 15:41:08 - Epoch 1: 100%|██████████| 29/29 [00:07<00:00,  3.85batch/s, dice_score=0.382, loss=0.839]\n"
          ]
        },
        {
          "name": "stdout",
          "output_type": "stream",
          "text": [
            "--------------------\n",
            "Epoch_loss: 0.8790\n",
            "Epoch_metric: 0.3817\n",
            "IoU_metric: 0.2529\n"
          ]
        },
        {
          "name": "stderr",
          "output_type": "stream",
          "text": [
            "100%|██████████| 10/10 [00:35<00:00,  3.55s/it]\n"
          ]
        },
        {
          "name": "stdout",
          "output_type": "stream",
          "text": [
            "test_loss_epoch: 0.7480\n",
            "test_dice_epoch: 0.0634\n",
            "test_dice_epoch_per_class:\n",
            "\tcsPCa: 0.06341105699539185\n",
            "test_iou_epoch: 0.0350\n",
            "test_iou_epoch_per_class:\n",
            "\tcsPCa: 0.034975919872522354\n",
            "current epoch: 1 current mean dice: 0.0634\n",
            "best mean dice: 0.0634 at epoch: 1\n",
            "--------------------------------------------------\n",
            "2024-07-03 15:41:51 - epoch 2/50\n"
          ]
        },
        {
          "name": "stderr",
          "output_type": "stream",
          "text": [
            "2024-07-03 15:41:59 - Epoch 2: 100%|██████████| 29/29 [00:07<00:00,  3.73batch/s, dice_score=0.395, loss=0.747]\n"
          ]
        },
        {
          "name": "stdout",
          "output_type": "stream",
          "text": [
            "--------------------\n",
            "Epoch_loss: 0.8470\n",
            "Epoch_metric: 0.3950\n",
            "IoU_metric: 0.2639\n"
          ]
        },
        {
          "name": "stderr",
          "output_type": "stream",
          "text": [
            "100%|██████████| 10/10 [00:36<00:00,  3.62s/it]\n"
          ]
        },
        {
          "name": "stdout",
          "output_type": "stream",
          "text": [
            "test_loss_epoch: 0.7411\n",
            "test_dice_epoch: 0.0844\n",
            "test_dice_epoch_per_class:\n",
            "\tcsPCa: 0.08442724496126175\n",
            "test_iou_epoch: 0.0485\n",
            "test_iou_epoch_per_class:\n",
            "\tcsPCa: 0.04846828803420067\n",
            "current epoch: 2 current mean dice: 0.0844\n",
            "best mean dice: 0.0844 at epoch: 2\n",
            "--------------------------------------------------\n",
            "2024-07-03 15:42:45 - epoch 3/50\n"
          ]
        },
        {
          "name": "stderr",
          "output_type": "stream",
          "text": [
            "2024-07-03 15:42:53 - Epoch 3: 100%|██████████| 29/29 [00:07<00:00,  3.71batch/s, dice_score=0.395, loss=1.02]\n"
          ]
        },
        {
          "name": "stdout",
          "output_type": "stream",
          "text": [
            "--------------------\n",
            "Epoch_loss: 0.8553\n",
            "Epoch_metric: 0.3949\n",
            "IoU_metric: 0.2616\n"
          ]
        },
        {
          "name": "stderr",
          "output_type": "stream",
          "text": [
            "100%|██████████| 10/10 [00:35<00:00,  3.56s/it]\n"
          ]
        },
        {
          "name": "stdout",
          "output_type": "stream",
          "text": [
            "test_loss_epoch: 0.7118\n",
            "test_dice_epoch: 0.0648\n",
            "test_dice_epoch_per_class:\n",
            "\tcsPCa: 0.06478320807218552\n",
            "test_iou_epoch: 0.0360\n",
            "test_iou_epoch_per_class:\n",
            "\tcsPCa: 0.03598920255899429\n",
            "current epoch: 3 current mean dice: 0.0648\n",
            "best mean dice: 0.0844 at epoch: 2\n",
            "--------------------------------------------------\n",
            "2024-07-03 15:43:39 - epoch 4/50\n"
          ]
        },
        {
          "name": "stderr",
          "output_type": "stream",
          "text": [
            "2024-07-03 15:43:47 - Epoch 4: 100%|██████████| 29/29 [00:08<00:00,  3.43batch/s, dice_score=0.448, loss=0.712]\n"
          ]
        },
        {
          "name": "stdout",
          "output_type": "stream",
          "text": [
            "--------------------\n",
            "Epoch_loss: 0.7900\n",
            "Epoch_metric: 0.4477\n",
            "IoU_metric: 0.3035\n"
          ]
        },
        {
          "name": "stderr",
          "output_type": "stream",
          "text": [
            "100%|██████████| 10/10 [00:35<00:00,  3.56s/it]\n"
          ]
        },
        {
          "name": "stdout",
          "output_type": "stream",
          "text": [
            "test_loss_epoch: 0.7139\n",
            "test_dice_epoch: 0.0832\n",
            "test_dice_epoch_per_class:\n",
            "\tcsPCa: 0.08316612243652344\n",
            "test_iou_epoch: 0.0474\n",
            "test_iou_epoch_per_class:\n",
            "\tcsPCa: 0.04740244150161743\n",
            "current epoch: 4 current mean dice: 0.0832\n",
            "best mean dice: 0.0844 at epoch: 2\n",
            "--------------------------------------------------\n",
            "2024-07-03 15:44:27 - epoch 5/50\n"
          ]
        },
        {
          "name": "stderr",
          "output_type": "stream",
          "text": [
            "2024-07-03 15:44:35 - Epoch 5: 100%|██████████| 29/29 [00:07<00:00,  3.82batch/s, dice_score=0.427, loss=0.714]\n"
          ]
        },
        {
          "name": "stdout",
          "output_type": "stream",
          "text": [
            "--------------------\n",
            "Epoch_loss: 0.7778\n",
            "Epoch_metric: 0.4271\n",
            "IoU_metric: 0.2896\n"
          ]
        },
        {
          "name": "stderr",
          "output_type": "stream",
          "text": [
            "100%|██████████| 10/10 [00:35<00:00,  3.58s/it]\n"
          ]
        },
        {
          "name": "stdout",
          "output_type": "stream",
          "text": [
            "test_loss_epoch: 0.7028\n",
            "test_dice_epoch: 0.0799\n",
            "test_dice_epoch_per_class:\n",
            "\tcsPCa: 0.0798976868391037\n",
            "test_iou_epoch: 0.0453\n",
            "test_iou_epoch_per_class:\n",
            "\tcsPCa: 0.04534441977739334\n",
            "current epoch: 5 current mean dice: 0.0799\n",
            "best mean dice: 0.0844 at epoch: 2\n",
            "--------------------------------------------------\n",
            "2024-07-03 15:45:13 - epoch 6/50\n"
          ]
        },
        {
          "name": "stderr",
          "output_type": "stream",
          "text": [
            "2024-07-03 15:45:20 - Epoch 6: 100%|██████████| 29/29 [00:07<00:00,  3.68batch/s, dice_score=0.401, loss=0.768]\n"
          ]
        },
        {
          "name": "stdout",
          "output_type": "stream",
          "text": [
            "--------------------\n",
            "Epoch_loss: 0.7751\n",
            "Epoch_metric: 0.4012\n",
            "IoU_metric: 0.2691\n"
          ]
        },
        {
          "name": "stderr",
          "output_type": "stream",
          "text": [
            "100%|██████████| 10/10 [00:35<00:00,  3.55s/it]\n"
          ]
        },
        {
          "name": "stdout",
          "output_type": "stream",
          "text": [
            "test_loss_epoch: 0.6543\n",
            "test_dice_epoch: 0.0833\n",
            "test_dice_epoch_per_class:\n",
            "\tcsPCa: 0.0832904577255249\n",
            "test_iou_epoch: 0.0477\n",
            "test_iou_epoch_per_class:\n",
            "\tcsPCa: 0.047662846744060516\n",
            "current epoch: 6 current mean dice: 0.0833\n",
            "best mean dice: 0.0844 at epoch: 2\n",
            "--------------------------------------------------\n",
            "2024-07-03 15:46:02 - epoch 7/50\n"
          ]
        },
        {
          "name": "stderr",
          "output_type": "stream",
          "text": [
            "2024-07-03 15:46:10 - Epoch 7: 100%|██████████| 29/29 [00:08<00:00,  3.39batch/s, dice_score=0.4, loss=0.7]\n"
          ]
        },
        {
          "name": "stdout",
          "output_type": "stream",
          "text": [
            "--------------------\n",
            "Epoch_loss: 0.7563\n",
            "Epoch_metric: 0.3997\n",
            "IoU_metric: 0.2693\n"
          ]
        },
        {
          "name": "stderr",
          "output_type": "stream",
          "text": [
            "100%|██████████| 10/10 [00:35<00:00,  3.54s/it]\n"
          ]
        },
        {
          "name": "stdout",
          "output_type": "stream",
          "text": [
            "test_loss_epoch: 0.6520\n",
            "test_dice_epoch: 0.0889\n",
            "test_dice_epoch_per_class:\n",
            "\tcsPCa: 0.08890856802463531\n",
            "test_iou_epoch: 0.0511\n",
            "test_iou_epoch_per_class:\n",
            "\tcsPCa: 0.05107699707150459\n",
            "current epoch: 7 current mean dice: 0.0889\n",
            "best mean dice: 0.0889 at epoch: 7\n",
            "--------------------------------------------------\n",
            "2024-07-03 15:46:51 - epoch 8/50\n"
          ]
        },
        {
          "name": "stderr",
          "output_type": "stream",
          "text": [
            "2024-07-03 15:46:59 - Epoch 8: 100%|██████████| 29/29 [00:07<00:00,  3.93batch/s, dice_score=0.389, loss=1.63]\n"
          ]
        },
        {
          "name": "stdout",
          "output_type": "stream",
          "text": [
            "--------------------\n",
            "Epoch_loss: 0.7854\n",
            "Epoch_metric: 0.3887\n",
            "IoU_metric: 0.2590\n"
          ]
        },
        {
          "name": "stderr",
          "output_type": "stream",
          "text": [
            "100%|██████████| 10/10 [00:35<00:00,  3.56s/it]\n"
          ]
        },
        {
          "name": "stdout",
          "output_type": "stream",
          "text": [
            "test_loss_epoch: 0.6380\n",
            "test_dice_epoch: 0.0827\n",
            "test_dice_epoch_per_class:\n",
            "\tcsPCa: 0.08267468214035034\n",
            "test_iou_epoch: 0.0473\n",
            "test_iou_epoch_per_class:\n",
            "\tcsPCa: 0.04730736464262009\n",
            "current epoch: 8 current mean dice: 0.0827\n",
            "best mean dice: 0.0889 at epoch: 7\n",
            "--------------------------------------------------\n",
            "2024-07-03 15:47:36 - epoch 9/50\n"
          ]
        },
        {
          "name": "stderr",
          "output_type": "stream",
          "text": [
            "2024-07-03 15:47:45 - Epoch 9: 100%|██████████| 29/29 [00:08<00:00,  3.47batch/s, dice_score=0.414, loss=0.69]\n"
          ]
        },
        {
          "name": "stdout",
          "output_type": "stream",
          "text": [
            "--------------------\n",
            "Epoch_loss: 0.7386\n",
            "Epoch_metric: 0.4137\n",
            "IoU_metric: 0.2812\n"
          ]
        },
        {
          "name": "stderr",
          "output_type": "stream",
          "text": [
            "100%|██████████| 10/10 [00:35<00:00,  3.54s/it]\n"
          ]
        },
        {
          "name": "stdout",
          "output_type": "stream",
          "text": [
            "test_loss_epoch: 0.6490\n",
            "test_dice_epoch: 0.0877\n",
            "test_dice_epoch_per_class:\n",
            "\tcsPCa: 0.08774564415216446\n",
            "test_iou_epoch: 0.0502\n",
            "test_iou_epoch_per_class:\n",
            "\tcsPCa: 0.050243448466062546\n",
            "current epoch: 9 current mean dice: 0.0877\n",
            "best mean dice: 0.0889 at epoch: 7\n",
            "--------------------------------------------------\n",
            "2024-07-03 15:48:30 - epoch 10/50\n"
          ]
        },
        {
          "name": "stderr",
          "output_type": "stream",
          "text": [
            "2024-07-03 15:48:38 - Epoch 10: 100%|██████████| 29/29 [00:07<00:00,  3.72batch/s, dice_score=0.438, loss=0.712]\n"
          ]
        },
        {
          "name": "stdout",
          "output_type": "stream",
          "text": [
            "--------------------\n",
            "Epoch_loss: 0.7256\n",
            "Epoch_metric: 0.4383\n",
            "IoU_metric: 0.3006\n"
          ]
        },
        {
          "name": "stderr",
          "output_type": "stream",
          "text": [
            "100%|██████████| 10/10 [00:35<00:00,  3.56s/it]\n"
          ]
        },
        {
          "name": "stdout",
          "output_type": "stream",
          "text": [
            "test_loss_epoch: 0.6494\n",
            "test_dice_epoch: 0.0980\n",
            "test_dice_epoch_per_class:\n",
            "\tcsPCa: 0.0979597419500351\n",
            "test_iou_epoch: 0.0567\n",
            "test_iou_epoch_per_class:\n",
            "\tcsPCa: 0.05673037841916084\n",
            "current epoch: 10 current mean dice: 0.0980\n",
            "best mean dice: 0.0980 at epoch: 10\n",
            "--------------------------------------------------\n",
            "2024-07-03 15:49:18 - epoch 11/50\n"
          ]
        },
        {
          "name": "stderr",
          "output_type": "stream",
          "text": [
            "2024-07-03 15:49:26 - Epoch 11: 100%|██████████| 29/29 [00:08<00:00,  3.26batch/s, dice_score=0.41, loss=0.811]\n"
          ]
        },
        {
          "name": "stdout",
          "output_type": "stream",
          "text": [
            "--------------------\n",
            "Epoch_loss: 0.7190\n",
            "Epoch_metric: 0.4099\n",
            "IoU_metric: 0.2815\n"
          ]
        },
        {
          "name": "stderr",
          "output_type": "stream",
          "text": [
            "100%|██████████| 10/10 [00:35<00:00,  3.53s/it]\n"
          ]
        },
        {
          "name": "stdout",
          "output_type": "stream",
          "text": [
            "test_loss_epoch: 0.6348\n",
            "test_dice_epoch: 0.0977\n",
            "test_dice_epoch_per_class:\n",
            "\tcsPCa: 0.09768380224704742\n",
            "test_iou_epoch: 0.0566\n",
            "test_iou_epoch_per_class:\n",
            "\tcsPCa: 0.05664009600877762\n",
            "current epoch: 11 current mean dice: 0.0977\n",
            "best mean dice: 0.0980 at epoch: 10\n",
            "--------------------------------------------------\n",
            "2024-07-03 15:50:04 - epoch 12/50\n"
          ]
        },
        {
          "name": "stderr",
          "output_type": "stream",
          "text": [
            "2024-07-03 15:50:12 - Epoch 12: 100%|██████████| 29/29 [00:08<00:00,  3.47batch/s, dice_score=0.399, loss=0.794]\n"
          ]
        },
        {
          "name": "stdout",
          "output_type": "stream",
          "text": [
            "--------------------\n",
            "Epoch_loss: 0.7151\n",
            "Epoch_metric: 0.3986\n",
            "IoU_metric: 0.2711\n"
          ]
        },
        {
          "name": "stderr",
          "output_type": "stream",
          "text": [
            "100%|██████████| 10/10 [00:35<00:00,  3.54s/it]\n"
          ]
        },
        {
          "name": "stdout",
          "output_type": "stream",
          "text": [
            "test_loss_epoch: 0.6025\n",
            "test_dice_epoch: 0.0734\n",
            "test_dice_epoch_per_class:\n",
            "\tcsPCa: 0.07340472936630249\n",
            "test_iou_epoch: 0.0409\n",
            "test_iou_epoch_per_class:\n",
            "\tcsPCa: 0.04092979431152344\n",
            "current epoch: 12 current mean dice: 0.0734\n",
            "best mean dice: 0.0980 at epoch: 10\n",
            "--------------------------------------------------\n",
            "2024-07-03 15:50:54 - epoch 13/50\n"
          ]
        },
        {
          "name": "stderr",
          "output_type": "stream",
          "text": [
            "2024-07-03 15:51:02 - Epoch 13: 100%|██████████| 29/29 [00:08<00:00,  3.24batch/s, dice_score=0.428, loss=0.672]\n"
          ]
        },
        {
          "name": "stdout",
          "output_type": "stream",
          "text": [
            "--------------------\n",
            "Epoch_loss: 0.7434\n",
            "Epoch_metric: 0.4278\n",
            "IoU_metric: 0.2900\n"
          ]
        },
        {
          "name": "stderr",
          "output_type": "stream",
          "text": [
            "100%|██████████| 10/10 [00:35<00:00,  3.55s/it]\n"
          ]
        },
        {
          "name": "stdout",
          "output_type": "stream",
          "text": [
            "test_loss_epoch: 0.5808\n",
            "test_dice_epoch: 0.0726\n",
            "test_dice_epoch_per_class:\n",
            "\tcsPCa: 0.07256956398487091\n",
            "test_iou_epoch: 0.0407\n",
            "test_iou_epoch_per_class:\n",
            "\tcsPCa: 0.040689148008823395\n",
            "current epoch: 13 current mean dice: 0.0726\n",
            "best mean dice: 0.0980 at epoch: 10\n",
            "--------------------------------------------------\n",
            "2024-07-03 15:51:44 - epoch 14/50\n"
          ]
        },
        {
          "name": "stderr",
          "output_type": "stream",
          "text": [
            "2024-07-03 15:51:52 - Epoch 14: 100%|██████████| 29/29 [00:08<00:00,  3.42batch/s, dice_score=0.426, loss=0.605]\n"
          ]
        },
        {
          "name": "stdout",
          "output_type": "stream",
          "text": [
            "--------------------\n",
            "Epoch_loss: 0.7195\n",
            "Epoch_metric: 0.4261\n",
            "IoU_metric: 0.2846\n"
          ]
        },
        {
          "name": "stderr",
          "output_type": "stream",
          "text": [
            "100%|██████████| 10/10 [00:35<00:00,  3.56s/it]\n"
          ]
        },
        {
          "name": "stdout",
          "output_type": "stream",
          "text": [
            "test_loss_epoch: 0.5831\n",
            "test_dice_epoch: 0.0843\n",
            "test_dice_epoch_per_class:\n",
            "\tcsPCa: 0.08427475392818451\n",
            "test_iou_epoch: 0.0478\n",
            "test_iou_epoch_per_class:\n",
            "\tcsPCa: 0.047786641865968704\n",
            "current epoch: 14 current mean dice: 0.0843\n",
            "best mean dice: 0.0980 at epoch: 10\n",
            "--------------------------------------------------\n",
            "2024-07-03 15:52:33 - epoch 15/50\n"
          ]
        },
        {
          "name": "stderr",
          "output_type": "stream",
          "text": [
            "2024-07-03 15:52:42 - Epoch 15: 100%|██████████| 29/29 [00:08<00:00,  3.26batch/s, dice_score=0.423, loss=0.75]\n"
          ]
        },
        {
          "name": "stdout",
          "output_type": "stream",
          "text": [
            "--------------------\n",
            "Epoch_loss: 0.7010\n",
            "Epoch_metric: 0.4232\n",
            "IoU_metric: 0.2892\n"
          ]
        },
        {
          "name": "stderr",
          "output_type": "stream",
          "text": [
            "100%|██████████| 10/10 [00:35<00:00,  3.54s/it]\n"
          ]
        },
        {
          "name": "stdout",
          "output_type": "stream",
          "text": [
            "test_loss_epoch: 0.5904\n",
            "test_dice_epoch: 0.0996\n",
            "test_dice_epoch_per_class:\n",
            "\tcsPCa: 0.0995643138885498\n",
            "test_iou_epoch: 0.0576\n",
            "test_iou_epoch_per_class:\n",
            "\tcsPCa: 0.057627253234386444\n",
            "current epoch: 15 current mean dice: 0.0996\n",
            "best mean dice: 0.0996 at epoch: 15\n",
            "--------------------------------------------------\n",
            "2024-07-03 15:53:24 - epoch 16/50\n"
          ]
        },
        {
          "name": "stderr",
          "output_type": "stream",
          "text": [
            "2024-07-03 15:53:33 - Epoch 16: 100%|██████████| 29/29 [00:09<00:00,  3.22batch/s, dice_score=0.419, loss=0.732]\n"
          ]
        },
        {
          "name": "stdout",
          "output_type": "stream",
          "text": [
            "--------------------\n",
            "Epoch_loss: 0.7072\n",
            "Epoch_metric: 0.4191\n",
            "IoU_metric: 0.2884\n"
          ]
        },
        {
          "name": "stderr",
          "output_type": "stream",
          "text": [
            "100%|██████████| 10/10 [00:35<00:00,  3.53s/it]\n"
          ]
        },
        {
          "name": "stdout",
          "output_type": "stream",
          "text": [
            "test_loss_epoch: 0.5695\n",
            "test_dice_epoch: 0.1000\n",
            "test_dice_epoch_per_class:\n",
            "\tcsPCa: 0.09998567402362823\n",
            "test_iou_epoch: 0.0581\n",
            "test_iou_epoch_per_class:\n",
            "\tcsPCa: 0.058118246495723724\n",
            "current epoch: 16 current mean dice: 0.1000\n",
            "best mean dice: 0.1000 at epoch: 16\n",
            "--------------------------------------------------\n",
            "2024-07-03 15:54:32 - epoch 17/50\n"
          ]
        },
        {
          "name": "stderr",
          "output_type": "stream",
          "text": [
            "2024-07-03 15:54:40 - Epoch 17: 100%|██████████| 29/29 [00:08<00:00,  3.34batch/s, dice_score=0.412, loss=0.669]\n"
          ]
        },
        {
          "name": "stdout",
          "output_type": "stream",
          "text": [
            "--------------------\n",
            "Epoch_loss: 0.7177\n",
            "Epoch_metric: 0.4120\n",
            "IoU_metric: 0.2780\n"
          ]
        },
        {
          "name": "stderr",
          "output_type": "stream",
          "text": [
            "100%|██████████| 10/10 [00:35<00:00,  3.56s/it]\n"
          ]
        },
        {
          "name": "stdout",
          "output_type": "stream",
          "text": [
            "test_loss_epoch: 0.5675\n",
            "test_dice_epoch: 0.1037\n",
            "test_dice_epoch_per_class:\n",
            "\tcsPCa: 0.10365752875804901\n",
            "test_iou_epoch: 0.0605\n",
            "test_iou_epoch_per_class:\n",
            "\tcsPCa: 0.06053541973233223\n",
            "current epoch: 17 current mean dice: 0.1037\n",
            "best mean dice: 0.1037 at epoch: 17\n",
            "--------------------------------------------------\n",
            "2024-07-03 15:55:31 - epoch 18/50\n"
          ]
        },
        {
          "name": "stderr",
          "output_type": "stream",
          "text": [
            "2024-07-03 15:55:41 - Epoch 18: 100%|██████████| 29/29 [00:09<00:00,  3.09batch/s, dice_score=0.404, loss=0.641]\n"
          ]
        },
        {
          "name": "stdout",
          "output_type": "stream",
          "text": [
            "--------------------\n",
            "Epoch_loss: 0.6954\n",
            "Epoch_metric: 0.4040\n",
            "IoU_metric: 0.2779\n"
          ]
        },
        {
          "name": "stderr",
          "output_type": "stream",
          "text": [
            "100%|██████████| 10/10 [00:35<00:00,  3.56s/it]\n"
          ]
        },
        {
          "name": "stdout",
          "output_type": "stream",
          "text": [
            "test_loss_epoch: 0.5939\n",
            "test_dice_epoch: 0.1019\n",
            "test_dice_epoch_per_class:\n",
            "\tcsPCa: 0.10186827182769775\n",
            "test_iou_epoch: 0.0588\n",
            "test_iou_epoch_per_class:\n",
            "\tcsPCa: 0.058814458549022675\n",
            "current epoch: 18 current mean dice: 0.1019\n",
            "best mean dice: 0.1037 at epoch: 17\n",
            "--------------------------------------------------\n",
            "2024-07-03 15:56:23 - epoch 19/50\n"
          ]
        },
        {
          "name": "stderr",
          "output_type": "stream",
          "text": [
            "2024-07-03 15:56:31 - Epoch 19: 100%|██████████| 29/29 [00:08<00:00,  3.51batch/s, dice_score=0.431, loss=0.638]\n"
          ]
        },
        {
          "name": "stdout",
          "output_type": "stream",
          "text": [
            "--------------------\n",
            "Epoch_loss: 0.6822\n",
            "Epoch_metric: 0.4315\n",
            "IoU_metric: 0.2943\n"
          ]
        },
        {
          "name": "stderr",
          "output_type": "stream",
          "text": [
            "100%|██████████| 10/10 [00:35<00:00,  3.55s/it]\n"
          ]
        },
        {
          "name": "stdout",
          "output_type": "stream",
          "text": [
            "test_loss_epoch: 0.5771\n",
            "test_dice_epoch: 0.1148\n",
            "test_dice_epoch_per_class:\n",
            "\tcsPCa: 0.11478443443775177\n",
            "test_iou_epoch: 0.0676\n",
            "test_iou_epoch_per_class:\n",
            "\tcsPCa: 0.06758631765842438\n",
            "current epoch: 19 current mean dice: 0.1148\n",
            "best mean dice: 0.1148 at epoch: 19\n",
            "--------------------------------------------------\n",
            "2024-07-03 15:57:26 - epoch 20/50\n"
          ]
        },
        {
          "name": "stderr",
          "output_type": "stream",
          "text": [
            "2024-07-03 15:57:34 - Epoch 20: 100%|██████████| 29/29 [00:08<00:00,  3.49batch/s, dice_score=0.448, loss=0.532]\n"
          ]
        },
        {
          "name": "stdout",
          "output_type": "stream",
          "text": [
            "--------------------\n",
            "Epoch_loss: 0.6561\n",
            "Epoch_metric: 0.4482\n",
            "IoU_metric: 0.3099\n"
          ]
        },
        {
          "name": "stderr",
          "output_type": "stream",
          "text": [
            "100%|██████████| 10/10 [00:35<00:00,  3.54s/it]\n"
          ]
        },
        {
          "name": "stdout",
          "output_type": "stream",
          "text": [
            "test_loss_epoch: 0.5706\n",
            "test_dice_epoch: 0.1166\n",
            "test_dice_epoch_per_class:\n",
            "\tcsPCa: 0.11655507981777191\n",
            "test_iou_epoch: 0.0684\n",
            "test_iou_epoch_per_class:\n",
            "\tcsPCa: 0.06844311952590942\n",
            "current epoch: 20 current mean dice: 0.1166\n",
            "best mean dice: 0.1166 at epoch: 20\n",
            "--------------------------------------------------\n",
            "2024-07-03 15:58:42 - epoch 21/50\n"
          ]
        },
        {
          "name": "stderr",
          "output_type": "stream",
          "text": [
            "2024-07-03 15:58:50 - Epoch 21: 100%|██████████| 29/29 [00:08<00:00,  3.38batch/s, dice_score=0.434, loss=0.658]\n"
          ]
        },
        {
          "name": "stdout",
          "output_type": "stream",
          "text": [
            "--------------------\n",
            "Epoch_loss: 0.6789\n",
            "Epoch_metric: 0.4342\n",
            "IoU_metric: 0.2929\n"
          ]
        },
        {
          "name": "stderr",
          "output_type": "stream",
          "text": [
            "100%|██████████| 10/10 [00:35<00:00,  3.54s/it]\n"
          ]
        },
        {
          "name": "stdout",
          "output_type": "stream",
          "text": [
            "test_loss_epoch: 0.5480\n",
            "test_dice_epoch: 0.1021\n",
            "test_dice_epoch_per_class:\n",
            "\tcsPCa: 0.102081298828125\n",
            "test_iou_epoch: 0.0594\n",
            "test_iou_epoch_per_class:\n",
            "\tcsPCa: 0.05942912772297859\n",
            "current epoch: 21 current mean dice: 0.1021\n",
            "best mean dice: 0.1166 at epoch: 20\n",
            "--------------------------------------------------\n",
            "2024-07-03 15:59:31 - epoch 22/50\n"
          ]
        },
        {
          "name": "stderr",
          "output_type": "stream",
          "text": [
            "2024-07-03 15:59:38 - Epoch 22: 100%|██████████| 29/29 [00:07<00:00,  3.68batch/s, dice_score=0.391, loss=0.541]\n"
          ]
        },
        {
          "name": "stdout",
          "output_type": "stream",
          "text": [
            "--------------------\n",
            "Epoch_loss: 0.6942\n",
            "Epoch_metric: 0.3909\n",
            "IoU_metric: 0.2639\n"
          ]
        },
        {
          "name": "stderr",
          "output_type": "stream",
          "text": [
            "100%|██████████| 10/10 [00:35<00:00,  3.54s/it]\n"
          ]
        },
        {
          "name": "stdout",
          "output_type": "stream",
          "text": [
            "test_loss_epoch: 0.5420\n",
            "test_dice_epoch: 0.0914\n",
            "test_dice_epoch_per_class:\n",
            "\tcsPCa: 0.09137298166751862\n",
            "test_iou_epoch: 0.0532\n",
            "test_iou_epoch_per_class:\n",
            "\tcsPCa: 0.05316096544265747\n",
            "current epoch: 22 current mean dice: 0.0914\n",
            "best mean dice: 0.1166 at epoch: 20\n",
            "--------------------------------------------------\n",
            "2024-07-03 16:00:29 - epoch 23/50\n"
          ]
        },
        {
          "name": "stderr",
          "output_type": "stream",
          "text": [
            "2024-07-03 16:00:38 - Epoch 23: 100%|██████████| 29/29 [00:09<00:00,  3.12batch/s, dice_score=0.417, loss=0.706]\n"
          ]
        },
        {
          "name": "stdout",
          "output_type": "stream",
          "text": [
            "--------------------\n",
            "Epoch_loss: 0.6654\n",
            "Epoch_metric: 0.4171\n",
            "IoU_metric: 0.2880\n"
          ]
        },
        {
          "name": "stderr",
          "output_type": "stream",
          "text": [
            "100%|██████████| 10/10 [00:35<00:00,  3.56s/it]\n"
          ]
        },
        {
          "name": "stdout",
          "output_type": "stream",
          "text": [
            "test_loss_epoch: 0.5450\n",
            "test_dice_epoch: 0.1120\n",
            "test_dice_epoch_per_class:\n",
            "\tcsPCa: 0.11199770867824554\n",
            "test_iou_epoch: 0.0666\n",
            "test_iou_epoch_per_class:\n",
            "\tcsPCa: 0.06659559160470963\n",
            "current epoch: 23 current mean dice: 0.1120\n",
            "best mean dice: 0.1166 at epoch: 20\n",
            "--------------------------------------------------\n",
            "2024-07-03 16:01:21 - epoch 24/50\n"
          ]
        },
        {
          "name": "stderr",
          "output_type": "stream",
          "text": [
            "2024-07-03 16:01:30 - Epoch 24: 100%|██████████| 29/29 [00:08<00:00,  3.30batch/s, dice_score=0.425, loss=1.48]\n"
          ]
        },
        {
          "name": "stdout",
          "output_type": "stream",
          "text": [
            "--------------------\n",
            "Epoch_loss: 0.6933\n",
            "Epoch_metric: 0.4246\n",
            "IoU_metric: 0.2917\n"
          ]
        },
        {
          "name": "stderr",
          "output_type": "stream",
          "text": [
            "100%|██████████| 10/10 [00:35<00:00,  3.55s/it]\n"
          ]
        },
        {
          "name": "stdout",
          "output_type": "stream",
          "text": [
            "test_loss_epoch: 0.5340\n",
            "test_dice_epoch: 0.0817\n",
            "test_dice_epoch_per_class:\n",
            "\tcsPCa: 0.08171580731868744\n",
            "test_iou_epoch: 0.0471\n",
            "test_iou_epoch_per_class:\n",
            "\tcsPCa: 0.04708296060562134\n",
            "current epoch: 24 current mean dice: 0.0817\n",
            "best mean dice: 0.1166 at epoch: 20\n",
            "--------------------------------------------------\n",
            "2024-07-03 16:02:07 - epoch 25/50\n"
          ]
        },
        {
          "name": "stderr",
          "output_type": "stream",
          "text": [
            "2024-07-03 16:02:15 - Epoch 25: 100%|██████████| 29/29 [00:08<00:00,  3.62batch/s, dice_score=0.44, loss=0.68]\n"
          ]
        },
        {
          "name": "stdout",
          "output_type": "stream",
          "text": [
            "--------------------\n",
            "Epoch_loss: 0.6840\n",
            "Epoch_metric: 0.4396\n",
            "IoU_metric: 0.3090\n"
          ]
        },
        {
          "name": "stderr",
          "output_type": "stream",
          "text": [
            "100%|██████████| 10/10 [00:35<00:00,  3.55s/it]\n"
          ]
        },
        {
          "name": "stdout",
          "output_type": "stream",
          "text": [
            "test_loss_epoch: 0.5513\n",
            "test_dice_epoch: 0.1177\n",
            "test_dice_epoch_per_class:\n",
            "\tcsPCa: 0.11767403781414032\n",
            "test_iou_epoch: 0.0700\n",
            "test_iou_epoch_per_class:\n",
            "\tcsPCa: 0.06999217718839645\n",
            "current epoch: 25 current mean dice: 0.1177\n",
            "best mean dice: 0.1177 at epoch: 25\n",
            "--------------------------------------------------\n",
            "2024-07-03 16:03:01 - epoch 26/50\n"
          ]
        },
        {
          "name": "stderr",
          "output_type": "stream",
          "text": [
            "2024-07-03 16:03:08 - Epoch 26: 100%|██████████| 29/29 [00:07<00:00,  3.86batch/s, dice_score=0.407, loss=0.643]\n"
          ]
        },
        {
          "name": "stdout",
          "output_type": "stream",
          "text": [
            "--------------------\n",
            "Epoch_loss: 0.7111\n",
            "Epoch_metric: 0.4066\n",
            "IoU_metric: 0.2797\n"
          ]
        },
        {
          "name": "stderr",
          "output_type": "stream",
          "text": [
            "100%|██████████| 10/10 [00:36<00:00,  3.60s/it]\n"
          ]
        },
        {
          "name": "stdout",
          "output_type": "stream",
          "text": [
            "test_loss_epoch: 0.5626\n",
            "test_dice_epoch: 0.1087\n",
            "test_dice_epoch_per_class:\n",
            "\tcsPCa: 0.10874883830547333\n",
            "test_iou_epoch: 0.0637\n",
            "test_iou_epoch_per_class:\n",
            "\tcsPCa: 0.06372114270925522\n",
            "current epoch: 26 current mean dice: 0.1087\n",
            "best mean dice: 0.1177 at epoch: 25\n",
            "--------------------------------------------------\n",
            "2024-07-03 16:03:50 - epoch 27/50\n"
          ]
        },
        {
          "name": "stderr",
          "output_type": "stream",
          "text": [
            "2024-07-03 16:03:58 - Epoch 27: 100%|██████████| 29/29 [00:08<00:00,  3.42batch/s, dice_score=0.438, loss=0.852]\n"
          ]
        },
        {
          "name": "stdout",
          "output_type": "stream",
          "text": [
            "--------------------\n",
            "Epoch_loss: 0.6741\n",
            "Epoch_metric: 0.4381\n",
            "IoU_metric: 0.3027\n"
          ]
        },
        {
          "name": "stderr",
          "output_type": "stream",
          "text": [
            "100%|██████████| 10/10 [00:35<00:00,  3.55s/it]\n"
          ]
        },
        {
          "name": "stdout",
          "output_type": "stream",
          "text": [
            "test_loss_epoch: 0.5474\n",
            "test_dice_epoch: 0.1056\n",
            "test_dice_epoch_per_class:\n",
            "\tcsPCa: 0.10561712831258774\n",
            "test_iou_epoch: 0.0614\n",
            "test_iou_epoch_per_class:\n",
            "\tcsPCa: 0.061422061175107956\n",
            "current epoch: 27 current mean dice: 0.1056\n",
            "best mean dice: 0.1177 at epoch: 25\n",
            "--------------------------------------------------\n",
            "2024-07-03 16:04:39 - epoch 28/50\n"
          ]
        },
        {
          "name": "stderr",
          "output_type": "stream",
          "text": [
            "2024-07-03 16:04:47 - Epoch 28: 100%|██████████| 29/29 [00:08<00:00,  3.48batch/s, dice_score=0.471, loss=0.501]\n"
          ]
        },
        {
          "name": "stdout",
          "output_type": "stream",
          "text": [
            "--------------------\n",
            "Epoch_loss: 0.6301\n",
            "Epoch_metric: 0.4707\n",
            "IoU_metric: 0.3282\n"
          ]
        },
        {
          "name": "stderr",
          "output_type": "stream",
          "text": [
            "100%|██████████| 10/10 [00:35<00:00,  3.54s/it]\n"
          ]
        },
        {
          "name": "stdout",
          "output_type": "stream",
          "text": [
            "test_loss_epoch: 0.5359\n",
            "test_dice_epoch: 0.1091\n",
            "test_dice_epoch_per_class:\n",
            "\tcsPCa: 0.10907821357250214\n",
            "test_iou_epoch: 0.0643\n",
            "test_iou_epoch_per_class:\n",
            "\tcsPCa: 0.06430269777774811\n",
            "current epoch: 28 current mean dice: 0.1091\n",
            "best mean dice: 0.1177 at epoch: 25\n",
            "--------------------------------------------------\n",
            "2024-07-03 16:05:28 - epoch 29/50\n"
          ]
        },
        {
          "name": "stderr",
          "output_type": "stream",
          "text": [
            "2024-07-03 16:05:37 - Epoch 29: 100%|██████████| 29/29 [00:08<00:00,  3.29batch/s, dice_score=0.439, loss=1.25]\n"
          ]
        },
        {
          "name": "stdout",
          "output_type": "stream",
          "text": [
            "--------------------\n",
            "Epoch_loss: 0.6872\n",
            "Epoch_metric: 0.4395\n",
            "IoU_metric: 0.3038\n"
          ]
        },
        {
          "name": "stderr",
          "output_type": "stream",
          "text": [
            "100%|██████████| 10/10 [00:35<00:00,  3.55s/it]\n"
          ]
        },
        {
          "name": "stdout",
          "output_type": "stream",
          "text": [
            "test_loss_epoch: 0.5407\n",
            "test_dice_epoch: 0.1176\n",
            "test_dice_epoch_per_class:\n",
            "\tcsPCa: 0.11759978532791138\n",
            "test_iou_epoch: 0.0696\n",
            "test_iou_epoch_per_class:\n",
            "\tcsPCa: 0.06960012763738632\n",
            "current epoch: 29 current mean dice: 0.1176\n",
            "best mean dice: 0.1177 at epoch: 25\n",
            "--------------------------------------------------\n",
            "2024-07-03 16:06:16 - epoch 30/50\n"
          ]
        },
        {
          "name": "stderr",
          "output_type": "stream",
          "text": [
            "2024-07-03 16:06:24 - Epoch 30: 100%|██████████| 29/29 [00:08<00:00,  3.57batch/s, dice_score=0.441, loss=0.596]\n"
          ]
        },
        {
          "name": "stdout",
          "output_type": "stream",
          "text": [
            "--------------------\n",
            "Epoch_loss: 0.6495\n",
            "Epoch_metric: 0.4410\n",
            "IoU_metric: 0.3072\n"
          ]
        },
        {
          "name": "stderr",
          "output_type": "stream",
          "text": [
            "100%|██████████| 10/10 [00:35<00:00,  3.54s/it]\n"
          ]
        },
        {
          "name": "stdout",
          "output_type": "stream",
          "text": [
            "test_loss_epoch: 0.5364\n",
            "test_dice_epoch: 0.1170\n",
            "test_dice_epoch_per_class:\n",
            "\tcsPCa: 0.1170223206281662\n",
            "test_iou_epoch: 0.0697\n",
            "test_iou_epoch_per_class:\n",
            "\tcsPCa: 0.06973210722208023\n",
            "current epoch: 30 current mean dice: 0.1170\n",
            "best mean dice: 0.1177 at epoch: 25\n",
            "--------------------------------------------------\n",
            "2024-07-03 16:07:01 - epoch 31/50\n"
          ]
        },
        {
          "name": "stderr",
          "output_type": "stream",
          "text": [
            "2024-07-03 16:07:10 - Epoch 31: 100%|██████████| 29/29 [00:08<00:00,  3.30batch/s, dice_score=0.475, loss=0.575]\n"
          ]
        },
        {
          "name": "stdout",
          "output_type": "stream",
          "text": [
            "--------------------\n",
            "Epoch_loss: 0.6750\n",
            "Epoch_metric: 0.4749\n",
            "IoU_metric: 0.3330\n"
          ]
        },
        {
          "name": "stderr",
          "output_type": "stream",
          "text": [
            "100%|██████████| 10/10 [00:35<00:00,  3.56s/it]\n"
          ]
        },
        {
          "name": "stdout",
          "output_type": "stream",
          "text": [
            "test_loss_epoch: 0.5477\n",
            "test_dice_epoch: 0.1295\n",
            "test_dice_epoch_per_class:\n",
            "\tcsPCa: 0.1294817179441452\n",
            "test_iou_epoch: 0.0779\n",
            "test_iou_epoch_per_class:\n",
            "\tcsPCa: 0.07791008055210114\n",
            "current epoch: 31 current mean dice: 0.1295\n",
            "best mean dice: 0.1295 at epoch: 31\n",
            "--------------------------------------------------\n",
            "2024-07-03 16:07:49 - epoch 32/50\n"
          ]
        },
        {
          "name": "stderr",
          "output_type": "stream",
          "text": [
            "2024-07-03 16:07:58 - Epoch 32: 100%|██████████| 29/29 [00:09<00:00,  3.22batch/s, dice_score=0.468, loss=0.572]\n"
          ]
        },
        {
          "name": "stdout",
          "output_type": "stream",
          "text": [
            "--------------------\n",
            "Epoch_loss: 0.6577\n",
            "Epoch_metric: 0.4681\n",
            "IoU_metric: 0.3273\n"
          ]
        },
        {
          "name": "stderr",
          "output_type": "stream",
          "text": [
            "100%|██████████| 10/10 [00:35<00:00,  3.53s/it]\n"
          ]
        },
        {
          "name": "stdout",
          "output_type": "stream",
          "text": [
            "test_loss_epoch: 0.5550\n",
            "test_dice_epoch: 0.1229\n",
            "test_dice_epoch_per_class:\n",
            "\tcsPCa: 0.12294656038284302\n",
            "test_iou_epoch: 0.0732\n",
            "test_iou_epoch_per_class:\n",
            "\tcsPCa: 0.0731930136680603\n",
            "current epoch: 32 current mean dice: 0.1229\n",
            "best mean dice: 0.1295 at epoch: 31\n",
            "--------------------------------------------------\n",
            "2024-07-03 16:08:35 - epoch 33/50\n"
          ]
        },
        {
          "name": "stderr",
          "output_type": "stream",
          "text": [
            "2024-07-03 16:08:43 - Epoch 33: 100%|██████████| 29/29 [00:08<00:00,  3.51batch/s, dice_score=0.439, loss=0.97]\n"
          ]
        },
        {
          "name": "stdout",
          "output_type": "stream",
          "text": [
            "--------------------\n",
            "Epoch_loss: 0.6918\n",
            "Epoch_metric: 0.4388\n",
            "IoU_metric: 0.3025\n"
          ]
        },
        {
          "name": "stderr",
          "output_type": "stream",
          "text": [
            "100%|██████████| 10/10 [00:35<00:00,  3.55s/it]\n"
          ]
        },
        {
          "name": "stdout",
          "output_type": "stream",
          "text": [
            "test_loss_epoch: 0.5391\n",
            "test_dice_epoch: 0.1289\n",
            "test_dice_epoch_per_class:\n",
            "\tcsPCa: 0.1289132535457611\n",
            "test_iou_epoch: 0.0777\n",
            "test_iou_epoch_per_class:\n",
            "\tcsPCa: 0.07768889516592026\n",
            "current epoch: 33 current mean dice: 0.1289\n",
            "best mean dice: 0.1295 at epoch: 31\n",
            "--------------------------------------------------\n",
            "2024-07-03 16:09:27 - epoch 34/50\n"
          ]
        },
        {
          "name": "stderr",
          "output_type": "stream",
          "text": [
            "2024-07-03 16:09:34 - Epoch 34: 100%|██████████| 29/29 [00:07<00:00,  3.64batch/s, dice_score=0.446, loss=0.66]\n"
          ]
        },
        {
          "name": "stdout",
          "output_type": "stream",
          "text": [
            "--------------------\n",
            "Epoch_loss: 0.6709\n",
            "Epoch_metric: 0.4459\n",
            "IoU_metric: 0.3065\n"
          ]
        },
        {
          "name": "stderr",
          "output_type": "stream",
          "text": [
            "100%|██████████| 10/10 [00:35<00:00,  3.56s/it]\n"
          ]
        },
        {
          "name": "stdout",
          "output_type": "stream",
          "text": [
            "test_loss_epoch: 0.5253\n",
            "test_dice_epoch: 0.1327\n",
            "test_dice_epoch_per_class:\n",
            "\tcsPCa: 0.13271352648735046\n",
            "test_iou_epoch: 0.0800\n",
            "test_iou_epoch_per_class:\n",
            "\tcsPCa: 0.08000332117080688\n",
            "current epoch: 34 current mean dice: 0.1327\n",
            "best mean dice: 0.1327 at epoch: 34\n",
            "--------------------------------------------------\n",
            "2024-07-03 16:10:15 - epoch 35/50\n"
          ]
        },
        {
          "name": "stderr",
          "output_type": "stream",
          "text": [
            "2024-07-03 16:10:24 - Epoch 35: 100%|██████████| 29/29 [00:09<00:00,  3.11batch/s, dice_score=0.451, loss=0.688]\n"
          ]
        },
        {
          "name": "stdout",
          "output_type": "stream",
          "text": [
            "--------------------\n",
            "Epoch_loss: 0.6941\n",
            "Epoch_metric: 0.4512\n",
            "IoU_metric: 0.3152\n"
          ]
        },
        {
          "name": "stderr",
          "output_type": "stream",
          "text": [
            "100%|██████████| 10/10 [00:35<00:00,  3.56s/it]\n"
          ]
        },
        {
          "name": "stdout",
          "output_type": "stream",
          "text": [
            "test_loss_epoch: 0.5566\n",
            "test_dice_epoch: 0.1522\n",
            "test_dice_epoch_per_class:\n",
            "\tcsPCa: 0.15215525031089783\n",
            "test_iou_epoch: 0.0938\n",
            "test_iou_epoch_per_class:\n",
            "\tcsPCa: 0.09384258091449738\n",
            "current epoch: 35 current mean dice: 0.1522\n",
            "best mean dice: 0.1522 at epoch: 35\n",
            "--------------------------------------------------\n",
            "2024-07-03 16:11:18 - epoch 36/50\n"
          ]
        },
        {
          "name": "stderr",
          "output_type": "stream",
          "text": [
            "2024-07-03 16:11:27 - Epoch 36: 100%|██████████| 29/29 [00:08<00:00,  3.24batch/s, dice_score=0.425, loss=0.523]\n"
          ]
        },
        {
          "name": "stdout",
          "output_type": "stream",
          "text": [
            "--------------------\n",
            "Epoch_loss: 0.6581\n",
            "Epoch_metric: 0.4254\n",
            "IoU_metric: 0.2949\n"
          ]
        },
        {
          "name": "stderr",
          "output_type": "stream",
          "text": [
            "100%|██████████| 10/10 [00:35<00:00,  3.56s/it]\n"
          ]
        },
        {
          "name": "stdout",
          "output_type": "stream",
          "text": [
            "test_loss_epoch: 0.5431\n",
            "test_dice_epoch: 0.1393\n",
            "test_dice_epoch_per_class:\n",
            "\tcsPCa: 0.1392606943845749\n",
            "test_iou_epoch: 0.0845\n",
            "test_iou_epoch_per_class:\n",
            "\tcsPCa: 0.08452097326517105\n",
            "current epoch: 36 current mean dice: 0.1393\n",
            "best mean dice: 0.1522 at epoch: 35\n",
            "--------------------------------------------------\n",
            "2024-07-03 16:12:04 - epoch 37/50\n"
          ]
        },
        {
          "name": "stderr",
          "output_type": "stream",
          "text": [
            "2024-07-03 16:12:12 - Epoch 37: 100%|██████████| 29/29 [00:08<00:00,  3.62batch/s, dice_score=0.438, loss=0.629]\n"
          ]
        },
        {
          "name": "stdout",
          "output_type": "stream",
          "text": [
            "--------------------\n",
            "Epoch_loss: 0.6582\n",
            "Epoch_metric: 0.4383\n",
            "IoU_metric: 0.3002\n"
          ]
        },
        {
          "name": "stderr",
          "output_type": "stream",
          "text": [
            "100%|██████████| 10/10 [00:35<00:00,  3.54s/it]\n"
          ]
        },
        {
          "name": "stdout",
          "output_type": "stream",
          "text": [
            "test_loss_epoch: 0.5282\n",
            "test_dice_epoch: 0.1414\n",
            "test_dice_epoch_per_class:\n",
            "\tcsPCa: 0.14140169322490692\n",
            "test_iou_epoch: 0.0869\n",
            "test_iou_epoch_per_class:\n",
            "\tcsPCa: 0.08691425621509552\n",
            "current epoch: 37 current mean dice: 0.1414\n",
            "best mean dice: 0.1522 at epoch: 35\n",
            "--------------------------------------------------\n",
            "2024-07-03 16:12:53 - epoch 38/50\n"
          ]
        },
        {
          "name": "stderr",
          "output_type": "stream",
          "text": [
            "2024-07-03 16:13:01 - Epoch 38: 100%|██████████| 29/29 [00:08<00:00,  3.45batch/s, dice_score=0.444, loss=0.534]\n"
          ]
        },
        {
          "name": "stdout",
          "output_type": "stream",
          "text": [
            "--------------------\n",
            "Epoch_loss: 0.6536\n",
            "Epoch_metric: 0.4438\n",
            "IoU_metric: 0.3121\n"
          ]
        },
        {
          "name": "stderr",
          "output_type": "stream",
          "text": [
            "100%|██████████| 10/10 [00:35<00:00,  3.56s/it]\n"
          ]
        },
        {
          "name": "stdout",
          "output_type": "stream",
          "text": [
            "test_loss_epoch: 0.5366\n",
            "test_dice_epoch: 0.1421\n",
            "test_dice_epoch_per_class:\n",
            "\tcsPCa: 0.1421448290348053\n",
            "test_iou_epoch: 0.0873\n",
            "test_iou_epoch_per_class:\n",
            "\tcsPCa: 0.08728008717298508\n",
            "current epoch: 38 current mean dice: 0.1421\n",
            "best mean dice: 0.1522 at epoch: 35\n",
            "--------------------------------------------------\n",
            "2024-07-03 16:13:39 - epoch 39/50\n"
          ]
        },
        {
          "name": "stderr",
          "output_type": "stream",
          "text": [
            "2024-07-03 16:13:48 - Epoch 39: 100%|██████████| 29/29 [00:09<00:00,  3.20batch/s, dice_score=0.466, loss=0.511]\n"
          ]
        },
        {
          "name": "stdout",
          "output_type": "stream",
          "text": [
            "--------------------\n",
            "Epoch_loss: 0.6647\n",
            "Epoch_metric: 0.4657\n",
            "IoU_metric: 0.3268\n"
          ]
        },
        {
          "name": "stderr",
          "output_type": "stream",
          "text": [
            "100%|██████████| 10/10 [00:35<00:00,  3.57s/it]\n"
          ]
        },
        {
          "name": "stdout",
          "output_type": "stream",
          "text": [
            "test_loss_epoch: 0.5329\n",
            "test_dice_epoch: 0.1407\n",
            "test_dice_epoch_per_class:\n",
            "\tcsPCa: 0.14066919684410095\n",
            "test_iou_epoch: 0.0858\n",
            "test_iou_epoch_per_class:\n",
            "\tcsPCa: 0.08577457815408707\n",
            "current epoch: 39 current mean dice: 0.1407\n",
            "best mean dice: 0.1522 at epoch: 35\n",
            "--------------------------------------------------\n",
            "2024-07-03 16:14:30 - epoch 40/50\n"
          ]
        },
        {
          "name": "stderr",
          "output_type": "stream",
          "text": [
            "2024-07-03 16:14:39 - Epoch 40: 100%|██████████| 29/29 [00:08<00:00,  3.25batch/s, dice_score=0.487, loss=0.565]\n"
          ]
        },
        {
          "name": "stdout",
          "output_type": "stream",
          "text": [
            "--------------------\n",
            "Epoch_loss: 0.6589\n",
            "Epoch_metric: 0.4869\n",
            "IoU_metric: 0.3410\n"
          ]
        },
        {
          "name": "stderr",
          "output_type": "stream",
          "text": [
            "100%|██████████| 10/10 [00:35<00:00,  3.53s/it]\n"
          ]
        },
        {
          "name": "stdout",
          "output_type": "stream",
          "text": [
            "test_loss_epoch: 0.5404\n",
            "test_dice_epoch: 0.1556\n",
            "test_dice_epoch_per_class:\n",
            "\tcsPCa: 0.1556277722120285\n",
            "test_iou_epoch: 0.0968\n",
            "test_iou_epoch_per_class:\n",
            "\tcsPCa: 0.09682340174913406\n",
            "current epoch: 40 current mean dice: 0.1556\n",
            "best mean dice: 0.1556 at epoch: 40\n",
            "--------------------------------------------------\n",
            "2024-07-03 16:15:18 - epoch 41/50\n"
          ]
        },
        {
          "name": "stderr",
          "output_type": "stream",
          "text": [
            "2024-07-03 16:15:26 - Epoch 41: 100%|██████████| 29/29 [00:08<00:00,  3.46batch/s, dice_score=0.414, loss=0.516]\n"
          ]
        },
        {
          "name": "stdout",
          "output_type": "stream",
          "text": [
            "--------------------\n",
            "Epoch_loss: 0.7082\n",
            "Epoch_metric: 0.4136\n",
            "IoU_metric: 0.2838\n"
          ]
        },
        {
          "name": "stderr",
          "output_type": "stream",
          "text": [
            "100%|██████████| 10/10 [00:35<00:00,  3.56s/it]\n"
          ]
        },
        {
          "name": "stdout",
          "output_type": "stream",
          "text": [
            "test_loss_epoch: 0.5512\n",
            "test_dice_epoch: 0.1531\n",
            "test_dice_epoch_per_class:\n",
            "\tcsPCa: 0.15308114886283875\n",
            "test_iou_epoch: 0.0940\n",
            "test_iou_epoch_per_class:\n",
            "\tcsPCa: 0.09402447938919067\n",
            "current epoch: 41 current mean dice: 0.1531\n",
            "best mean dice: 0.1556 at epoch: 40\n",
            "--------------------------------------------------\n",
            "2024-07-03 16:16:04 - epoch 42/50\n"
          ]
        },
        {
          "name": "stderr",
          "output_type": "stream",
          "text": [
            "2024-07-03 16:16:13 - Epoch 42: 100%|██████████| 29/29 [00:08<00:00,  3.25batch/s, dice_score=0.45, loss=0.502]\n"
          ]
        },
        {
          "name": "stdout",
          "output_type": "stream",
          "text": [
            "--------------------\n",
            "Epoch_loss: 0.6523\n",
            "Epoch_metric: 0.4496\n",
            "IoU_metric: 0.3131\n"
          ]
        },
        {
          "name": "stderr",
          "output_type": "stream",
          "text": [
            "100%|██████████| 10/10 [00:35<00:00,  3.56s/it]\n"
          ]
        },
        {
          "name": "stdout",
          "output_type": "stream",
          "text": [
            "test_loss_epoch: 0.5203\n",
            "test_dice_epoch: 0.1287\n",
            "test_dice_epoch_per_class:\n",
            "\tcsPCa: 0.1286703646183014\n",
            "test_iou_epoch: 0.0781\n",
            "test_iou_epoch_per_class:\n",
            "\tcsPCa: 0.07805934548377991\n",
            "current epoch: 42 current mean dice: 0.1287\n",
            "best mean dice: 0.1556 at epoch: 40\n",
            "--------------------------------------------------\n",
            "2024-07-03 16:16:56 - epoch 43/50\n"
          ]
        },
        {
          "name": "stderr",
          "output_type": "stream",
          "text": [
            "2024-07-03 16:17:04 - Epoch 43: 100%|██████████| 29/29 [00:08<00:00,  3.39batch/s, dice_score=0.48, loss=0.715]\n"
          ]
        },
        {
          "name": "stdout",
          "output_type": "stream",
          "text": [
            "--------------------\n",
            "Epoch_loss: 0.6461\n",
            "Epoch_metric: 0.4800\n",
            "IoU_metric: 0.3363\n"
          ]
        },
        {
          "name": "stderr",
          "output_type": "stream",
          "text": [
            "100%|██████████| 10/10 [00:35<00:00,  3.56s/it]\n"
          ]
        },
        {
          "name": "stdout",
          "output_type": "stream",
          "text": [
            "test_loss_epoch: 0.5381\n",
            "test_dice_epoch: 0.1591\n",
            "test_dice_epoch_per_class:\n",
            "\tcsPCa: 0.15911659598350525\n",
            "test_iou_epoch: 0.0990\n",
            "test_iou_epoch_per_class:\n",
            "\tcsPCa: 0.09904894232749939\n",
            "current epoch: 43 current mean dice: 0.1591\n",
            "best mean dice: 0.1591 at epoch: 43\n",
            "--------------------------------------------------\n",
            "2024-07-03 16:17:55 - epoch 44/50\n"
          ]
        },
        {
          "name": "stderr",
          "output_type": "stream",
          "text": [
            "2024-07-03 16:18:03 - Epoch 44: 100%|██████████| 29/29 [00:08<00:00,  3.48batch/s, dice_score=0.461, loss=0.549]\n"
          ]
        },
        {
          "name": "stdout",
          "output_type": "stream",
          "text": [
            "--------------------\n",
            "Epoch_loss: 0.6522\n",
            "Epoch_metric: 0.4611\n",
            "IoU_metric: 0.3277\n"
          ]
        },
        {
          "name": "stderr",
          "output_type": "stream",
          "text": [
            "100%|██████████| 10/10 [00:35<00:00,  3.55s/it]\n"
          ]
        },
        {
          "name": "stdout",
          "output_type": "stream",
          "text": [
            "test_loss_epoch: 0.5215\n",
            "test_dice_epoch: 0.1479\n",
            "test_dice_epoch_per_class:\n",
            "\tcsPCa: 0.14785489439964294\n",
            "test_iou_epoch: 0.0920\n",
            "test_iou_epoch_per_class:\n",
            "\tcsPCa: 0.09204354137182236\n",
            "current epoch: 44 current mean dice: 0.1479\n",
            "best mean dice: 0.1591 at epoch: 43\n",
            "--------------------------------------------------\n",
            "2024-07-03 16:18:46 - epoch 45/50\n"
          ]
        },
        {
          "name": "stderr",
          "output_type": "stream",
          "text": [
            "2024-07-03 16:18:54 - Epoch 45: 100%|██████████| 29/29 [00:08<00:00,  3.54batch/s, dice_score=0.444, loss=0.59]\n"
          ]
        },
        {
          "name": "stdout",
          "output_type": "stream",
          "text": [
            "--------------------\n",
            "Epoch_loss: 0.6597\n",
            "Epoch_metric: 0.4445\n",
            "IoU_metric: 0.3103\n"
          ]
        },
        {
          "name": "stderr",
          "output_type": "stream",
          "text": [
            "100%|██████████| 10/10 [00:35<00:00,  3.56s/it]\n"
          ]
        },
        {
          "name": "stdout",
          "output_type": "stream",
          "text": [
            "test_loss_epoch: 0.5433\n",
            "test_dice_epoch: 0.1524\n",
            "test_dice_epoch_per_class:\n",
            "\tcsPCa: 0.15241025388240814\n",
            "test_iou_epoch: 0.0934\n",
            "test_iou_epoch_per_class:\n",
            "\tcsPCa: 0.09343729168176651\n",
            "current epoch: 45 current mean dice: 0.1524\n",
            "best mean dice: 0.1591 at epoch: 43\n",
            "--------------------------------------------------\n",
            "2024-07-03 16:19:36 - epoch 46/50\n"
          ]
        },
        {
          "name": "stderr",
          "output_type": "stream",
          "text": [
            "2024-07-03 16:19:44 - Epoch 46: 100%|██████████| 29/29 [00:08<00:00,  3.52batch/s, dice_score=0.462, loss=0.566]\n"
          ]
        },
        {
          "name": "stdout",
          "output_type": "stream",
          "text": [
            "--------------------\n",
            "Epoch_loss: 0.6375\n",
            "Epoch_metric: 0.4621\n",
            "IoU_metric: 0.3233\n"
          ]
        },
        {
          "name": "stderr",
          "output_type": "stream",
          "text": [
            "100%|██████████| 10/10 [00:36<00:00,  3.60s/it]\n"
          ]
        },
        {
          "name": "stdout",
          "output_type": "stream",
          "text": [
            "test_loss_epoch: 0.5374\n",
            "test_dice_epoch: 0.1381\n",
            "test_dice_epoch_per_class:\n",
            "\tcsPCa: 0.13807179033756256\n",
            "test_iou_epoch: 0.0826\n",
            "test_iou_epoch_per_class:\n",
            "\tcsPCa: 0.08259770274162292\n",
            "current epoch: 46 current mean dice: 0.1381\n",
            "best mean dice: 0.1591 at epoch: 43\n",
            "--------------------------------------------------\n",
            "2024-07-03 16:20:22 - epoch 47/50\n"
          ]
        },
        {
          "name": "stderr",
          "output_type": "stream",
          "text": [
            "2024-07-03 16:20:31 - Epoch 47: 100%|██████████| 29/29 [00:08<00:00,  3.35batch/s, dice_score=0.437, loss=0.601]\n"
          ]
        },
        {
          "name": "stdout",
          "output_type": "stream",
          "text": [
            "--------------------\n",
            "Epoch_loss: 0.6336\n",
            "Epoch_metric: 0.4370\n",
            "IoU_metric: 0.3014\n"
          ]
        },
        {
          "name": "stderr",
          "output_type": "stream",
          "text": [
            "100%|██████████| 10/10 [00:35<00:00,  3.56s/it]\n"
          ]
        },
        {
          "name": "stdout",
          "output_type": "stream",
          "text": [
            "test_loss_epoch: 0.5357\n",
            "test_dice_epoch: 0.1585\n",
            "test_dice_epoch_per_class:\n",
            "\tcsPCa: 0.1585199385881424\n",
            "test_iou_epoch: 0.0982\n",
            "test_iou_epoch_per_class:\n",
            "\tcsPCa: 0.09820359945297241\n",
            "current epoch: 47 current mean dice: 0.1585\n",
            "best mean dice: 0.1591 at epoch: 43\n",
            "--------------------------------------------------\n",
            "2024-07-03 16:21:08 - epoch 48/50\n"
          ]
        },
        {
          "name": "stderr",
          "output_type": "stream",
          "text": [
            "2024-07-03 16:21:16 - Epoch 48: 100%|██████████| 29/29 [00:08<00:00,  3.62batch/s, dice_score=0.468, loss=0.881]\n"
          ]
        },
        {
          "name": "stdout",
          "output_type": "stream",
          "text": [
            "--------------------\n",
            "Epoch_loss: 0.6560\n",
            "Epoch_metric: 0.4680\n",
            "IoU_metric: 0.3277\n"
          ]
        },
        {
          "name": "stderr",
          "output_type": "stream",
          "text": [
            "100%|██████████| 10/10 [00:35<00:00,  3.54s/it]\n"
          ]
        },
        {
          "name": "stdout",
          "output_type": "stream",
          "text": [
            "test_loss_epoch: 0.5287\n",
            "test_dice_epoch: 0.1451\n",
            "test_dice_epoch_per_class:\n",
            "\tcsPCa: 0.14509880542755127\n",
            "test_iou_epoch: 0.0887\n",
            "test_iou_epoch_per_class:\n",
            "\tcsPCa: 0.08866036683320999\n",
            "current epoch: 48 current mean dice: 0.1451\n",
            "best mean dice: 0.1591 at epoch: 43\n",
            "--------------------------------------------------\n",
            "2024-07-03 16:21:58 - epoch 49/50\n"
          ]
        },
        {
          "name": "stderr",
          "output_type": "stream",
          "text": [
            "2024-07-03 16:22:06 - Epoch 49: 100%|██████████| 29/29 [00:08<00:00,  3.57batch/s, dice_score=0.475, loss=0.502]\n"
          ]
        },
        {
          "name": "stdout",
          "output_type": "stream",
          "text": [
            "--------------------\n",
            "Epoch_loss: 0.6410\n",
            "Epoch_metric: 0.4753\n",
            "IoU_metric: 0.3368\n"
          ]
        },
        {
          "name": "stderr",
          "output_type": "stream",
          "text": [
            "100%|██████████| 10/10 [00:35<00:00,  3.55s/it]\n"
          ]
        },
        {
          "name": "stdout",
          "output_type": "stream",
          "text": [
            "test_loss_epoch: 0.5313\n",
            "test_dice_epoch: 0.1436\n",
            "test_dice_epoch_per_class:\n",
            "\tcsPCa: 0.14364361763000488\n",
            "test_iou_epoch: 0.0873\n",
            "test_iou_epoch_per_class:\n",
            "\tcsPCa: 0.08728984743356705\n",
            "current epoch: 49 current mean dice: 0.1436\n",
            "best mean dice: 0.1591 at epoch: 43\n",
            "--------------------------------------------------\n",
            "2024-07-03 16:22:48 - epoch 50/50\n"
          ]
        },
        {
          "name": "stderr",
          "output_type": "stream",
          "text": [
            "2024-07-03 16:22:57 - Epoch 50: 100%|██████████| 29/29 [00:09<00:00,  3.22batch/s, dice_score=0.476, loss=0.677]\n"
          ]
        },
        {
          "name": "stdout",
          "output_type": "stream",
          "text": [
            "--------------------\n",
            "Epoch_loss: 0.6254\n",
            "Epoch_metric: 0.4757\n",
            "IoU_metric: 0.3336\n"
          ]
        },
        {
          "name": "stderr",
          "output_type": "stream",
          "text": [
            "100%|██████████| 10/10 [00:35<00:00,  3.52s/it]"
          ]
        },
        {
          "name": "stdout",
          "output_type": "stream",
          "text": [
            "test_loss_epoch: 0.5214\n",
            "test_dice_epoch: 0.1452\n",
            "test_dice_epoch_per_class:\n",
            "\tcsPCa: 0.14518508315086365\n",
            "test_iou_epoch: 0.0888\n",
            "test_iou_epoch_per_class:\n",
            "\tcsPCa: 0.08878084272146225\n",
            "current epoch: 50 current mean dice: 0.1452\n",
            "best mean dice: 0.1591 at epoch: 43\n",
            "train completed, best_metric: 0.1591 at epoch: 43\n"
          ]
        },
        {
          "name": "stderr",
          "output_type": "stream",
          "text": [
            "\n"
          ]
        }
      ],
      "source": [
        "train(\n",
        "    model=model,\n",
        "    data_in=(train_loader, test_loader),\n",
        "    loss=loss_function,\n",
        "    optim=optimizer,\n",
        "    max_epochs=50,\n",
        "    model_dir=model_dir,\n",
        "    device=device,\n",
        "    name=\"Prostate158_labeler1\",\n",
        "    test_interval=1,\n",
        "    start_epoch=0,\n",
        ")"
      ]
    },
    {
      "cell_type": "markdown",
      "source": [
        "# Check TGSE Loss"
      ],
      "metadata": {
        "id": "E0n51j-IG5XA"
      }
    },
    {
      "cell_type": "code",
      "source": [
        "from tensorflow.keras.losses import Loss\n",
        "import tensorflow as tf\n",
        "import numpy as np"
      ],
      "metadata": {
        "id": "4QCmLFLQHDSS"
      },
      "execution_count": null,
      "outputs": []
    },
    {
      "cell_type": "code",
      "source": [
        "from dataclasses import dataclass\n",
        "from typing import Any\n",
        "\n",
        "import keras.backend as K\n",
        "import tensorflow as tf\n",
        "from keras.losses import Loss\n",
        "from tensorflow import cast\n",
        "from tensorflow import float32 as tf_float32\n",
        "\n",
        "TARGET_DATA_TYPE = tf_float32\n",
        "\n",
        "\n",
        "@dataclass\n",
        "class TcgeConfig_tf:\n",
        "    \"\"\"\n",
        "    TCGE configuration parameters.\n",
        "    \"\"\"\n",
        "\n",
        "    num_annotators: int = 5\n",
        "    num_classes: int = 2\n",
        "    gamma: float = 0.1\n",
        "\n",
        "\n",
        "class TcgeSs_tf(Loss):  # type: ignore\n",
        "    \"\"\"\n",
        "    Truncated generalized cross entropy\n",
        "    for semantic segmentation loss.\n",
        "    \"\"\"\n",
        "\n",
        "    def __init__(\n",
        "        self,\n",
        "        config: TcgeConfig_tf,\n",
        "        q: float = 0.1,\n",
        "        name: str = \"TGCE_SS\",\n",
        "        smooth: float = 1e-5,\n",
        "    ) -> None:\n",
        "        self.q = q\n",
        "        self.num_annotators = config.num_annotators\n",
        "        self.num_classes = config.num_classes\n",
        "        self.smooth = smooth\n",
        "        self.gamma = config.gamma\n",
        "        super().__init__(name=name)\n",
        "\n",
        "    def call(self, y_true: tf.Tensor, y_pred: tf.Tensor) -> tf.Tensor:\n",
        "        y_true = cast(y_true, TARGET_DATA_TYPE)\n",
        "        y_pred = cast(y_pred, TARGET_DATA_TYPE)\n",
        "\n",
        "        y_pred = y_pred[..., : self.num_classes + self.num_annotators]  # type:ignore\n",
        "        y_true = tf.reshape(\n",
        "            y_true, (y_true.shape[:-1]) + (self.num_classes, self.num_annotators)\n",
        "        )\n",
        "        lambda_r = y_pred[..., self.num_classes :]  # type:ignore\n",
        "        y_pred_ = y_pred[..., : self.num_classes]\n",
        "        n_samples, width, height, _ = y_pred_.shape\n",
        "        y_pred_ = y_pred_[..., tf.newaxis]  # type:ignore\n",
        "        y_pred_ = tf.repeat(y_pred_, repeats=[self.num_annotators], axis=-1)\n",
        "\n",
        "        epsilon = 1e-8\n",
        "        y_pred_ = tf.clip_by_value(y_pred_, epsilon, 1.0 - epsilon)\n",
        "\n",
        "        term_r = tf.math.reduce_mean(\n",
        "            tf.math.multiply(\n",
        "                y_true,\n",
        "                (\n",
        "                    tf.ones(\n",
        "                        [\n",
        "                            n_samples,\n",
        "                            width,\n",
        "                            height,\n",
        "                            self.num_classes,\n",
        "                            self.num_annotators,\n",
        "                        ]\n",
        "                    )\n",
        "                    - tf.pow(y_pred_, self.q)\n",
        "                )\n",
        "                / (self.q + epsilon + self.smooth),\n",
        "            ),\n",
        "            axis=-2,\n",
        "        )\n",
        "\n",
        "        term_c = tf.math.multiply(\n",
        "            tf.ones([n_samples, width, height, self.num_annotators]) - lambda_r,\n",
        "            (\n",
        "                tf.ones([n_samples, width, height, self.num_annotators])\n",
        "                - tf.pow(\n",
        "                    (1 / self.num_classes + self.smooth)\n",
        "                    * tf.ones([n_samples, width, height, self.num_annotators]),\n",
        "                    self.q,\n",
        "                )\n",
        "            )\n",
        "            / (self.q + epsilon + self.smooth),\n",
        "        )\n",
        "\n",
        "        loss = tf.math.reduce_mean(tf.math.multiply(lambda_r, term_r) + term_c)\n",
        "        loss = tf.where(tf.math.is_nan(loss), tf.constant(1e-8), loss)\n",
        "\n",
        "        return loss\n",
        "\n",
        "    def get_config(\n",
        "        self,\n",
        "    ) -> Any:\n",
        "        \"\"\"\n",
        "        Retrieves loss configuration.\n",
        "        \"\"\"\n",
        "        base_config = super().get_config()\n",
        "        return {**base_config, \"q\": self.q}"
      ],
      "metadata": {
        "id": "6dZxsvKtG5IJ"
      },
      "execution_count": null,
      "outputs": []
    },
    {
      "cell_type": "code",
      "source": [
        "# Simulate data\n",
        "batch_size = 2\n",
        "height = 128\n",
        "width = 128\n",
        "num_classes = 2\n",
        "num_annotators = 5\n",
        "\n",
        "# Simulated ground truth\n",
        "y_true = np.random.randint(0, num_classes, size=(batch_size, height, width, num_classes*num_annotators))\n",
        "y_true = tf.convert_to_tensor(y_true, dtype=tf.float32)\n",
        "\n",
        "# Simulated predictions: concatenated segmented images and annotator reliability scores\n",
        "y_pred_segmented = np.random.rand(batch_size, height, width, num_classes).astype(np.float32)\n",
        "y_pred_reliability = np.random.rand(batch_size, height, width, num_annotators).astype(np.float32)\n",
        "y_pred = np.concatenate((y_pred_segmented, y_pred_reliability), axis=-1)\n",
        "y_pred = tf.convert_to_tensor(y_pred, dtype=tf.float32)\n",
        "\n",
        "# Instantiate the loss function\n",
        "config = TcgeConfig_tf(num_annotators=num_annotators, num_classes=num_classes)\n",
        "loss_fn = TcgeSs_tf(config=config)\n",
        "\n",
        "# Compute the loss\n",
        "loss_value = loss_fn(y_true, y_pred)\n",
        "\n",
        "# Print the results\n",
        "print(\"Loss value:\", loss_value.numpy())"
      ],
      "metadata": {
        "colab": {
          "base_uri": "https://localhost:8080/"
        },
        "id": "JB3_WfvhIVQz",
        "outputId": "4ff50e13-e0bb-42bd-db9e-1b118d957a4a"
      },
      "execution_count": null,
      "outputs": [
        {
          "output_type": "stream",
          "name": "stdout",
          "text": [
            "Loss value: 0.5605929\n"
          ]
        }
      ]
    },
    {
      "cell_type": "markdown",
      "source": [
        "## PyTorch Version of Loss Function"
      ],
      "metadata": {
        "id": "Yk3maSr1eJ49"
      }
    },
    {
      "cell_type": "code",
      "source": [
        "import torch\n",
        "import torch.nn as nn\n",
        "import torch.nn.functional as F\n",
        "\n",
        "class TcgeConfig_pytorch:\n",
        "    \"\"\"\n",
        "    TCGE configuration parameters.\n",
        "    \"\"\"\n",
        "    def __init__(self, num_annotators=5, num_classes=2, gamma=0.1):\n",
        "        self.num_annotators = num_annotators\n",
        "        self.num_classes = num_classes\n",
        "        self.gamma = gamma\n",
        "\n",
        "class TcgeSs_pytorch(nn.Module):\n",
        "    \"\"\"\n",
        "    Truncated generalized cross entropy for semantic segmentation loss.\n",
        "    \"\"\"\n",
        "    def __init__(self, config, q=0.1, smooth=1e-5):\n",
        "        super(TcgeSs_pytorch, self).__init__()\n",
        "        self.q = q\n",
        "        self.num_annotators = config.num_annotators\n",
        "        self.num_classes = config.num_classes\n",
        "        self.smooth = smooth\n",
        "        self.gamma = config.gamma\n",
        "\n",
        "    def forward(self, y_true, y_pred):\n",
        "        y_true = y_true.to(torch.float32)\n",
        "        y_pred = y_pred.to(torch.float32)\n",
        "\n",
        "        y_pred = y_pred[..., :self.num_classes + self.num_annotators]\n",
        "\n",
        "        y_true = y_true.view(y_true.shape[:-1] + (self.num_classes, self.num_annotators))\n",
        "\n",
        "        lambda_r = y_pred[..., self.num_classes:]\n",
        "        y_pred_ = y_pred[..., :self.num_classes]\n",
        "        n_samples, width, height, _ = y_pred_.shape\n",
        "\n",
        "        y_pred_ = y_pred_.unsqueeze(-1)\n",
        "        y_pred_ = y_pred_.repeat(1, 1, 1, 1, self.num_annotators)\n",
        "\n",
        "        epsilon = 1e-8\n",
        "        y_pred_ = torch.clamp(y_pred_, epsilon, 1.0 - epsilon)\n",
        "\n",
        "        term_r = torch.mean(\n",
        "            torch.mul(\n",
        "                y_true,\n",
        "                (torch.ones((n_samples, width, height, self.num_classes, self.num_annotators)) - torch.pow(y_pred_, self.q))\n",
        "                / (self.q + epsilon + self.smooth)\n",
        "            ),\n",
        "            dim=-2\n",
        "        )\n",
        "\n",
        "        term_c = torch.mul(\n",
        "            torch.ones((n_samples, width, height, self.num_annotators)) - lambda_r,\n",
        "            (\n",
        "                torch.ones((n_samples, width, height, self.num_annotators))\n",
        "                - torch.pow((1 / self.num_classes + self.smooth) * torch.ones((n_samples, width, height, self.num_annotators)), self.q)\n",
        "            )\n",
        "            / (self.q + epsilon + self.smooth)\n",
        "        )\n",
        "\n",
        "        loss = torch.mean(torch.mul(lambda_r, term_r) + term_c)\n",
        "        loss = torch.where(torch.isnan(loss), torch.tensor(1e-8, dtype=loss.dtype, device=loss.device), loss)\n",
        "\n",
        "        return loss"
      ],
      "metadata": {
        "id": "iMLGQ7EneMs_"
      },
      "execution_count": null,
      "outputs": []
    },
    {
      "cell_type": "code",
      "source": [
        "import numpy as np\n",
        "\n",
        "# Simulate data\n",
        "batch_size = 2\n",
        "height = 128\n",
        "width = 128\n",
        "num_classes = 2\n",
        "num_annotators = 5\n",
        "\n",
        "# Simulated ground truth\n",
        "y_true_segmented = np.random.randint(0, num_classes, size=(batch_size, height, width))\n",
        "y_true_one_hot = np.eye(num_classes)[y_true_segmented]\n",
        "y_true_one_hot = np.repeat(y_true_one_hot[..., np.newaxis], num_annotators, axis=-1)  # Shape: (batch_size, height, width, num_classes, num_annotators)\n",
        "y_true_one_hot = np.moveaxis(y_true_one_hot, -1, -2)  # Shape: (batch_size, height, width, num_annotators, num_classes)\n",
        "y_true_one_hot = y_true_one_hot.reshape(batch_size, height, width, num_classes * num_annotators)  # Shape: (batch_size, height, width, num_classes * num_annotators)\n",
        "\n",
        "# Simulated predictions: concatenated segmented images and annotator reliability scores\n",
        "y_pred_segmented = np.random.rand(batch_size, height, width, num_classes).astype(np.float32)\n",
        "y_pred_reliability = np.random.rand(batch_size, height, width, num_annotators).astype(np.float32)\n",
        "y_pred = np.concatenate((y_pred_segmented, y_pred_reliability), axis=-1)  # Shape: (batch_size, height, width, num_classes + num_annotators)\n"
      ],
      "metadata": {
        "id": "XomOsQRGfxlv"
      },
      "execution_count": null,
      "outputs": []
    },
    {
      "cell_type": "code",
      "source": [
        "# Convert to TensorFlow tensors\n",
        "y_true_tf = tf.convert_to_tensor(y_true_one_hot, dtype=tf.float32)\n",
        "y_pred_tf = tf.convert_to_tensor(y_pred, dtype=tf.float32)\n",
        "\n",
        "# Instantiate the loss function\n",
        "config = TcgeConfig_tf(num_annotators=num_annotators, num_classes=num_classes)\n",
        "loss_fn_tf = TcgeSs_tf(config)\n",
        "\n",
        "# Compute the loss\n",
        "loss_value_tf = loss_fn_tf(y_true_tf, y_pred_tf)\n",
        "\n"
      ],
      "metadata": {
        "id": "K0n0aSeDfEXj"
      },
      "execution_count": null,
      "outputs": []
    },
    {
      "cell_type": "code",
      "source": [
        "# Convert to PyTorch tensors\n",
        "y_true_pt = torch.tensor(y_true_one_hot, dtype=torch.float32)\n",
        "y_pred_pt = torch.tensor(y_pred, dtype=torch.float32)\n",
        "\n",
        "# Instantiate the loss function\n",
        "config = TcgeConfig_pytorch(num_annotators=num_annotators, num_classes=num_classes)\n",
        "loss_fn_pt = TcgeSs_pytorch(config)\n",
        "\n",
        "# Compute the loss\n",
        "loss_value_pt = loss_fn_pt(y_true_pt, y_pred_pt)\n",
        "\n"
      ],
      "metadata": {
        "id": "BcUIR4IhhDwD"
      },
      "execution_count": null,
      "outputs": []
    },
    {
      "cell_type": "code",
      "source": [
        "# Print both loss values to compare\n",
        "print(f\"TensorFlow Loss value: {loss_value_tf.numpy()}\")\n",
        "print(f\"PyTorch Loss value: {loss_value_pt.item()}\")"
      ],
      "metadata": {
        "colab": {
          "base_uri": "https://localhost:8080/"
        },
        "id": "mMasclW3hFB5",
        "outputId": "af30bcb0-ca5b-45bc-ebb8-e097869e3dc1"
      },
      "execution_count": null,
      "outputs": [
        {
          "output_type": "stream",
          "name": "stdout",
          "text": [
            "TensorFlow Loss value: 0.5624853372573853\n",
            "PyTorch Loss value: 0.5624853372573853\n"
          ]
        }
      ]
    },
    {
      "cell_type": "markdown",
      "source": [
        "## Testing 3D images"
      ],
      "metadata": {
        "id": "OUcIcbnWjQzO"
      }
    },
    {
      "cell_type": "code",
      "source": [
        "from dataclasses import dataclass\n",
        "from typing import Any\n",
        "\n",
        "import keras.backend as K\n",
        "import tensorflow as tf\n",
        "from keras.losses import Loss\n",
        "from tensorflow import cast\n",
        "from tensorflow import float32 as tf_float32\n",
        "\n",
        "TARGET_DATA_TYPE = tf_float32\n",
        "\n",
        "\n",
        "@dataclass\n",
        "class TcgeConfig_tf_3D:\n",
        "    \"\"\"\n",
        "    TCGE configuration parameters.\n",
        "    \"\"\"\n",
        "\n",
        "    num_annotators: int = 5\n",
        "    num_classes: int = 2\n",
        "    gamma: float = 0.1\n",
        "\n",
        "\n",
        "class TcgeSs_tf_3D(Loss):  # type: ignore\n",
        "    \"\"\"\n",
        "    Truncated generalized cross entropy\n",
        "    for semantic segmentation loss.\n",
        "    \"\"\"\n",
        "\n",
        "    def __init__(\n",
        "        self,\n",
        "        config: TcgeConfig_tf_3D,\n",
        "        q: float = 0.1,\n",
        "        name: str = \"TGCE_SS\",\n",
        "        smooth: float = 1e-5,\n",
        "    ) -> None:\n",
        "        self.q = q\n",
        "        self.num_annotators = config.num_annotators\n",
        "        self.num_classes = config.num_classes\n",
        "        self.smooth = smooth\n",
        "        self.gamma = config.gamma\n",
        "        super().__init__(name=name)\n",
        "\n",
        "    def call(self, y_true: tf.Tensor, y_pred: tf.Tensor) -> tf.Tensor:\n",
        "        y_true = cast(y_true, TARGET_DATA_TYPE)\n",
        "        y_pred = cast(y_pred, TARGET_DATA_TYPE)\n",
        "\n",
        "        y_pred = y_pred[..., : self.num_classes + self.num_annotators]  # type:ignore\n",
        "        y_true = tf.reshape(\n",
        "            y_true, (y_true.shape[:-1]) + (self.num_classes, self.num_annotators)\n",
        "        )\n",
        "        lambda_r = y_pred[..., self.num_classes :]  # type:ignore\n",
        "        y_pred_ = y_pred[..., : self.num_classes]\n",
        "        n_samples, depth, width, height, _ = y_pred_.shape\n",
        "        y_pred_ = y_pred_[..., tf.newaxis]  # type:ignore\n",
        "        y_pred_ = tf.repeat(y_pred_, repeats=[self.num_annotators], axis=-1)\n",
        "\n",
        "        epsilon = 1e-8\n",
        "        y_pred_ = tf.clip_by_value(y_pred_, epsilon, 1.0 - epsilon)\n",
        "\n",
        "        term_r = tf.math.reduce_mean(\n",
        "            tf.math.multiply(\n",
        "                y_true,\n",
        "                (\n",
        "                    tf.ones(\n",
        "                        [\n",
        "                            n_samples,\n",
        "                            depth,\n",
        "                            width,\n",
        "                            height,\n",
        "                            self.num_classes,\n",
        "                            self.num_annotators,\n",
        "                        ]\n",
        "                    )\n",
        "                    - tf.pow(y_pred_, self.q)\n",
        "                )\n",
        "                / (self.q + epsilon + self.smooth),\n",
        "            ),\n",
        "            axis=-2,\n",
        "        )\n",
        "\n",
        "        term_c = tf.math.multiply(\n",
        "            tf.ones([n_samples,depth, width, height, self.num_annotators]) - lambda_r,\n",
        "            (\n",
        "                tf.ones([n_samples,depth, width, height, self.num_annotators])\n",
        "                - tf.pow(\n",
        "                    (1 / self.num_classes + self.smooth)\n",
        "                    * tf.ones([n_samples,depth, width, height, self.num_annotators]),\n",
        "                    self.q,\n",
        "                )\n",
        "            )\n",
        "            / (self.q + epsilon + self.smooth),\n",
        "        )\n",
        "\n",
        "        loss = tf.math.reduce_mean(tf.math.multiply(lambda_r, term_r) + term_c)\n",
        "        loss = tf.where(tf.math.is_nan(loss), tf.constant(1e-8), loss)\n",
        "\n",
        "        return loss\n",
        "\n",
        "    def get_config(\n",
        "        self,\n",
        "    ) -> Any:\n",
        "        \"\"\"\n",
        "        Retrieves loss configuration.\n",
        "        \"\"\"\n",
        "        base_config = super().get_config()\n",
        "        return {**base_config, \"q\": self.q}"
      ],
      "metadata": {
        "id": "PQAzj1w1lnf4"
      },
      "execution_count": null,
      "outputs": []
    },
    {
      "cell_type": "code",
      "source": [
        "import torch\n",
        "import torch.nn as nn\n",
        "import torch.nn.functional as F\n",
        "\n",
        "class TcgeConfig_pytorch_3D:\n",
        "    \"\"\"\n",
        "    TCGE configuration parameters.\n",
        "    \"\"\"\n",
        "    def __init__(self, num_annotators=5, num_classes=2, gamma=0.1):\n",
        "        self.num_annotators = num_annotators\n",
        "        self.num_classes = num_classes\n",
        "        self.gamma = gamma\n",
        "\n",
        "class TcgeSs_pytorch_3D(nn.Module):\n",
        "    \"\"\"\n",
        "    Truncated generalized cross entropy for semantic segmentation loss.\n",
        "    \"\"\"\n",
        "    def __init__(self, config, q=0.1, smooth=1e-5):\n",
        "        super(TcgeSs_pytorch_3D, self).__init__()\n",
        "        self.q = q\n",
        "        self.num_annotators = config.num_annotators\n",
        "        self.num_classes = config.num_classes\n",
        "        self.smooth = smooth\n",
        "        self.gamma = config.gamma\n",
        "\n",
        "    def forward(self, y_true, y_pred):\n",
        "        y_true = y_true.to(torch.float32)\n",
        "        y_pred = y_pred.to(torch.float32)\n",
        "\n",
        "        y_pred = y_pred[..., :self.num_classes + self.num_annotators]\n",
        "\n",
        "        y_true = y_true.view(y_true.shape[:-1] + (self.num_classes, self.num_annotators))\n",
        "\n",
        "        lambda_r = y_pred[..., self.num_classes:]\n",
        "        y_pred_ = y_pred[..., :self.num_classes]\n",
        "        n_samples,depth, width, height, _ = y_pred_.shape\n",
        "\n",
        "        y_pred_ = y_pred_.unsqueeze(-1)\n",
        "        y_pred_ = y_pred_.repeat(1, 1, 1, 1, 1, self.num_annotators)\n",
        "\n",
        "        epsilon = 1e-8\n",
        "        y_pred_ = torch.clamp(y_pred_, epsilon, 1.0 - epsilon)\n",
        "\n",
        "        term_r = torch.mean(\n",
        "            torch.mul(\n",
        "                y_true,\n",
        "                (torch.ones((n_samples,depth, width, height, self.num_classes, self.num_annotators)) - torch.pow(y_pred_, self.q))\n",
        "                / (self.q + epsilon + self.smooth)\n",
        "            ),\n",
        "            dim=-2\n",
        "        )\n",
        "\n",
        "        term_c = torch.mul(\n",
        "            torch.ones((n_samples,depth, width, height, self.num_annotators)) - lambda_r,\n",
        "            (\n",
        "                torch.ones((n_samples,depth, width, height, self.num_annotators))\n",
        "                - torch.pow((1 / self.num_classes + self.smooth) * torch.ones((n_samples,depth, width, height, self.num_annotators)), self.q)\n",
        "            )\n",
        "            / (self.q + epsilon + self.smooth)\n",
        "        )\n",
        "\n",
        "        loss = torch.mean(torch.mul(lambda_r, term_r) + term_c)\n",
        "        loss = torch.where(torch.isnan(loss), torch.tensor(1e-8, dtype=loss.dtype, device=loss.device), loss)\n",
        "\n",
        "        return loss"
      ],
      "metadata": {
        "id": "M9EYe2fXpYRc"
      },
      "execution_count": null,
      "outputs": []
    },
    {
      "cell_type": "code",
      "source": [
        "# Simulate data\n",
        "import numpy as np\n",
        "batch_size = 2\n",
        "depth = 32\n",
        "height = 32\n",
        "width = 32\n",
        "channels = 3\n",
        "num_classes = 2\n",
        "num_annotators = 5\n",
        "\n",
        "# Simulated ground truth\n",
        "y_true_segmented = np.random.randint(0, num_classes, size=(batch_size, depth, height, width))\n",
        "y_true_one_hot = np.eye(num_classes)[y_true_segmented]\n",
        "y_true_one_hot = np.repeat(y_true_one_hot[..., np.newaxis], num_annotators, axis=-1)  # Shape: (batch_size, depth, height, width, num_classes, num_annotators)\n",
        "y_true_one_hot = np.moveaxis(y_true_one_hot, -1, -2)  # Shape: (batch_size, depth, height, width, num_annotators, num_classes)\n",
        "y_true_one_hot = y_true_one_hot.reshape(batch_size, depth, height, width, num_classes * num_annotators)  # Shape: (batch_size, depth, height, width, num_classes * num_annotators)\n",
        "\n",
        "# Simulated predictions: concatenated segmented images and annotator reliability scores\n",
        "y_pred_segmented = np.random.rand(batch_size, depth, height, width, num_classes).astype(np.float32)\n",
        "y_pred_reliability = np.random.rand(batch_size, depth, height, width, num_annotators).astype(np.float32)\n",
        "y_pred = np.concatenate((y_pred_segmented, y_pred_reliability), axis=-1)  # Shape: (batch_size, depth, height, width, num_classes + num_annotators)"
      ],
      "metadata": {
        "id": "3moeWBgxjQid"
      },
      "execution_count": null,
      "outputs": []
    },
    {
      "cell_type": "code",
      "source": [
        "# Convert to TensorFlow tensors\n",
        "y_true_tf = tf.convert_to_tensor(y_true_one_hot, dtype=tf.float32)\n",
        "y_pred_tf = tf.convert_to_tensor(y_pred, dtype=tf.float32)\n",
        "\n",
        "# Instantiate the loss function\n",
        "config = TcgeConfig_tf_3D(num_annotators=num_annotators, num_classes=num_classes)\n",
        "loss_fn_tf = TcgeSs_tf_3D(config)\n",
        "\n",
        "# Compute the loss\n",
        "loss_value_tf = loss_fn_tf(y_true_tf, y_pred_tf)"
      ],
      "metadata": {
        "id": "wcQAySwcjcxl"
      },
      "execution_count": null,
      "outputs": []
    },
    {
      "cell_type": "code",
      "source": [
        "y_pred_tf.shape"
      ],
      "metadata": {
        "colab": {
          "base_uri": "https://localhost:8080/"
        },
        "id": "9G-gtHSR5-UM",
        "outputId": "cf5fd430-e4c1-4b1a-a8f0-48581c8e55a2"
      },
      "execution_count": null,
      "outputs": [
        {
          "output_type": "execute_result",
          "data": {
            "text/plain": [
              "TensorShape([2, 32, 32, 32, 7])"
            ]
          },
          "metadata": {},
          "execution_count": 8
        }
      ]
    },
    {
      "cell_type": "code",
      "source": [
        "# Convert to PyTorch tensors\n",
        "y_true_pt = torch.tensor(y_true_one_hot, dtype=torch.float32)\n",
        "y_pred_pt = torch.tensor(y_pred, dtype=torch.float32)\n",
        "\n",
        "# Instantiate the loss function\n",
        "config = TcgeConfig_pytorch_3D(num_annotators=num_annotators, num_classes=num_classes)\n",
        "loss_fn_pt = TcgeSs_pytorch_3D(config)\n",
        "\n",
        "# Compute the loss\n",
        "loss_value_pt = loss_fn_pt(y_true_pt, y_pred_pt)"
      ],
      "metadata": {
        "id": "h470kHhulyZe"
      },
      "execution_count": null,
      "outputs": []
    },
    {
      "cell_type": "code",
      "source": [
        "y_true_pt.shape"
      ],
      "metadata": {
        "id": "7ALlPgeqvtv_",
        "outputId": "fef715ac-3220-40e9-fd38-492e8748c513",
        "colab": {
          "base_uri": "https://localhost:8080/"
        }
      },
      "execution_count": null,
      "outputs": [
        {
          "output_type": "execute_result",
          "data": {
            "text/plain": [
              "torch.Size([2, 32, 32, 32, 4])"
            ]
          },
          "metadata": {},
          "execution_count": 125
        }
      ]
    },
    {
      "cell_type": "code",
      "source": [
        "# Print both loss values to compare\n",
        "print(f\"TensorFlow Loss value: {loss_value_tf.numpy()}\")\n",
        "print(f\"PyTorch Loss value: {loss_value_pt.item()}\")"
      ],
      "metadata": {
        "colab": {
          "base_uri": "https://localhost:8080/"
        },
        "id": "JoX0gktRq9vb",
        "outputId": "b8f4ce7c-56e6-49c9-b3b7-b958ce5a7aca"
      },
      "execution_count": null,
      "outputs": [
        {
          "output_type": "stream",
          "name": "stdout",
          "text": [
            "TensorFlow Loss value: 0.5620188117027283\n",
            "PyTorch Loss value: 0.5620188117027283\n"
          ]
        }
      ]
    },
    {
      "cell_type": "markdown",
      "source": [
        "# Train Model Loss Function"
      ],
      "metadata": {
        "id": "V5BRp6QHi9fj"
      }
    },
    {
      "cell_type": "code",
      "source": [
        "import os\n",
        "import argparse\n",
        "\n",
        "from tqdm import tqdm\n",
        "import json\n",
        "\n",
        "from monai.losses import DiceCELoss\n",
        "from monai.inferers import sliding_window_inference\n",
        "from monai.transforms import (\n",
        "    AsDiscrete,\n",
        "    CropForegroundd,\n",
        "    RandAffined,\n",
        "    Compose,\n",
        "    LoadImaged,\n",
        "    Orientationd,\n",
        "    ScaleIntensityRanged,\n",
        "    Spacingd,\n",
        "    EnsureChannelFirstd,\n",
        "    SpatialPadd,\n",
        "    ToTensord,\n",
        "    RandCropByPosNegLabeld,\n",
        "    RandGaussianNoised,\n",
        "    RandAdjustContrastd,\n",
        "    RandFlipd,\n",
        "    RandGaussianSmoothd,\n",
        "    RandRotated,\n",
        "    AsDiscreted,\n",
        "    ResampleToMatchd,\n",
        "    ConcatItemsd,\n",
        "    ConcatItemsd,\n",
        "    ScaleIntensityd,\n",
        "    Transposed,\n",
        "    Lambdad\n",
        ")\n",
        "import monai\n",
        "from monai.metrics import DiceMetric\n",
        "from monai.networks.nets import UNet\n",
        "\n",
        "from monai.data import (\n",
        "    DataLoader,\n",
        "    CacheDataset,\n",
        "    Dataset,\n",
        "    decollate_batch,\n",
        "    set_track_meta,\n",
        ")\n",
        "from monai.visualize import matshow3d\n",
        "import matplotlib.pyplot as plt\n",
        "import pandas as pd\n",
        "\n",
        "\n",
        "import torch\n",
        "import numpy as np\n",
        "from time import sleep\n",
        "\n",
        "from datetime import datetime"
      ],
      "metadata": {
        "id": "VPhjHVbCjDMn"
      },
      "execution_count": null,
      "outputs": []
    },
    {
      "cell_type": "code",
      "source": [
        "def custom_print(*args, **kwargs):\n",
        "    # Get the current datetime\n",
        "    current_time = datetime.now().strftime(\"%Y-%m-%d %H:%M:%S\")\n",
        "    # Construct the message with the datetime\n",
        "    formatted_message = f\"{current_time} - {' '.join(map(str, args))}\"\n",
        "    # Use the built-in print function to display the message\n",
        "    print(formatted_message, **kwargs)\n",
        "\n",
        "# Train Function\n",
        "def train_Multiple_Annotators(\n",
        "    model,\n",
        "    data_in,\n",
        "    loss,\n",
        "    optim,\n",
        "    max_epochs,\n",
        "    model_dir,\n",
        "    device,\n",
        "    name,\n",
        "    test_interval=1,\n",
        "    start_epoch=0,\n",
        "):\n",
        "    best_metric = -1\n",
        "    best_metric_epoch = -1\n",
        "    save_loss_train = []\n",
        "    save_loss_test = []\n",
        "    save_metric_train = []\n",
        "    save_metric_test = []\n",
        "    save_metric_test_per_class = []\n",
        "    save_iou_test_per_class = []\n",
        "    train_loader, test_loader = data_in\n",
        "\n",
        "    data_classes = [\n",
        "        \"csPCa\"\n",
        "    ]\n",
        "\n",
        "    for epoch in range(start_epoch, max_epochs):\n",
        "        print(\"-\" * 50)\n",
        "        custom_print(f\"epoch {epoch + 1}/{max_epochs}\")\n",
        "        model.train()\n",
        "        train_epoch_loss = 0\n",
        "        train_step = 0\n",
        "        epoch_metric_train = 0\n",
        "        with tqdm(train_loader, unit=\"batch\") as tepoch:\n",
        "            for batch_data in tepoch:\n",
        "                current_time = datetime.now().strftime(\"%Y-%m-%d %H:%M:%S\")\n",
        "                tepoch.set_description(f\"{current_time} - Epoch {epoch+1}\")\n",
        "                train_step += 1\n",
        "\n",
        "                volume = batch_data[\"image\"]\n",
        "                label = batch_data[\"label\"]\n",
        "                # print(volume.shape)\n",
        "                #print(label.shape)\n",
        "                volume, labels = (volume.to(device), label.to(device))\n",
        "\n",
        "                optim.zero_grad()\n",
        "                outputs = model(volume)\n",
        "                #print(outputs.shape)\n",
        "                #print(labels.shape)\n",
        "                train_loss = loss(outputs, labels)\n",
        "                #print(train_loss)\n",
        "                train_loss.backward()\n",
        "                optim.step()\n",
        "\n",
        "                train_epoch_loss += train_loss.item()\n",
        "                labels = labels[:,:2] #First annotator\n",
        "                labels_list = decollate_batch(labels)\n",
        "                labels_convert = [\n",
        "                   post_label(label_tensor) for label_tensor in labels_list\n",
        "                ]\n",
        "\n",
        "                outputs = outputs[:,0] #First annotator\n",
        "                output_list = decollate_batch(outputs)\n",
        "                output_convert = [\n",
        "                    post_pred(output_tensor) for output_tensor in output_list\n",
        "                ]\n",
        "\n",
        "                dice_metric(y_pred=output_convert, y=labels_convert)\n",
        "                iou_metric(y_pred=output_convert, y=labels_convert)\n",
        "\n",
        "                tepoch.set_postfix(\n",
        "                    loss=train_loss.item(),\n",
        "                    dice_score=dice_metric.aggregate(reduction=\"mean\").item(),\n",
        "                )\n",
        "                sleep(0.01)\n",
        "\n",
        "            torch.save(\n",
        "                {\n",
        "                    \"epoch\": epoch + 1,\n",
        "                    \"state_dict\": model.state_dict(),\n",
        "                    \"optimizer\": optimizer.state_dict(),\n",
        "                },\n",
        "                os.path.join(model_dir, name + \"_last_checkpoint.pth\"),\n",
        "            )\n",
        "\n",
        "            print(\"-\" * 20)\n",
        "\n",
        "            train_epoch_loss /= train_step\n",
        "            print(f\"Epoch_loss: {train_epoch_loss:.4f}\")\n",
        "            save_loss_train.append(train_epoch_loss)\n",
        "            np.save(os.path.join(model_dir, name + \"_loss_train.npy\"), save_loss_train)\n",
        "\n",
        "            epoch_metric_train = dice_metric.aggregate(reduction=\"mean\").item()\n",
        "            dice_metric.reset()\n",
        "\n",
        "            print(f\"Epoch_metric: {epoch_metric_train:.4f}\")\n",
        "\n",
        "            iou_metric_train = iou_metric.aggregate(reduction=\"mean\").item()\n",
        "            iou_metric.reset()\n",
        "\n",
        "            print(f\"IoU_metric: {iou_metric_train:.4f}\")\n",
        "\n",
        "            save_metric_train.append(epoch_metric_train)\n",
        "            np.save(\n",
        "                os.path.join(model_dir, name + \"_metric_train.npy\"), save_metric_train\n",
        "            )\n",
        "\n",
        "            if (epoch + 1) % test_interval == 0:\n",
        "\n",
        "                model.eval()\n",
        "                with torch.no_grad():\n",
        "                    test_epoch_loss = 0\n",
        "                    test_metric = 0\n",
        "                    epoch_metric_test = 0\n",
        "                    test_step = 0\n",
        "\n",
        "                    for test_data in tqdm(test_loader):\n",
        "\n",
        "                        test_step += 1\n",
        "\n",
        "                        test_volume = test_data[\"image\"]\n",
        "                        test_label = test_data[\"label\"]\n",
        "\n",
        "                        test_volume, test_label = (\n",
        "                            test_volume.to(device),\n",
        "                            test_label.to(device),\n",
        "                        )\n",
        "\n",
        "                        test_outputs = sliding_window_inference(\n",
        "                            test_volume,patch_size, 2, model, overlap=0.5\n",
        "                        )\n",
        "\n",
        "                        test_loss = loss(test_outputs, test_label)\n",
        "                        test_epoch_loss += test_loss.item()\n",
        "\n",
        "                        labels_list = decollate_batch(test_label)\n",
        "                        labels_convert = [\n",
        "                            post_label(label_tensor) for label_tensor in labels_list\n",
        "                        ]\n",
        "\n",
        "                        output_list = decollate_batch(test_outputs)\n",
        "                        output_convert = [\n",
        "                            post_pred(output_tensor) for output_tensor in output_list\n",
        "                        ]\n",
        "\n",
        "                        dice_metric(y_pred=output_convert, y=labels_convert)\n",
        "                        iou_metric(y_pred=output_convert, y=labels_convert)\n",
        "\n",
        "                    test_epoch_loss /= test_step\n",
        "                    print(f\"test_loss_epoch: {test_epoch_loss:.4f}\")\n",
        "                    save_loss_test.append(test_epoch_loss)\n",
        "                    np.save(\n",
        "                        os.path.join(model_dir, name + \"_loss_test.npy\"), save_loss_test\n",
        "                    )\n",
        "\n",
        "                    epoch_metric_test = dice_metric.aggregate(reduction=\"mean\").item()\n",
        "\n",
        "                    print(f\"test_dice_epoch: {epoch_metric_test:.4f}\")\n",
        "\n",
        "                    dice_scores = {\n",
        "                        key: value\n",
        "                        for key, value in zip(\n",
        "                            data_classes,\n",
        "                            dice_metric.aggregate(reduction=\"mean_batch\").tolist(),\n",
        "                        )\n",
        "                    }\n",
        "                    print(\"test_dice_epoch_per_class:\")\n",
        "                    for key, value in dice_scores.items():\n",
        "                        print(f\"\\t{key}: {value}\")\n",
        "                    save_metric_test_per_class.append(\n",
        "                        np.array(list(dice_scores.values()))\n",
        "                    )\n",
        "                    np.save(\n",
        "                        os.path.join(model_dir, name + \"_metric_test_per_class.npy\"),\n",
        "                        save_metric_test_per_class,\n",
        "                    )\n",
        "\n",
        "                    iou_metric_test = iou_metric.aggregate(reduction=\"mean\").item()\n",
        "\n",
        "                    print(f\"test_iou_epoch: {iou_metric_test:.4f}\")\n",
        "\n",
        "                    iou_scores = {\n",
        "                        key: value\n",
        "                        for key, value in zip(\n",
        "                            data_classes,\n",
        "                            iou_metric.aggregate(reduction=\"mean_batch\").tolist(),\n",
        "                        )\n",
        "                    }\n",
        "                    print(\"test_iou_epoch_per_class:\")\n",
        "                    for key, value in iou_scores.items():\n",
        "                        print(f\"\\t{key}: {value}\")\n",
        "                    save_iou_test_per_class.append(np.array(list(iou_scores.values())))\n",
        "                    np.save(\n",
        "                        os.path.join(model_dir, name + \"_iou_test_per_class.npy\"),\n",
        "                        save_iou_test_per_class,\n",
        "                    )\n",
        "\n",
        "                    iou_metric.reset()\n",
        "                    save_metric_test.append(epoch_metric_test)\n",
        "                    np.save(\n",
        "                        os.path.join(model_dir, name + \"_metric_test.npy\"),\n",
        "                        save_metric_test,\n",
        "                    )\n",
        "                    dice_metric.reset()\n",
        "                    if epoch_metric_test > best_metric:\n",
        "                        best_metric = epoch_metric_test\n",
        "                        best_metric_epoch = epoch + 1\n",
        "                        torch.save(\n",
        "                            {\n",
        "                                \"epoch\": epoch + 1,\n",
        "                                \"state_dict\": model.state_dict(),\n",
        "                                \"optimizer\": optimizer.state_dict(),\n",
        "                            },\n",
        "                            os.path.join(model_dir, name + \"_best_metric_model.pth\"),\n",
        "                        )\n",
        "\n",
        "                    print(\n",
        "                        f\"current epoch: {epoch + 1} current mean dice: {epoch_metric_test:.4f}\"\n",
        "                        f\"\\nbest mean dice: {best_metric:.4f} \"\n",
        "                        f\"at epoch: {best_metric_epoch}\"\n",
        "                    )\n",
        "\n",
        "    print(\n",
        "        f\"train completed, best_metric: {best_metric:.4f} \"\n",
        "        f\"at epoch: {best_metric_epoch}\"\n",
        "    )\n"
      ],
      "metadata": {
        "id": "wPVnkMv5jIAS"
      },
      "execution_count": null,
      "outputs": []
    },
    {
      "cell_type": "code",
      "source": [
        "import torch\n",
        "import torch.nn as nn\n",
        "import torch.nn.functional as F\n",
        "\n",
        "class TcgeConfig_pytorch_3D:\n",
        "    \"\"\"\n",
        "    TCGE configuration parameters.\n",
        "    \"\"\"\n",
        "    def __init__(self, num_annotators=5, num_classes=2, gamma=0.1):\n",
        "        self.num_annotators = num_annotators\n",
        "        self.num_classes = num_classes\n",
        "        self.gamma = gamma\n",
        "\n",
        "class TcgeSs_pytorch_3D(nn.Module):\n",
        "    \"\"\"\n",
        "    Truncated generalized cross entropy for semantic segmentation loss.\n",
        "    \"\"\"\n",
        "    def __init__(self, config, q=0.1, smooth=1e-5):\n",
        "        super(TcgeSs_pytorch_3D, self).__init__()\n",
        "        self.q = q\n",
        "        self.num_annotators = config.num_annotators\n",
        "        self.num_classes = config.num_classes\n",
        "        self.smooth = smooth\n",
        "        self.gamma = config.gamma\n",
        "\n",
        "    def forward(self, y_true, y_pred):\n",
        "        #y_true = y_true.to(torch.float32)\n",
        "        #y_pred = y_pred.to(torch.float32)\n",
        "\n",
        "        y_true = y_true.permute(0,2,3,4,1)\n",
        "        y_pred = y_pred.permute(0,2,3,4,1)\n",
        "\n",
        "\n",
        "        y_pred = y_pred[..., :self.num_classes + self.num_annotators]\n",
        "\n",
        "\n",
        "\n",
        "        y_true = y_true.view(y_true.shape[:-1] + (self.num_classes, self.num_annotators))\n",
        "\n",
        "        lambda_r = y_pred[..., self.num_classes:]\n",
        "        y_pred_ = y_pred[..., :self.num_classes]\n",
        "        n_samples,depth, width, height, _ = y_pred_.shape\n",
        "\n",
        "        y_pred_ = y_pred_.unsqueeze(-1)\n",
        "        y_pred_ = y_pred_.repeat(1, 1, 1, 1, 1, self.num_annotators)\n",
        "\n",
        "        epsilon = 1e-8\n",
        "        y_pred_ = torch.clamp(y_pred_, epsilon, 1.0 - epsilon)\n",
        "\n",
        "        term_r = torch.mean(\n",
        "            torch.mul(\n",
        "                y_true,\n",
        "                (torch.ones((n_samples,depth, width, height, self.num_classes, self.num_annotators)).to(device) - torch.pow(y_pred_, self.q))\n",
        "                / (self.q + epsilon + self.smooth)\n",
        "            ),\n",
        "            dim=-2\n",
        "        )\n",
        "\n",
        "        term_c = torch.mul(\n",
        "            torch.ones((n_samples,depth, width, height, self.num_annotators)).to(device) - lambda_r,\n",
        "            (\n",
        "                torch.ones((n_samples,depth, width, height, self.num_annotators)).to(device)\n",
        "                - torch.pow((1 / self.num_classes + self.smooth) * torch.ones((n_samples,depth, width, height, self.num_annotators)).to(device), self.q)\n",
        "            )\n",
        "            / (self.q + epsilon + self.smooth)\n",
        "        )\n",
        "\n",
        "        loss = torch.mean(torch.mul(lambda_r, term_r) + term_c)\n",
        "        loss = torch.where(torch.isnan(loss), torch.tensor(1e-8, dtype=loss.dtype, device=loss.device), loss)\n",
        "\n",
        "        return loss"
      ],
      "metadata": {
        "id": "ryzHCQU4sDSm"
      },
      "execution_count": null,
      "outputs": []
    },
    {
      "cell_type": "code",
      "source": [
        "path = \"./prostate158_train/\"\n",
        "train_df = pd.read_csv(os.path.join(path, \"train.csv\"))\n",
        "test_df = pd.read_csv(os.path.join(path, \"valid.csv\"))\n",
        "\n",
        "# Keep Only images with 2 annotators\n",
        "train_df = train_df.dropna(subset=[\"adc_tumor_reader2\"])\n",
        "test_df = test_df.dropna(subset=[\"adc_tumor_reader2\"])\n",
        "\n",
        "# Add path to all images\n",
        "train_df[\"t2\"] = train_df[\"t2\"].apply(lambda x: os.path.join(path, x))\n",
        "train_df[\"adc\"] = train_df[\"adc\"].apply(lambda x: os.path.join(path, x))\n",
        "train_df[\"dwi\"] = train_df[\"dwi\"].apply(lambda x: os.path.join(path, x))\n",
        "train_df[\"adc_tumor_reader1\"] = train_df[\"adc_tumor_reader1\"].apply(lambda x: os.path.join(path, x))\n",
        "train_df[\"adc_tumor_reader2\"] = train_df[\"adc_tumor_reader2\"].apply(lambda x: os.path.join(path, x))\n",
        "\n",
        "test_df[\"t2\"] = test_df[\"t2\"].apply(lambda x: os.path.join(path, x))\n",
        "test_df[\"adc\"] = test_df[\"adc\"].apply(lambda x: os.path.join(path, x))\n",
        "test_df[\"dwi\"] = test_df[\"dwi\"].apply(lambda x: os.path.join(path, x))\n",
        "test_df[\"adc_tumor_reader1\"] = test_df[\"adc_tumor_reader1\"].apply(lambda x: os.path.join(path, x))\n",
        "test_df[\"adc_tumor_reader2\"] = test_df[\"adc_tumor_reader2\"].apply(lambda x: os.path.join(path, x))\n",
        "\n",
        "\n",
        "img_columns = [\"t2\", \"dwi\", \"adc\"]  # ,\"adc\",\"dwi\"]\n",
        "label_columns = [\"label_1\",\"label_2\"]\n",
        "\n",
        "mode = [\n",
        "        \"bilinear\",\n",
        "        \"bilinear\",\n",
        "        \"bilinear\",\n",
        "        \"nearest\",\n",
        "        \"nearest\"\n",
        "    ]\n",
        "\n",
        "\n",
        "train_files = [\n",
        "        {\"t2\": t2, \"adc\": adc, \"dwi\": dwi, \"label_1\": label_1, \"label_2\": label_2}\n",
        "        for t2, adc, dwi, label_1, label_2 in zip(\n",
        "            train_df[\"t2\"].values,\n",
        "            train_df[\"adc\"].values,\n",
        "            train_df[\"dwi\"].values,\n",
        "            train_df[\"adc_tumor_reader1\"].values,\n",
        "            train_df[\"adc_tumor_reader2\"].values\n",
        "        )\n",
        "    ]\n",
        "test_files = [\n",
        "    {\"t2\": t2, \"adc\": adc, \"dwi\": dwi, \"label_1\": label_1, \"label_2\": label_2}\n",
        "        for t2, adc, dwi, label_1, label_2 in zip(\n",
        "            test_df[\"t2\"].values,\n",
        "            test_df[\"adc\"].values,\n",
        "            test_df[\"dwi\"].values,\n",
        "            test_df[\"adc_tumor_reader1\"].values,\n",
        "            test_df[\"adc_tumor_reader2\"].values\n",
        "        )\n",
        "    ]\n",
        "\n",
        "#Define Image transforms\n",
        "pixdim = (0.5, 0.5, 1)\n",
        "patch_size = (32,32,32)\n",
        "\n",
        "def add_new_axis(data):\n",
        "    return torch.unsqueeze(data, 0)\n",
        "\n",
        "\n",
        "train_transforms = Compose(\n",
        "    [\n",
        "        LoadImaged(keys=img_columns + label_columns, reader=\"NibabelReader\", image_only=True),\n",
        "        EnsureChannelFirstd(keys=img_columns + label_columns),\n",
        "        AsDiscreted(\n",
        "            keys=label_columns, threshold=1,to_onehot=2\n",
        "        ),  # Convert values greater than 1 to 1\n",
        "        Spacingd(keys=img_columns + label_columns, pixdim=pixdim, mode=mode),\n",
        "        ResampleToMatchd(\n",
        "            keys=[\"adc\", \"dwi\", \"label_1\",\"label_2\"],\n",
        "            key_dst=\"t2\",\n",
        "            mode=(\"bilinear\", \"bilinear\", \"nearest\",\"nearest\"),\n",
        "        ),\n",
        "        ScaleIntensityd(keys=img_columns, minv=0.0, maxv=1.0),\n",
        "        Orientationd(keys=img_columns + label_columns, axcodes=\"RAS\"),\n",
        "        CropForegroundd(keys=img_columns + label_columns, source_key=\"t2\"),\n",
        "        SpatialPadd(keys=img_columns + label_columns, spatial_size=patch_size),\n",
        "        RandCropByPosNegLabeld(\n",
        "            keys=img_columns + label_columns,\n",
        "            label_key=\"label_1\",\n",
        "            spatial_size=patch_size,\n",
        "            pos=2,\n",
        "            neg=1,\n",
        "            num_samples=2,\n",
        "            image_key=\"image\",\n",
        "            image_threshold=0,\n",
        "        ),\n",
        "        ConcatItemsd(keys=img_columns, name=\"image\", dim=0),\n",
        "        ConcatItemsd(keys=label_columns, name=\"label\", dim=0),\n",
        "        RandRotated(\n",
        "            keys=[\"image\", \"label\"],\n",
        "            prob=0.2,\n",
        "            range_x=(-30.0 / 360 * 2.0 * np.pi, 30.0 / 360 * 2.0 * np.pi),\n",
        "            range_y=(-30.0 / 360 * 2.0 * np.pi, 30.0 / 360 * 2.0 * np.pi),\n",
        "            range_z=(-30.0 / 360 * 2.0 * np.pi, 30.0 / 360 * 2.0 * np.pi),\n",
        "            mode=[\"bilinear\", \"nearest\"],\n",
        "        ),\n",
        "        RandAffined(keys=[\"image\", \"label\"], scale_range=(0.7, 1.4), prob=0.2, mode=[\"bilinear\", \"nearest\"]),\n",
        "        RandGaussianNoised(keys=\"image\", prob=0.1, mean=0, std=0.1),\n",
        "        RandGaussianSmoothd(keys=\"image\", prob=0.1, sigma_x=(0.5, 1)),\n",
        "        RandAdjustContrastd(keys=\"image\", prob=0.15, gamma=(0.75, 1.25)),\n",
        "        RandFlipd(keys=[\"image\", \"label\"], prob=0.5, spatial_axis=[0]),\n",
        "        RandFlipd(keys=[\"image\", \"label\"], prob=0.5, spatial_axis=[1]),\n",
        "        RandFlipd(keys=[\"image\", \"label\"], prob=0.5, spatial_axis=[2]),\n",
        "        ToTensord(keys=[\"image\", \"label\"]),\n",
        "        #Transposed(keys=[\"label\"], indices=[1, 2, 3, 0]),\n",
        "        #Lambdad(keys=[\"label\"], func=add_new_axis),\n",
        "    ]\n",
        ")\n",
        "\n",
        "val_transforms = Compose(\n",
        "    [\n",
        "        LoadImaged(keys=img_columns + label_columns, reader=\"NibabelReader\", image_only=True),\n",
        "        EnsureChannelFirstd(keys=img_columns + label_columns),\n",
        "        AsDiscreted(\n",
        "            keys=label_columns, threshold=1,to_onehot=2\n",
        "        ),  # Convert values greater than 1 to 1\n",
        "        Spacingd(keys=img_columns + label_columns, pixdim=pixdim, mode=mode),\n",
        "        ResampleToMatchd(\n",
        "            keys=[\"adc\", \"dwi\", \"label_1\",\"label_2\"],\n",
        "            key_dst=\"t2\",\n",
        "            mode=(\"bilinear\", \"bilinear\", \"nearest\",\"nearest\"),\n",
        "        ),\n",
        "        ScaleIntensityd(keys=img_columns, minv=0.0, maxv=1.0),\n",
        "        Orientationd(keys=img_columns + label_columns, axcodes=\"RAS\"),\n",
        "        CropForegroundd(keys=img_columns + label_columns, source_key=\"t2\"),\n",
        "        SpatialPadd(keys=img_columns + label_columns, spatial_size=patch_size),\n",
        "        ConcatItemsd(keys=img_columns, name=\"image\", dim=0),\n",
        "        ConcatItemsd(keys=label_columns, name=\"label\", dim=0),\n",
        "\n",
        "        ToTensord(keys=[\"image\", \"label\"]),\n",
        "        #Transposed(keys=[\"label\"], indices=[1, 2, 3, 0]),\n",
        "        #Lambdad(keys=[\"label\"], func=add_new_axis),\n",
        "    ]\n",
        ")\n"
      ],
      "metadata": {
        "colab": {
          "base_uri": "https://localhost:8080/"
        },
        "id": "ipQAga4fjOxX",
        "outputId": "37c62e8f-9118-47f2-d967-e6c93596b76e"
      },
      "execution_count": null,
      "outputs": [
        {
          "output_type": "stream",
          "name": "stderr",
          "text": [
            "monai.transforms.croppad.dictionary CropForegroundd.__init__:allow_smaller: Current default value of argument `allow_smaller=True` has been deprecated since version 1.2. It will be changed to `allow_smaller=False` in version 1.5.\n"
          ]
        }
      ]
    },
    {
      "cell_type": "code",
      "source": [
        "## Creating Datasets\n",
        "\n",
        "train_ds = Dataset(data=train_files, transform=train_transforms)\n",
        "train_loader = DataLoader(train_ds, batch_size=2, shuffle=True)\n",
        "\n",
        "test_ds = Dataset(data=test_files, transform=val_transforms)\n",
        "test_loader = DataLoader(test_ds, batch_size=1, shuffle=False)\n",
        "\n",
        "print(train_ds[0][1][\"label\"].shape)"
      ],
      "metadata": {
        "colab": {
          "base_uri": "https://localhost:8080/"
        },
        "id": "cPGdfdkLjRL9",
        "outputId": "688b644c-4d9c-4efd-f5fb-6e8f0b73d17d"
      },
      "execution_count": null,
      "outputs": [
        {
          "output_type": "stream",
          "name": "stdout",
          "text": [
            "torch.Size([4, 32, 32, 32])\n"
          ]
        }
      ]
    },
    {
      "cell_type": "code",
      "source": [
        "next(iter(train_loader))[\"label\"].shape"
      ],
      "metadata": {
        "colab": {
          "base_uri": "https://localhost:8080/"
        },
        "id": "0wIevZFW5Y9f",
        "outputId": "f5393c1f-6a0f-4869-be59-a7a7af0ea429"
      },
      "execution_count": null,
      "outputs": [
        {
          "output_type": "execute_result",
          "data": {
            "text/plain": [
              "torch.Size([4, 4, 32, 32, 32])"
            ]
          },
          "metadata": {},
          "execution_count": 105
        }
      ]
    },
    {
      "cell_type": "code",
      "source": [
        "# Defining Model and Metrics\n",
        "\n",
        "pin_memory = torch.cuda.is_available()\n",
        "device = torch.device(\"cuda\" if torch.cuda.is_available() else \"cpu\")\n",
        "\n",
        "print(f\"Working on device: {device}\")"
      ],
      "metadata": {
        "colab": {
          "base_uri": "https://localhost:8080/"
        },
        "id": "LKEKMqavmOa2",
        "outputId": "a17c3d32-8583-4721-ce64-15966742d764"
      },
      "execution_count": null,
      "outputs": [
        {
          "output_type": "stream",
          "name": "stdout",
          "text": [
            "Working on device: cuda\n"
          ]
        }
      ]
    },
    {
      "cell_type": "code",
      "source": [
        "import torch\n",
        "import torch.nn as nn\n",
        "import torch.nn.functional as F\n",
        "from functools import partial\n",
        "\n",
        "# Partial functions to define default Conv3d and MaxPool3d layers\n",
        "DefaultConv3D = partial(nn.Conv3d, kernel_size=3, padding=1)\n",
        "DefaultPooling = partial(nn.MaxPool3d, kernel_size=2, stride=2)\n",
        "DilatedConv = partial(nn.Conv3d, kernel_size=3, padding=10, dilation=10)\n",
        "\n",
        "UpSample = partial(nn.Upsample, scale_factor=(2, 2, 2), mode='trilinear', align_corners=True)\n",
        "\n",
        "class ConvBlock(nn.Module):\n",
        "    def __init__(self, in_channels, out_channels):\n",
        "        super(ConvBlock, self).__init__()\n",
        "        self.conv1 = DefaultConv3D(in_channels, out_channels)\n",
        "        self.conv2 = DefaultConv3D(out_channels, out_channels)\n",
        "        self.bn1 = nn.BatchNorm3d(out_channels)\n",
        "        self.bn2 = nn.BatchNorm3d(out_channels)\n",
        "\n",
        "    def forward(self, x):\n",
        "        x = F.relu(self.bn1(self.conv1(x)))\n",
        "        x = F.relu(self.bn2(self.conv2(x)))\n",
        "        return x\n",
        "\n",
        "class Encoder(nn.Module):\n",
        "    def __init__(self):\n",
        "        super(Encoder, self).__init__()\n",
        "        self.enc1 = ConvBlock(3, 8)\n",
        "        self.pool1 = DefaultPooling()\n",
        "        self.enc2 = ConvBlock(8, 16)\n",
        "        self.pool2 = DefaultPooling()\n",
        "        self.enc3 = ConvBlock(16, 32)\n",
        "        self.pool3 = DefaultPooling()\n",
        "        self.enc4 = ConvBlock(32, 64)\n",
        "        self.pool4 = DefaultPooling()\n",
        "\n",
        "    def forward(self, x):\n",
        "        level_1 = self.enc1(x)\n",
        "        x = self.pool1(level_1)\n",
        "        level_2 = self.enc2(x)\n",
        "        x = self.pool2(level_2)\n",
        "        level_3 = self.enc3(x)\n",
        "        x = self.pool3(level_3)\n",
        "        level_4 = self.enc4(x)\n",
        "        x = self.pool4(level_4)\n",
        "        return x, level_1, level_2, level_3, level_4\n",
        "\n",
        "class Decoder(nn.Module):\n",
        "    def __init__(self):\n",
        "        super(Decoder, self).__init__()\n",
        "        self.dec4 = ConvBlock(128, 64)\n",
        "        self.dec3 = ConvBlock(64, 32)\n",
        "        self.dec2 = ConvBlock(32, 16)\n",
        "        self.dec1 = ConvBlock(16, 8)\n",
        "        self.upsample = UpSample()\n",
        "\n",
        "    def forward(self, x, level_1, level_2, level_3, level_4):\n",
        "        x = self.upsample(x)\n",
        "        x = torch.cat((x, level_4), dim=1)\n",
        "        x = self.dec4(x)\n",
        "        x = self.upsample(x)\n",
        "        x = torch.cat((x, level_3), dim=1)\n",
        "        x = self.dec3(x)\n",
        "        x = self.upsample(x)\n",
        "        x = torch.cat((x, level_2), dim=1)\n",
        "        x = self.dec2(x)\n",
        "        x = self.upsample(x)\n",
        "        x = torch.cat((x, level_1), dim=1)\n",
        "        x = self.dec1(x)\n",
        "        return x\n",
        "\n",
        "class UNet3D(nn.Module):\n",
        "    def __init__(self, out_channels=2, n_scorers=5):\n",
        "        super(UNet3D, self).__init__()\n",
        "        self.encoder = Encoder()\n",
        "        self.decoder = Decoder()\n",
        "        self.final_conv_xy = nn.Conv3d(8, out_channels, kernel_size=1)\n",
        "        self.final_conv_lambda = nn.Conv3d(8, n_scorers, kernel_size=1)\n",
        "\n",
        "    def forward(self, x):\n",
        "        x, level_1, level_2, level_3, level_4 = self.encoder(x)\n",
        "        x = self.decoder(x, level_1, level_2, level_3, level_4)\n",
        "        xy = self.final_conv_xy(x)\n",
        "        x_lambda = self.final_conv_lambda(x)\n",
        "        return torch.cat((xy, x_lambda), dim=1)\n",
        "\n",
        "# Example instantiation of the model\n",
        "model = UNet3D(out_channels=2, n_scorers=2)\n",
        "print(model)"
      ],
      "metadata": {
        "colab": {
          "base_uri": "https://localhost:8080/"
        },
        "id": "qGJsUJcPmzRn",
        "outputId": "89bf99ee-9eb1-458a-dbe6-454e550ff653"
      },
      "execution_count": null,
      "outputs": [
        {
          "output_type": "stream",
          "name": "stdout",
          "text": [
            "UNet3D(\n",
            "  (encoder): Encoder(\n",
            "    (enc1): ConvBlock(\n",
            "      (conv1): Conv3d(3, 8, kernel_size=(3, 3, 3), stride=(1, 1, 1), padding=(1, 1, 1))\n",
            "      (conv2): Conv3d(8, 8, kernel_size=(3, 3, 3), stride=(1, 1, 1), padding=(1, 1, 1))\n",
            "      (bn1): BatchNorm3d(8, eps=1e-05, momentum=0.1, affine=True, track_running_stats=True)\n",
            "      (bn2): BatchNorm3d(8, eps=1e-05, momentum=0.1, affine=True, track_running_stats=True)\n",
            "    )\n",
            "    (pool1): MaxPool3d(kernel_size=2, stride=2, padding=0, dilation=1, ceil_mode=False)\n",
            "    (enc2): ConvBlock(\n",
            "      (conv1): Conv3d(8, 16, kernel_size=(3, 3, 3), stride=(1, 1, 1), padding=(1, 1, 1))\n",
            "      (conv2): Conv3d(16, 16, kernel_size=(3, 3, 3), stride=(1, 1, 1), padding=(1, 1, 1))\n",
            "      (bn1): BatchNorm3d(16, eps=1e-05, momentum=0.1, affine=True, track_running_stats=True)\n",
            "      (bn2): BatchNorm3d(16, eps=1e-05, momentum=0.1, affine=True, track_running_stats=True)\n",
            "    )\n",
            "    (pool2): MaxPool3d(kernel_size=2, stride=2, padding=0, dilation=1, ceil_mode=False)\n",
            "    (enc3): ConvBlock(\n",
            "      (conv1): Conv3d(16, 32, kernel_size=(3, 3, 3), stride=(1, 1, 1), padding=(1, 1, 1))\n",
            "      (conv2): Conv3d(32, 32, kernel_size=(3, 3, 3), stride=(1, 1, 1), padding=(1, 1, 1))\n",
            "      (bn1): BatchNorm3d(32, eps=1e-05, momentum=0.1, affine=True, track_running_stats=True)\n",
            "      (bn2): BatchNorm3d(32, eps=1e-05, momentum=0.1, affine=True, track_running_stats=True)\n",
            "    )\n",
            "    (pool3): MaxPool3d(kernel_size=2, stride=2, padding=0, dilation=1, ceil_mode=False)\n",
            "    (enc4): ConvBlock(\n",
            "      (conv1): Conv3d(32, 64, kernel_size=(3, 3, 3), stride=(1, 1, 1), padding=(1, 1, 1))\n",
            "      (conv2): Conv3d(64, 64, kernel_size=(3, 3, 3), stride=(1, 1, 1), padding=(1, 1, 1))\n",
            "      (bn1): BatchNorm3d(64, eps=1e-05, momentum=0.1, affine=True, track_running_stats=True)\n",
            "      (bn2): BatchNorm3d(64, eps=1e-05, momentum=0.1, affine=True, track_running_stats=True)\n",
            "    )\n",
            "    (pool4): MaxPool3d(kernel_size=2, stride=2, padding=0, dilation=1, ceil_mode=False)\n",
            "  )\n",
            "  (decoder): Decoder(\n",
            "    (dec4): ConvBlock(\n",
            "      (conv1): Conv3d(128, 64, kernel_size=(3, 3, 3), stride=(1, 1, 1), padding=(1, 1, 1))\n",
            "      (conv2): Conv3d(64, 64, kernel_size=(3, 3, 3), stride=(1, 1, 1), padding=(1, 1, 1))\n",
            "      (bn1): BatchNorm3d(64, eps=1e-05, momentum=0.1, affine=True, track_running_stats=True)\n",
            "      (bn2): BatchNorm3d(64, eps=1e-05, momentum=0.1, affine=True, track_running_stats=True)\n",
            "    )\n",
            "    (dec3): ConvBlock(\n",
            "      (conv1): Conv3d(64, 32, kernel_size=(3, 3, 3), stride=(1, 1, 1), padding=(1, 1, 1))\n",
            "      (conv2): Conv3d(32, 32, kernel_size=(3, 3, 3), stride=(1, 1, 1), padding=(1, 1, 1))\n",
            "      (bn1): BatchNorm3d(32, eps=1e-05, momentum=0.1, affine=True, track_running_stats=True)\n",
            "      (bn2): BatchNorm3d(32, eps=1e-05, momentum=0.1, affine=True, track_running_stats=True)\n",
            "    )\n",
            "    (dec2): ConvBlock(\n",
            "      (conv1): Conv3d(32, 16, kernel_size=(3, 3, 3), stride=(1, 1, 1), padding=(1, 1, 1))\n",
            "      (conv2): Conv3d(16, 16, kernel_size=(3, 3, 3), stride=(1, 1, 1), padding=(1, 1, 1))\n",
            "      (bn1): BatchNorm3d(16, eps=1e-05, momentum=0.1, affine=True, track_running_stats=True)\n",
            "      (bn2): BatchNorm3d(16, eps=1e-05, momentum=0.1, affine=True, track_running_stats=True)\n",
            "    )\n",
            "    (dec1): ConvBlock(\n",
            "      (conv1): Conv3d(16, 8, kernel_size=(3, 3, 3), stride=(1, 1, 1), padding=(1, 1, 1))\n",
            "      (conv2): Conv3d(8, 8, kernel_size=(3, 3, 3), stride=(1, 1, 1), padding=(1, 1, 1))\n",
            "      (bn1): BatchNorm3d(8, eps=1e-05, momentum=0.1, affine=True, track_running_stats=True)\n",
            "      (bn2): BatchNorm3d(8, eps=1e-05, momentum=0.1, affine=True, track_running_stats=True)\n",
            "    )\n",
            "    (upsample): Upsample(scale_factor=(2.0, 2.0, 2.0), mode='trilinear')\n",
            "  )\n",
            "  (final_conv_xy): Conv3d(8, 2, kernel_size=(1, 1, 1), stride=(1, 1, 1))\n",
            "  (final_conv_lambda): Conv3d(8, 2, kernel_size=(1, 1, 1), stride=(1, 1, 1))\n",
            ")\n"
          ]
        }
      ]
    },
    {
      "cell_type": "code",
      "source": [
        "import torch\n",
        "import torch.nn as nn\n",
        "import torch.nn.functional as F\n",
        "from monai.networks.blocks import ResidualUnit, Convolution\n",
        "from monai.networks.layers import Act, Norm\n",
        "from typing import Sequence\n",
        "\n",
        "class CustomUNet(nn.Module):\n",
        "    def __init__(\n",
        "        self,\n",
        "        spatial_dims: int,\n",
        "        in_channels: int,\n",
        "        out_channels: int,\n",
        "        n_scorers: int,\n",
        "        channels: Sequence[int],\n",
        "        strides: Sequence[int],\n",
        "        kernel_size: Sequence[int] | int = 3,\n",
        "        up_kernel_size: Sequence[int] | int = 3,\n",
        "        num_res_units: int = 0,\n",
        "        act: tuple | str = Act.PRELU,\n",
        "        norm: tuple | str = Norm.INSTANCE,\n",
        "        dropout: float = 0.0,\n",
        "        bias: bool = True,\n",
        "        adn_ordering: str = \"NDA\",\n",
        "    ) -> None:\n",
        "        super().__init__()\n",
        "\n",
        "        self.unet = UNet(\n",
        "            spatial_dims=spatial_dims,\n",
        "            in_channels=in_channels,\n",
        "            out_channels=channels[-1],  # output channels of the last layer in the UNet\n",
        "            channels=channels,\n",
        "            strides=strides,\n",
        "            kernel_size=kernel_size,\n",
        "            up_kernel_size=up_kernel_size,\n",
        "            num_res_units=num_res_units,\n",
        "            act=act,\n",
        "            norm=norm,\n",
        "            dropout=dropout,\n",
        "            bias=bias,\n",
        "            adn_ordering=adn_ordering,\n",
        "        )\n",
        "\n",
        "        self.final_conv_xy = Convolution(\n",
        "            spatial_dims=spatial_dims,\n",
        "            in_channels=channels[-1],\n",
        "            out_channels=out_channels,\n",
        "            kernel_size=1,\n",
        "            act=act,\n",
        "            norm=norm,\n",
        "            bias=bias,\n",
        "        )\n",
        "\n",
        "        self.final_conv_lambda = Convolution(\n",
        "            spatial_dims=spatial_dims,\n",
        "            in_channels=channels[-1],\n",
        "            out_channels=n_scorers,\n",
        "            kernel_size=1,\n",
        "            act=act,\n",
        "            norm=norm,\n",
        "            bias=bias,\n",
        "        )\n",
        "\n",
        "    def forward(self, x):\n",
        "        x = self.unet(x)\n",
        "        xy = self.final_conv_xy(x)\n",
        "        x_lambda = self.final_conv_lambda(x)\n",
        "        return torch.cat((xy, x_lambda), dim=1)"
      ],
      "metadata": {
        "id": "BgudlbVPtCNs"
      },
      "execution_count": null,
      "outputs": []
    },
    {
      "cell_type": "code",
      "source": [
        "model = CustomUNet(\n",
        "    spatial_dims=3,\n",
        "    in_channels=3,\n",
        "    out_channels=2,\n",
        "    channels=[16, 32, 64, 128, 256, 512],\n",
        "    strides=[2, 2, 2, 2, 2],\n",
        "    num_res_units=4,\n",
        "    norm=\"batch\",\n",
        "    act=\"PReLU\",\n",
        "    dropout=0.15,\n",
        "    n_scorers=2,\n",
        ").to(device)\n",
        "torch.backends.cudnn.benchmark = True\n",
        "config = TcgeConfig_pytorch_3D(num_annotators=2, num_classes=2)\n",
        "loss_function = TcgeSs_pytorch_3D(config)\n",
        "optimizer = torch.optim.AdamW(model.parameters(), lr=1e-4, weight_decay=3e-5)"
      ],
      "metadata": {
        "id": "kNW2MRciqDDl"
      },
      "execution_count": null,
      "outputs": []
    },
    {
      "cell_type": "code",
      "source": [
        "data_in = (train_loader, test_loader)\n",
        "model_dir = \"./model_results\"\n",
        "\n",
        "\n",
        "post_label = monai.transforms.AsDiscrete(to_onehot=2)\n",
        "post_pred = monai.transforms.AsDiscrete(argmax=True, to_onehot=2)\n",
        "dice_metric = DiceMetric(include_background=False, reduction=\"mean\", get_not_nans=False)\n",
        "iou_metric = monai.metrics.MeanIoU(\n",
        "    include_background=False, reduction=\"mean\", get_not_nans=False\n",
        ")\n",
        "\n",
        "train_Multiple_Annotators(\n",
        "    model=model,\n",
        "    data_in=(train_loader, test_loader),\n",
        "    loss=loss_function,\n",
        "    optim=optimizer,\n",
        "    max_epochs=1000,\n",
        "    model_dir=model_dir,\n",
        "    device=device,\n",
        "    name=\"Prostate158_multiple_labelers\",\n",
        "    test_interval=2,\n",
        "    start_epoch=0,\n",
        ")"
      ],
      "metadata": {
        "colab": {
          "base_uri": "https://localhost:8080/",
          "height": 773
        },
        "id": "14W8WkkZsPoU",
        "outputId": "4ff80b0a-402d-4e78-bc3e-a05ceac406cc"
      },
      "execution_count": null,
      "outputs": [
        {
          "output_type": "stream",
          "name": "stdout",
          "text": [
            "--------------------------------------------------\n",
            "2024-07-10 09:26:00 - epoch 1/1000\n"
          ]
        },
        {
          "output_type": "stream",
          "name": "stderr",
          "text": [
            "2024-07-10 09:26:05 - Epoch 1:   0%|          | 0/29 [00:05<?, ?batch/s]\n"
          ]
        },
        {
          "output_type": "error",
          "ename": "RuntimeError",
          "evalue": "CUDA error: device-side assert triggered\nCUDA kernel errors might be asynchronously reported at some other API call, so the stacktrace below might be incorrect.\nFor debugging consider passing CUDA_LAUNCH_BLOCKING=1.\nCompile with `TORCH_USE_CUDA_DSA` to enable device-side assertions.\n",
          "traceback": [
            "\u001b[0;31m---------------------------------------------------------------------------\u001b[0m",
            "\u001b[0;31mRuntimeError\u001b[0m                              Traceback (most recent call last)",
            "\u001b[0;32m<ipython-input-126-26004b0ce253>\u001b[0m in \u001b[0;36m<cell line: 12>\u001b[0;34m()\u001b[0m\n\u001b[1;32m     10\u001b[0m )\n\u001b[1;32m     11\u001b[0m \u001b[0;34m\u001b[0m\u001b[0m\n\u001b[0;32m---> 12\u001b[0;31m train_Multiple_Annotators(\n\u001b[0m\u001b[1;32m     13\u001b[0m     \u001b[0mmodel\u001b[0m\u001b[0;34m=\u001b[0m\u001b[0mmodel\u001b[0m\u001b[0;34m,\u001b[0m\u001b[0;34m\u001b[0m\u001b[0;34m\u001b[0m\u001b[0m\n\u001b[1;32m     14\u001b[0m     \u001b[0mdata_in\u001b[0m\u001b[0;34m=\u001b[0m\u001b[0;34m(\u001b[0m\u001b[0mtrain_loader\u001b[0m\u001b[0;34m,\u001b[0m \u001b[0mtest_loader\u001b[0m\u001b[0;34m)\u001b[0m\u001b[0;34m,\u001b[0m\u001b[0;34m\u001b[0m\u001b[0;34m\u001b[0m\u001b[0m\n",
            "\u001b[0;32m<ipython-input-125-6b60891f62e4>\u001b[0m in \u001b[0;36mtrain_Multiple_Annotators\u001b[0;34m(model, data_in, loss, optim, max_epochs, model_dir, device, name, test_interval, start_epoch)\u001b[0m\n\u001b[1;32m     51\u001b[0m                 \u001b[0;31m# print(volume.shape)\u001b[0m\u001b[0;34m\u001b[0m\u001b[0;34m\u001b[0m\u001b[0m\n\u001b[1;32m     52\u001b[0m                 \u001b[0;31m#print(label.shape)\u001b[0m\u001b[0;34m\u001b[0m\u001b[0;34m\u001b[0m\u001b[0m\n\u001b[0;32m---> 53\u001b[0;31m                 \u001b[0mvolume\u001b[0m\u001b[0;34m,\u001b[0m \u001b[0mlabels\u001b[0m \u001b[0;34m=\u001b[0m \u001b[0;34m(\u001b[0m\u001b[0mvolume\u001b[0m\u001b[0;34m.\u001b[0m\u001b[0mto\u001b[0m\u001b[0;34m(\u001b[0m\u001b[0mdevice\u001b[0m\u001b[0;34m)\u001b[0m\u001b[0;34m,\u001b[0m \u001b[0mlabel\u001b[0m\u001b[0;34m.\u001b[0m\u001b[0mto\u001b[0m\u001b[0;34m(\u001b[0m\u001b[0mdevice\u001b[0m\u001b[0;34m)\u001b[0m\u001b[0;34m)\u001b[0m\u001b[0;34m\u001b[0m\u001b[0;34m\u001b[0m\u001b[0m\n\u001b[0m\u001b[1;32m     54\u001b[0m \u001b[0;34m\u001b[0m\u001b[0m\n\u001b[1;32m     55\u001b[0m                 \u001b[0moptim\u001b[0m\u001b[0;34m.\u001b[0m\u001b[0mzero_grad\u001b[0m\u001b[0;34m(\u001b[0m\u001b[0;34m)\u001b[0m\u001b[0;34m\u001b[0m\u001b[0;34m\u001b[0m\u001b[0m\n",
            "\u001b[0;32m/usr/local/lib/python3.10/dist-packages/monai/data/meta_tensor.py\u001b[0m in \u001b[0;36m__torch_function__\u001b[0;34m(cls, func, types, args, kwargs)\u001b[0m\n\u001b[1;32m    280\u001b[0m         \u001b[0;32mif\u001b[0m \u001b[0mkwargs\u001b[0m \u001b[0;32mis\u001b[0m \u001b[0;32mNone\u001b[0m\u001b[0;34m:\u001b[0m\u001b[0;34m\u001b[0m\u001b[0;34m\u001b[0m\u001b[0m\n\u001b[1;32m    281\u001b[0m             \u001b[0mkwargs\u001b[0m \u001b[0;34m=\u001b[0m \u001b[0;34m{\u001b[0m\u001b[0;34m}\u001b[0m\u001b[0;34m\u001b[0m\u001b[0;34m\u001b[0m\u001b[0m\n\u001b[0;32m--> 282\u001b[0;31m         \u001b[0mret\u001b[0m \u001b[0;34m=\u001b[0m \u001b[0msuper\u001b[0m\u001b[0;34m(\u001b[0m\u001b[0;34m)\u001b[0m\u001b[0;34m.\u001b[0m\u001b[0m__torch_function__\u001b[0m\u001b[0;34m(\u001b[0m\u001b[0mfunc\u001b[0m\u001b[0;34m,\u001b[0m \u001b[0mtypes\u001b[0m\u001b[0;34m,\u001b[0m \u001b[0margs\u001b[0m\u001b[0;34m,\u001b[0m \u001b[0mkwargs\u001b[0m\u001b[0;34m)\u001b[0m\u001b[0;34m\u001b[0m\u001b[0;34m\u001b[0m\u001b[0m\n\u001b[0m\u001b[1;32m    283\u001b[0m         \u001b[0;31m# if `out` has been used as argument, metadata is not copied, nothing to do.\u001b[0m\u001b[0;34m\u001b[0m\u001b[0;34m\u001b[0m\u001b[0m\n\u001b[1;32m    284\u001b[0m         \u001b[0;31m# if \"out\" in kwargs:\u001b[0m\u001b[0;34m\u001b[0m\u001b[0;34m\u001b[0m\u001b[0m\n",
            "\u001b[0;32m/usr/local/lib/python3.10/dist-packages/torch/_tensor.py\u001b[0m in \u001b[0;36m__torch_function__\u001b[0;34m(cls, func, types, args, kwargs)\u001b[0m\n\u001b[1;32m   1441\u001b[0m \u001b[0;34m\u001b[0m\u001b[0m\n\u001b[1;32m   1442\u001b[0m         \u001b[0;32mwith\u001b[0m \u001b[0m_C\u001b[0m\u001b[0;34m.\u001b[0m\u001b[0mDisableTorchFunctionSubclass\u001b[0m\u001b[0;34m(\u001b[0m\u001b[0;34m)\u001b[0m\u001b[0;34m:\u001b[0m\u001b[0;34m\u001b[0m\u001b[0;34m\u001b[0m\u001b[0m\n\u001b[0;32m-> 1443\u001b[0;31m             \u001b[0mret\u001b[0m \u001b[0;34m=\u001b[0m \u001b[0mfunc\u001b[0m\u001b[0;34m(\u001b[0m\u001b[0;34m*\u001b[0m\u001b[0margs\u001b[0m\u001b[0;34m,\u001b[0m \u001b[0;34m**\u001b[0m\u001b[0mkwargs\u001b[0m\u001b[0;34m)\u001b[0m\u001b[0;34m\u001b[0m\u001b[0;34m\u001b[0m\u001b[0m\n\u001b[0m\u001b[1;32m   1444\u001b[0m             \u001b[0;32mif\u001b[0m \u001b[0mfunc\u001b[0m \u001b[0;32min\u001b[0m \u001b[0mget_default_nowrap_functions\u001b[0m\u001b[0;34m(\u001b[0m\u001b[0;34m)\u001b[0m\u001b[0;34m:\u001b[0m\u001b[0;34m\u001b[0m\u001b[0;34m\u001b[0m\u001b[0m\n\u001b[1;32m   1445\u001b[0m                 \u001b[0;32mreturn\u001b[0m \u001b[0mret\u001b[0m\u001b[0;34m\u001b[0m\u001b[0;34m\u001b[0m\u001b[0m\n",
            "\u001b[0;31mRuntimeError\u001b[0m: CUDA error: device-side assert triggered\nCUDA kernel errors might be asynchronously reported at some other API call, so the stacktrace below might be incorrect.\nFor debugging consider passing CUDA_LAUNCH_BLOCKING=1.\nCompile with `TORCH_USE_CUDA_DSA` to enable device-side assertions.\n"
          ]
        }
      ]
    },
    {
      "cell_type": "code",
      "source": [],
      "metadata": {
        "id": "sQ2Fg9gdstKO"
      },
      "execution_count": null,
      "outputs": []
    }
  ],
  "metadata": {
    "colab": {
      "provenance": [],
      "gpuType": "T4",
      "toc_visible": true,
      "include_colab_link": true
    },
    "kernelspec": {
      "display_name": "Python 3",
      "name": "python3"
    },
    "language_info": {
      "name": "python"
    },
    "accelerator": "GPU"
  },
  "nbformat": 4,
  "nbformat_minor": 0
}